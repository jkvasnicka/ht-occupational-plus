{
 "cells": [
  {
   "cell_type": "markdown",
   "id": "c82379ac-5cde-47f4-8304-733c7f51f243",
   "metadata": {},
   "source": [
    "# Clean USIS Dataset\n",
    "**Author:** Jacob Kvasnicka <br>\n",
    "**Date:** September 24, 2024"
   ]
  },
  {
   "cell_type": "markdown",
   "id": "7dc3fe52-4a67-4943-8532-c79d6d564ec9",
   "metadata": {},
   "source": [
    "## Setup"
   ]
  },
  {
   "cell_type": "code",
   "execution_count": 1,
   "id": "312dc3bb-d9fa-4355-890f-c0e9a0abb6e0",
   "metadata": {},
   "outputs": [],
   "source": [
    "import pandas as pd\n",
    "import numpy as np\n",
    "import random\n",
    "import json\n",
    "\n",
    "from config_management import UnifiedConfiguration\n",
    "from raw_processing.cehd_cleaning import CehdCleaner\n",
    "from raw_processing import cehd_loading\n",
    "from raw_processing import usis\n",
    "from raw_processing.tests import test_cehd, test_usis\n",
    "\n",
    "config = UnifiedConfiguration()"
   ]
  },
  {
   "cell_type": "code",
   "execution_count": 13,
   "id": "23ee600c-be89-45e2-bab3-725c136b540f",
   "metadata": {},
   "outputs": [],
   "source": [
    "expected_cehd = test_cehd.load_test_data(config.path)"
   ]
  },
  {
   "cell_type": "code",
   "execution_count": 21,
   "id": "bfa9d284-7bc0-4ea7-976f-c8a75c30d286",
   "metadata": {},
   "outputs": [],
   "source": [
    "raw_cehd = cehd_loading.raw_chem_exposure_health_data(config.cehd, config.path)\n",
    "\n",
    "# cehd_cleaner = CehdCleaner(config.path, config.cehd)\n",
    "\n",
    "# cehd_data = cehd_cleaner.clean_raw_data(raw_cehd)"
   ]
  },
  {
   "cell_type": "code",
   "execution_count": 2,
   "id": "37fcad4b-f78e-4480-b3e5-4b8196f9e72d",
   "metadata": {},
   "outputs": [],
   "source": [
    "expected_usis = test_usis.load_test_data(config.path)"
   ]
  },
  {
   "cell_type": "code",
   "execution_count": 22,
   "id": "a8e2ae72-4b4e-49af-9f16-faddc8daf4de",
   "metadata": {},
   "outputs": [],
   "source": [
    "raw_usis = usis.load_raw_usis_data(config.path['raw_usis_file'])\n",
    "\n",
    "# usis_cleaner = usis.UsisCleaner(config.path, config.usis)\n",
    "\n",
    "# usis_data = usis_cleaner.clean_raw_data(raw_usis)"
   ]
  },
  {
   "cell_type": "code",
   "execution_count": 11,
   "id": "8577a88d-5f62-46a7-8432-9746af316559",
   "metadata": {},
   "outputs": [
    {
     "data": {
      "text/plain": [
       "433365"
      ]
     },
     "execution_count": 11,
     "metadata": {},
     "output_type": "execute_result"
    }
   ],
   "source": [
    "(usis_data['exposure_type_id'] == 'T').sum()"
   ]
  },
  {
   "cell_type": "code",
   "execution_count": 19,
   "id": "f9ad70f3-1964-4867-aab9-62292ded18d9",
   "metadata": {},
   "outputs": [
    {
     "data": {
      "text/plain": [
       "61160"
      ]
     },
     "execution_count": 19,
     "metadata": {},
     "output_type": "execute_result"
    }
   ],
   "source": [
    "(expected_cehd['eight_hour_twa_calc'] == 'Y').sum()"
   ]
  }
 ],
 "metadata": {
  "kernelspec": {
   "display_name": "chiu-lab",
   "language": "python",
   "name": "chiu-lab"
  },
  "language_info": {
   "codemirror_mode": {
    "name": "ipython",
    "version": 3
   },
   "file_extension": ".py",
   "mimetype": "text/x-python",
   "name": "python",
   "nbconvert_exporter": "python",
   "pygments_lexer": "ipython3",
   "version": "3.11.0"
  }
 },
 "nbformat": 4,
 "nbformat_minor": 5
}
