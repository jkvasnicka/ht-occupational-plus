{
 "cells": [
  {
   "cell_type": "markdown",
   "id": "c82379ac-5cde-47f4-8304-733c7f51f243",
   "metadata": {},
   "source": [
    "# Clean USIS Dataset\n",
    "**Author:** Jacob Kvasnicka <br>\n",
    "**Date:** September 24, 2024"
   ]
  },
  {
   "cell_type": "markdown",
   "id": "7dc3fe52-4a67-4943-8532-c79d6d564ec9",
   "metadata": {},
   "source": [
    "## Setup"
   ]
  },
  {
   "cell_type": "code",
   "execution_count": 2,
   "id": "312dc3bb-d9fa-4355-890f-c0e9a0abb6e0",
   "metadata": {},
   "outputs": [],
   "source": [
    "import pandas as pd\n",
    "import numpy as np\n",
    "import random\n",
    "import json\n",
    "\n",
    "from config_management import UnifiedConfiguration\n",
    "from raw_processing import cehd_cleaning, cehd_loading, usis_cleaning"
   ]
  },
  {
   "cell_type": "code",
   "execution_count": 2,
   "id": "747b7532-0ed0-45fe-ac8e-42a241f1fafe",
   "metadata": {},
   "outputs": [],
   "source": [
    "# Clean dupliates in USIS\n",
    "# Determine which years to focus on\n",
    "# Extract NAICS and see which sectors/subsectors covered\n",
    "# Prepare target\n",
    "# Build ML models for CEHD, USIS, and the union"
   ]
  },
  {
   "cell_type": "code",
   "execution_count": 11,
   "id": "33f71f5d-95d8-4d49-9d51-5a99ade275d9",
   "metadata": {},
   "outputs": [
    {
     "data": {
      "text/plain": [
       "(1346556, 29)"
      ]
     },
     "execution_count": 11,
     "metadata": {},
     "output_type": "execute_result"
    }
   ],
   "source": [
    "cehd_file = 'raw_processing/tests/expected_cehd.feather'\n",
    "cehd = pd.read_feather(cehd_file).set_index('index')\n",
    "\n",
    "cehd.shape"
   ]
  },
  {
   "cell_type": "code",
   "execution_count": 29,
   "id": "8d2c154e-8246-4150-afb1-c05f592055b2",
   "metadata": {},
   "outputs": [
    {
     "data": {
      "text/plain": [
       "(730586, 50)"
      ]
     },
     "execution_count": 29,
     "metadata": {},
     "output_type": "execute_result"
    }
   ],
   "source": [
    "usis_file = 'input/raw/osha/usis/USIS_data.feather'\n",
    "usis = pd.read_feather(usis_file)\n",
    "\n",
    "usis = usis_cleaning.clean_usis_data(usis)\n",
    "\n",
    "usis.shape"
   ]
  },
  {
   "cell_type": "code",
   "execution_count": null,
   "id": "e15c54f7-6fb0-4d09-98e3-5796be14006e",
   "metadata": {},
   "outputs": [],
   "source": []
  }
 ],
 "metadata": {
  "kernelspec": {
   "display_name": "chiu-lab",
   "language": "python",
   "name": "chiu-lab"
  },
  "language_info": {
   "codemirror_mode": {
    "name": "ipython",
    "version": 3
   },
   "file_extension": ".py",
   "mimetype": "text/x-python",
   "name": "python",
   "nbconvert_exporter": "python",
   "pygments_lexer": "ipython3",
   "version": "3.11.0"
  }
 },
 "nbformat": 4,
 "nbformat_minor": 5
}
