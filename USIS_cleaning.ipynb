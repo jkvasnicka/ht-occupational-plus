{
 "cells": [
  {
   "cell_type": "markdown",
   "id": "c82379ac-5cde-47f4-8304-733c7f51f243",
   "metadata": {},
   "source": [
    "# Clean USIS Dataset\n",
    "**Author:** Jacob Kvasnicka <br>\n",
    "**Date:** September 24, 2024"
   ]
  },
  {
   "cell_type": "markdown",
   "id": "7dc3fe52-4a67-4943-8532-c79d6d564ec9",
   "metadata": {},
   "source": [
    "## Setup"
   ]
  },
  {
   "cell_type": "code",
   "execution_count": 1,
   "id": "312dc3bb-d9fa-4355-890f-c0e9a0abb6e0",
   "metadata": {},
   "outputs": [],
   "source": [
    "import pandas as pd\n",
    "import random\n",
    "import json\n",
    "\n",
    "from config_management import UnifiedConfiguration\n",
    "from raw_processing import cehd_cleaning, cehd_loading"
   ]
  },
  {
   "cell_type": "code",
   "execution_count": 2,
   "id": "747b7532-0ed0-45fe-ac8e-42a241f1fafe",
   "metadata": {},
   "outputs": [],
   "source": [
    "# Clean the USIS data for consistency with CEHD\n",
    "# Determine which years to focus on\n",
    "# Extract NAICS and see which sectors/subsectors covered\n",
    "# Build ML models for CEHD, USIS, and the union"
   ]
  },
  {
   "cell_type": "code",
   "execution_count": 2,
   "id": "33f71f5d-95d8-4d49-9d51-5a99ade275d9",
   "metadata": {},
   "outputs": [
    {
     "data": {
      "text/plain": [
       "(1346556, 29)"
      ]
     },
     "execution_count": 2,
     "metadata": {},
     "output_type": "execute_result"
    }
   ],
   "source": [
    "cehd_file = r\"C:\\Users\\jmank\\Repositories\\ht-occupational-plus\\raw_processing\\tests\\expected_cehd.feather\"\n",
    "cehd = pd.read_feather(cehd_file).set_index('index')\n",
    "\n",
    "cehd.shape"
   ]
  },
  {
   "cell_type": "code",
   "execution_count": 3,
   "id": "8d2c154e-8246-4150-afb1-c05f592055b2",
   "metadata": {},
   "outputs": [
    {
     "data": {
      "text/plain": [
       "(765337, 49)"
      ]
     },
     "execution_count": 3,
     "metadata": {},
     "output_type": "execute_result"
    }
   ],
   "source": [
    "usis_file = r\"C:\\Users\\jmank\\Repositories\\ht-occupational-plus\\input\\raw\\osha\\usis\\USIS_data.feather\"\n",
    "\n",
    "usis = pd.read_feather(usis_file)\n",
    "\n",
    "usis.shape"
   ]
  },
  {
   "cell_type": "code",
   "execution_count": 13,
   "id": "85df7d76-11a3-4324-a09b-5b6d79fb015e",
   "metadata": {},
   "outputs": [
    {
     "data": {
      "text/plain": [
       "Personal    0.954594\n",
       "Area        0.045406\n",
       "Name: sample_type_name, dtype: float64"
      ]
     },
     "execution_count": 13,
     "metadata": {},
     "output_type": "execute_result"
    }
   ],
   "source": [
    "# Filter out non-personal\n",
    "usis['sample_type_name'].value_counts() / len(usis)"
   ]
  },
  {
   "cell_type": "code",
   "execution_count": 38,
   "id": "acdfbbdf-79c6-4726-a51c-da3e3df3bd1a",
   "metadata": {},
   "outputs": [
    {
     "data": {
      "text/plain": [
       "Full Shift Time Weighted Average (TWA)    0.585060\n",
       "Ceiling                                   0.066895\n",
       "Short Term Exposure Limit                 0.024594\n",
       "Peak                                      0.016337\n",
       "Name: exposure_type_name, dtype: float64"
      ]
     },
     "execution_count": 38,
     "metadata": {},
     "output_type": "execute_result"
    }
   ],
   "source": [
    "# Filter out non-full-shift?\n",
    "usis['exposure_type_name'].value_counts() / len(usis)"
   ]
  },
  {
   "cell_type": "code",
   "execution_count": 50,
   "id": "5945ddb4-f5fc-4461-a995-80af15c10649",
   "metadata": {},
   "outputs": [
    {
     "data": {
      "text/plain": [
       "count    1.346556e+06\n",
       "mean     2.124963e+02\n",
       "std      1.535882e+02\n",
       "min      5.000000e-02\n",
       "25%      8.600000e+01\n",
       "50%      1.840000e+02\n",
       "75%      3.300000e+02\n",
       "max      8.214000e+03\n",
       "Name: time_sampled, dtype: float64"
      ]
     },
     "execution_count": 50,
     "metadata": {},
     "output_type": "execute_result"
    }
   ],
   "source": [
    "# How to handle short-term samples?\n",
    "cehd['time_sampled'].describe()"
   ]
  },
  {
   "cell_type": "code",
   "execution_count": 46,
   "id": "fde200d2-4cbf-4220-955a-2590f5363f08",
   "metadata": {},
   "outputs": [
    {
     "data": {
      "text/plain": [
       "M              1042056\n",
       "P               255381\n",
       "F                18616\n",
       "%                15760\n",
       "M.from.Perc      14743\n",
       "Name: unit_of_measurement, dtype: int64"
      ]
     },
     "execution_count": 46,
     "metadata": {},
     "output_type": "execute_result"
    }
   ],
   "source": [
    "# Convert all units to mg/m3 - check Jeff's code\n",
    "cehd['unit_of_measurement'].value_counts()\n",
    "usis['measure_unit_id'].value_counts()"
   ]
  },
  {
   "cell_type": "code",
   "execution_count": 18,
   "id": "ec6ddc60-e6e6-40aa-862e-de657c6c8a35",
   "metadata": {},
   "outputs": [
    {
     "data": {
      "text/plain": [
       "0         2006-03-30\n",
       "1         2006-03-30\n",
       "2         2006-03-30\n",
       "3         2006-05-17\n",
       "4         2007-04-04\n",
       "             ...    \n",
       "765332    2021-07-23\n",
       "765333    2021-07-23\n",
       "765334    2021-07-23\n",
       "765335    2021-07-23\n",
       "765336    2021-07-23\n",
       "Name: sample_date, Length: 765337, dtype: object"
      ]
     },
     "execution_count": 18,
     "metadata": {},
     "output_type": "execute_result"
    }
   ],
   "source": [
    "# Extract sampled year as separate column\n",
    "usis['sample_date']"
   ]
  },
  {
   "cell_type": "code",
   "execution_count": null,
   "id": "4cbaf99e-74db-4131-83b0-6e3e36559e0e",
   "metadata": {},
   "outputs": [],
   "source": []
  }
 ],
 "metadata": {
  "kernelspec": {
   "display_name": "chiu-lab",
   "language": "python",
   "name": "chiu-lab"
  },
  "language_info": {
   "codemirror_mode": {
    "name": "ipython",
    "version": 3
   },
   "file_extension": ".py",
   "mimetype": "text/x-python",
   "name": "python",
   "nbconvert_exporter": "python",
   "pygments_lexer": "ipython3",
   "version": "3.11.0"
  }
 },
 "nbformat": 4,
 "nbformat_minor": 5
}
