{
 "cells": [
  {
   "cell_type": "markdown",
   "id": "c88f6b19-e98b-4e6c-8472-c34ace2fbe68",
   "metadata": {},
   "source": [
    "# Team Meeting Update\n",
    "\n",
    "## Objective\n",
    "To standardize historical SIC and NAICS codes in the dataset to the 2022 NAICS standard for consistency and completeness.\n",
    "\n",
    "---\n",
    "\n",
    "## Approach\n",
    "\n",
    "1. **SIC-to-NAICS Conversion:**\n",
    "   - Where `NAICS_CODE` is missing but `SIC_CODE` is available, map `SIC_CODE` to `NAICS_CODE` using the 1987 SIC-to-2002 NAICS concordance.\n",
    "\n",
    "2. **NAICS Code Harmonization:**\n",
    "   - Sequentially process NAICS concordance tables (e.g., 2002→2007, 2007→2012) to iteratively map older NAICS codes to the latest 2022 NAICS codes.\n",
    "\n",
    "3. **Final Mapping Application:**\n",
    "   - Replace all NAICS codes in the dataset with their harmonized 2022 equivalents.\n",
    "\n",
    "---\n",
    "\n",
    "## Outcome\n",
    "The dataset now has harmonized NAICS codes aligned to the 2022 standard, ensuring consistency across historical records. Unmapped codes, if any, are flagged for review.\n"
   ]
  },
  {
   "cell_type": "code",
   "execution_count": 1,
   "id": "7d52d040-c85a-47ba-8f4d-42362feb1cc5",
   "metadata": {},
   "outputs": [],
   "source": [
    "import pandas as pd\n",
    "import numpy as np \n",
    "import os \n",
    "\n",
    "from config_management import UnifiedConfiguration\n",
    "from raw_processing import (\n",
    "    cehd_cleaning, \n",
    "    usis_cleaning,\n",
    "    osha_cleaning,\n",
    "    cehd_processing,\n",
    "    usis_processing,\n",
    "    osha_processing\n",
    ")\n",
    "import data_management\n",
    "import plot\n",
    "\n",
    "config = UnifiedConfiguration()"
   ]
  },
  {
   "cell_type": "code",
   "execution_count": 2,
   "id": "1f43833c-2d05-493e-9f0a-70753c0fe897",
   "metadata": {},
   "outputs": [],
   "source": [
    "usis_cleaner = usis_cleaning.UsisCleaner(config.usis, config.path, config.comptox)\n",
    "cehd_cleaner = cehd_cleaning.CehdCleaner(config.cehd, config.path, config.comptox)"
   ]
  },
  {
   "cell_type": "code",
   "execution_count": 2,
   "id": "b1813891-ccf4-4f50-9b19-b829139f4f9d",
   "metadata": {},
   "outputs": [],
   "source": [
    "usis_data = pd.read_feather(config.path['test_usis_file']).set_index('index')\n",
    "cehd_data = pd.read_feather(config.path['test_cehd_file']).set_index('index')"
   ]
  },
  {
   "cell_type": "code",
   "execution_count": 42,
   "id": "50d8d796-1789-4be9-9b67-1427c56f6aae",
   "metadata": {},
   "outputs": [],
   "source": [
    "# 1. \n",
    "combined_targets = osha_processing.combined_targets_from_raw(\n",
    "    config.usis, \n",
    "    config.cehd, \n",
    "    config.path, \n",
    "    comptox_settings=config.comptox,\n",
    "    write_dir=None # config.path['target_dir']\n",
    ")"
   ]
  },
  {
   "cell_type": "code",
   "execution_count": 3,
   "id": "24bfcbda-7b24-4cdb-8946-6c44165c2666",
   "metadata": {},
   "outputs": [],
   "source": [
    "# 2.\n",
    "combined_targets = osha_processing.combined_targets_from_data(\n",
    "    usis_data, \n",
    "    cehd_data, \n",
    "    config.usis, \n",
    "    config.cehd, \n",
    "    write_dir=None # config.path['target_dir']\n",
    ")"
   ]
  },
  {
   "cell_type": "code",
   "execution_count": 4,
   "id": "e48a4a30-290c-473a-b9c8-932e9654a849",
   "metadata": {},
   "outputs": [
    {
     "name": "stdout",
     "output_type": "stream",
     "text": [
      "sector\n",
      "None\n"
     ]
    }
   ],
   "source": [
    "combined_test_targets = data_management.read_targets(config.path['target_dir'])\n",
    "\n",
    "for k, y in combined_targets.items():\n",
    "    print(k)\n",
    "    y_test = combined_test_targets[k]\n",
    "    print(pd.testing.assert_series_equal(y, y_test, check_index=False))\n",
    "    break"
   ]
  },
  {
   "cell_type": "code",
   "execution_count": 4,
   "id": "c7d6dea2-cdcb-4f10-aaf2-d4d531f12b6b",
   "metadata": {},
   "outputs": [],
   "source": [
    "# 3. \n",
    "usis_cleaner = usis_cleaning.UsisCleaner(\n",
    "    config.usis,\n",
    "    config.path, \n",
    "    config.comptox\n",
    ")\n",
    "usis_targets = osha_processing.targets_from_raw(\n",
    "    usis_cleaner,\n",
    "    usis_processing.full_shift_twa_per_sampling, \n",
    "    write_dir=None # config.path['usis_target_dir']\n",
    ")"
   ]
  },
  {
   "cell_type": "code",
   "execution_count": 6,
   "id": "9c024369-0e14-4d05-aac2-f8cdb718be21",
   "metadata": {},
   "outputs": [],
   "source": [
    "# 4. same as above, but NOT from raw\n",
    "usis_targets = osha_processing.targets_from_data(\n",
    "    usis_data, \n",
    "    usis_processing.full_shift_twa_per_sampling,\n",
    "    config.usis,\n",
    "    write_dir=None # config.path['usis_target_dir']\n",
    ")"
   ]
  },
  {
   "cell_type": "code",
   "execution_count": null,
   "id": "f0ea3ca7-5066-4078-a6da-a062ad840213",
   "metadata": {},
   "outputs": [],
   "source": [
    "usis_test_targets = data_management.read_targets(config.path['usis_target_dir'])\n",
    "\n",
    "for k, y in usis_targets.items():\n",
    "    print(k)\n",
    "    y_test = usis_test_targets[k]\n",
    "    print(pd.testing.assert_series_equal(y, y_test, check_index=False))\n",
    "    break"
   ]
  },
  {
   "cell_type": "code",
   "execution_count": 9,
   "id": "c4f4df23-bd29-4ccb-a754-b4b49023c4d1",
   "metadata": {},
   "outputs": [],
   "source": [
    "cehd_cleaner = cehd_cleaning.CehdCleaner(\n",
    "    config.cehd,\n",
    "    config.path, \n",
    "    config.comptox\n",
    ")\n",
    "cehd_targets = osha_processing.targets_from_raw(\n",
    "    cehd_cleaner,\n",
    "    cehd_processing.full_shift_twa_per_sampling, \n",
    "    write_dir=None # config.path['cehd_target_dir']\n",
    ")"
   ]
  },
  {
   "cell_type": "code",
   "execution_count": 7,
   "id": "35c4d19a-2b28-4396-87dd-2bbf309fb215",
   "metadata": {},
   "outputs": [],
   "source": [
    "cehd_targets = osha_processing.targets_from_data(\n",
    "    cehd_data, \n",
    "    cehd_processing.full_shift_twa_per_sampling,\n",
    "    config.cehd,\n",
    "    write_dir=None # config.path['cehd_target_dir']\n",
    ")"
   ]
  },
  {
   "cell_type": "code",
   "execution_count": 12,
   "id": "3b8a90ba-6bf3-46bb-bec1-86496bd454bf",
   "metadata": {},
   "outputs": [
    {
     "name": "stdout",
     "output_type": "stream",
     "text": [
      "sector\n",
      "None\n"
     ]
    }
   ],
   "source": [
    "cehd_test_targets = data_management.read_targets(config.path['cehd_target_dir'])\n",
    "\n",
    "for k, y in cehd_targets.items():\n",
    "    print(k)\n",
    "    y_test = cehd_test_targets[k]\n",
    "    print(pd.testing.assert_series_equal(y, y_test, check_index=False))\n",
    "    break"
   ]
  },
  {
   "cell_type": "markdown",
   "id": "a4f4481e-5541-40e7-acab-6b6d0c969909",
   "metadata": {},
   "source": [
    "## Scratch"
   ]
  },
  {
   "cell_type": "code",
   "execution_count": null,
   "id": "28e82833-11a6-4042-9324-49b2cdd969f6",
   "metadata": {},
   "outputs": [],
   "source": []
  }
 ],
 "metadata": {
  "kernelspec": {
   "display_name": "chiu-lab",
   "language": "python",
   "name": "chiu-lab"
  },
  "language_info": {
   "codemirror_mode": {
    "name": "ipython",
    "version": 3
   },
   "file_extension": ".py",
   "mimetype": "text/x-python",
   "name": "python",
   "nbconvert_exporter": "python",
   "pygments_lexer": "ipython3",
   "version": "3.11.0"
  }
 },
 "nbformat": 4,
 "nbformat_minor": 5
}
