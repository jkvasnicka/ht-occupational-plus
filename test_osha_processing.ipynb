{
 "cells": [
  {
   "cell_type": "markdown",
   "id": "c88f6b19-e98b-4e6c-8472-c34ace2fbe68",
   "metadata": {},
   "source": [
    "# Team Meeting Update\n",
    "\n",
    "## Objective\n",
    "To standardize historical SIC and NAICS codes in the dataset to the 2022 NAICS standard for consistency and completeness.\n",
    "\n",
    "---\n",
    "\n",
    "## Approach\n",
    "\n",
    "1. **SIC-to-NAICS Conversion:**\n",
    "   - Where `NAICS_CODE` is missing but `SIC_CODE` is available, map `SIC_CODE` to `NAICS_CODE` using the 1987 SIC-to-2002 NAICS concordance.\n",
    "\n",
    "2. **NAICS Code Harmonization:**\n",
    "   - Sequentially process NAICS concordance tables (e.g., 2002→2007, 2007→2012) to iteratively map older NAICS codes to the latest 2022 NAICS codes.\n",
    "\n",
    "3. **Final Mapping Application:**\n",
    "   - Replace all NAICS codes in the dataset with their harmonized 2022 equivalents.\n",
    "\n",
    "---\n",
    "\n",
    "## Outcome\n",
    "The dataset now has harmonized NAICS codes aligned to the 2022 standard, ensuring consistency across historical records. Unmapped codes, if any, are flagged for review.\n"
   ]
  },
  {
   "cell_type": "code",
   "execution_count": 1,
   "id": "7d52d040-c85a-47ba-8f4d-42362feb1cc5",
   "metadata": {},
   "outputs": [],
   "source": [
    "import pandas as pd\n",
    "import numpy as np \n",
    "import os \n",
    "\n",
    "from config_management import UnifiedConfiguration\n",
    "from raw_processing import (\n",
    "    cehd_cleaning, \n",
    "    usis_cleaning,\n",
    "    osha_cleaning,\n",
    "    cehd_processing,\n",
    "    usis_processing,\n",
    "    osha_processing\n",
    ")\n",
    "import data_management\n",
    "import plot\n",
    "\n",
    "config = UnifiedConfiguration()"
   ]
  },
  {
   "cell_type": "code",
   "execution_count": 2,
   "id": "1f43833c-2d05-493e-9f0a-70753c0fe897",
   "metadata": {},
   "outputs": [],
   "source": [
    "usis_cleaner = usis_cleaning.UsisCleaner(config.usis, config.path, config.comptox)\n",
    "cehd_cleaner = cehd_cleaning.CehdCleaner(config.cehd, config.path, config.comptox)"
   ]
  },
  {
   "cell_type": "code",
   "execution_count": 3,
   "id": "2a86c8de-ef18-482e-85fc-ceaf658f863d",
   "metadata": {},
   "outputs": [],
   "source": [
    "usis_data = usis_cleaner.clean_exposure_data()\n",
    "cehd_data = cehd_cleaner.clean_exposure_data()"
   ]
  },
  {
   "cell_type": "code",
   "execution_count": 9,
   "id": "f2a9d016-98c4-4cd4-8c7d-bfd833f760ff",
   "metadata": {},
   "outputs": [],
   "source": [
    "usis_data.reset_index().to_feather(config.path['test_usis_file'])\n",
    "cehd_data.reset_index().to_feather(config.path['test_cehd_file'])"
   ]
  },
  {
   "cell_type": "code",
   "execution_count": 3,
   "id": "b1813891-ccf4-4f50-9b19-b829139f4f9d",
   "metadata": {},
   "outputs": [],
   "source": [
    "usis_data = pd.read_feather(config.path['test_usis_file']).set_index('index')\n",
    "cehd_data = pd.read_feather(config.path['test_cehd_file']).set_index('index')"
   ]
  },
  {
   "cell_type": "code",
   "execution_count": 4,
   "id": "50d8d796-1789-4be9-9b67-1427c56f6aae",
   "metadata": {},
   "outputs": [],
   "source": [
    "# 1. \n",
    "combined_targets = osha_processing.combined_targets_from_raw(\n",
    "    config.usis, \n",
    "    config.cehd, \n",
    "    config.path, \n",
    "    comptox_settings=config.comptox,\n",
    "    write_dir=None # config.path['target_dir']\n",
    ")"
   ]
  },
  {
   "cell_type": "code",
   "execution_count": 10,
   "id": "24bfcbda-7b24-4cdb-8946-6c44165c2666",
   "metadata": {},
   "outputs": [],
   "source": [
    "# 2.\n",
    "combined_targets = osha_processing.combined_targets_from_data(\n",
    "    usis_data, \n",
    "    cehd_data, \n",
    "    config.usis, \n",
    "    config.cehd, \n",
    "    write_dir=None # config.path['target_dir']\n",
    ")"
   ]
  },
  {
   "cell_type": "code",
   "execution_count": 13,
   "id": "e48a4a30-290c-473a-b9c8-932e9654a849",
   "metadata": {},
   "outputs": [
    {
     "name": "stdout",
     "output_type": "stream",
     "text": [
      "sector\n",
      "None\n"
     ]
    }
   ],
   "source": [
    "combined_test_targets = data_management.read_targets(config.path['target_dir'])\n",
    "\n",
    "for k, y in combined_targets.items():\n",
    "    print(k)\n",
    "    y_test = combined_test_targets[k]\n",
    "    print(pd.testing.assert_series_equal(y, y_test, check_index=False))\n",
    "    break"
   ]
  }
 ],
 "metadata": {
  "kernelspec": {
   "display_name": "chiu-lab",
   "language": "python",
   "name": "chiu-lab"
  },
  "language_info": {
   "codemirror_mode": {
    "name": "ipython",
    "version": 3
   },
   "file_extension": ".py",
   "mimetype": "text/x-python",
   "name": "python",
   "nbconvert_exporter": "python",
   "pygments_lexer": "ipython3",
   "version": "3.11.0"
  }
 },
 "nbformat": 4,
 "nbformat_minor": 5
}
