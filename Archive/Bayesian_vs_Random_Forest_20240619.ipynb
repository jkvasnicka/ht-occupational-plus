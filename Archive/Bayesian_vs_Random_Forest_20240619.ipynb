{
 "cells": [
  {
   "cell_type": "markdown",
   "id": "275e1922-cbd1-4f08-97e4-6d4bc4681afa",
   "metadata": {},
   "source": [
    "# Analysis of Bayesian and Random Forest Models on OSHA Exposure Data\n",
    "\n",
    "**Date:** June 25, 2024 <br>\n",
    "**Author:** Jacob Kvasnicka\n",
    "\n",
    "The goal of this analysis is to replicate the original methodology in predicting air concentrations of chemicals using the OSHA data but involving a model that's less computationally intensive than the Bayesian hierarchical model. This comparison aims to determine if similar performance can be achieved with less complexity and computational demand. \n",
    "\n",
    "Initially, the performance metrics seem promising, indicating that the model performs comparably to the Bayesian model with high accuracy and low RMSE. However, further investigation suggests that the performances of both models might be artificially high, likely because of how the dataset was prepared:\n",
    "1. **Duplicate Values**: The dataset shows a significant number of duplicate values, the cause of which is unclear.\n",
    "2. **Data Leakage**:  Preprocessing steps like centering and scaling were conducted on the entire dataset prior to splitting, and a substantial portion of the test set data is also found in the training set. Essentially, the model was mostly evaluated on data it was trained on.\n",
    "\n",
    "## Description and Comparison of Model Approaches\n",
    "\n",
    "As an alternative to the Bayesian approach, I implemented a two-stage Random Forests approach, maintaining the exact training and test sets used in the Bayesian approach. The first stage classifies whether a sample has a detectable concentration, while the second stage predicts the concentration levels for those detectable samples.\n",
    "\n",
    "A key difference between the Bayesian model and the Random Forest is how the NAICS codes are incorporated. The original Bayesian model directly models  hierarchical effects to manage variability across different subsectors within sectors. In contrast, the Random Forest model does not directly model hierarchical effects but includes the one-hot-encoded subsectors as features alongside the physical-chemical property estimates."
   ]
  },
  {
   "cell_type": "code",
   "execution_count": 1,
   "id": "1e1faf63-71cb-4bf5-9015-a233dfefd7fc",
   "metadata": {},
   "outputs": [],
   "source": [
    "import os\n",
    "import pandas as pd\n",
    "import numpy as np\n",
    "import matplotlib.pyplot as plt\n",
    "from sklearn.ensemble import RandomForestClassifier, RandomForestRegressor\n",
    "from sklearn.metrics import accuracy_score, roc_auc_score, mean_squared_error"
   ]
  },
  {
   "cell_type": "code",
   "execution_count": 2,
   "id": "e82727bd-257d-4e11-a1a8-2304092acc18",
   "metadata": {},
   "outputs": [
    {
     "name": "stderr",
     "output_type": "stream",
     "text": [
      "C:\\Users\\jmank\\AppData\\Local\\Temp\\ipykernel_14732\\2868573236.py:2: DtypeWarning: Columns (0) have mixed types. Specify dtype option on import or set low_memory=False.\n",
      "  osha_full = pd.read_csv('../ht_occupational-1.0.0/output/osha_processed_full.csv')\n",
      "C:\\Users\\jmank\\AppData\\Local\\Temp\\ipykernel_14732\\2868573236.py:3: DtypeWarning: Columns (0) have mixed types. Specify dtype option on import or set low_memory=False.\n",
      "  osha_train = pd.read_csv('../ht_occupational-1.0.0/output/osha_processed_training.csv')\n"
     ]
    }
   ],
   "source": [
    "# Load data files\n",
    "osha_full = pd.read_csv('../ht_occupational-1.0.0/output/osha_processed_full.csv')\n",
    "osha_train = pd.read_csv('../ht_occupational-1.0.0/output/osha_processed_training.csv')\n",
    "osha_test = pd.read_csv('../ht_occupational-1.0.0/output/osha_processed_test.csv')"
   ]
  },
  {
   "cell_type": "code",
   "execution_count": 3,
   "id": "7ef3d3a7-bd5e-4dc9-a9ae-4180dbb20d47",
   "metadata": {},
   "outputs": [],
   "source": [
    "# Define data configuration settings\n",
    "data_config = {\n",
    "    'phys_chem_cols' : [\n",
    "        'logp_pred', \n",
    "        'bp_pred', \n",
    "        'loghl_pred', \n",
    "        'rt_pred', \n",
    "        'logoh_pred', \n",
    "        'logkoc_pred'\n",
    "    ],\n",
    "    'naics_col' : 'naics_unified',\n",
    "    'class_target_col' : 'detected',\n",
    "    'reg_target_col' : 'conc_mgm3',\n",
    "}"
   ]
  },
  {
   "cell_type": "markdown",
   "id": "da8bb12e-6a2f-44ac-a8f4-6d6612a40e5b",
   "metadata": {},
   "source": [
    "## Model Performance Comparison"
   ]
  },
  {
   "cell_type": "code",
   "execution_count": 4,
   "id": "5e42c83e-a423-4844-ba7e-60147d1657db",
   "metadata": {},
   "outputs": [],
   "source": [
    "def train_evaluate_classifier(\n",
    "        osha_train, \n",
    "        osha_test, \n",
    "        phys_chem_cols, \n",
    "        naics_col,\n",
    "        osha_full,\n",
    "        target_col\n",
    "    ):\n",
    "    '''\n",
    "    Train and evaluate a RandomForestClassifier on binary classification data.\n",
    "\n",
    "    Parameters\n",
    "    ----------\n",
    "    osha_train : pd.DataFrame\n",
    "        Training dataset containing features and target.\n",
    "    osha_test : pd.DataFrame\n",
    "        Test dataset containing features and target.\n",
    "    phys_chem_cols : list\n",
    "        List of column names to be used as features for the model.\n",
    "\n",
    "    Returns\n",
    "    -------\n",
    "    tuple\n",
    "        Training and test accuracy scores.\n",
    "    '''\n",
    "    X_train, y_train = prepare_classification_data(\n",
    "        osha_train, \n",
    "        phys_chem_cols, \n",
    "        naics_col,\n",
    "        osha_full,\n",
    "        target_col\n",
    "    )\n",
    "    X_test, y_test = prepare_classification_data(\n",
    "        osha_test, \n",
    "        phys_chem_cols, \n",
    "        naics_col,\n",
    "        osha_full,\n",
    "        target_col\n",
    "    )\n",
    "\n",
    "    clf = RandomForestClassifier(random_state=42)\n",
    "    clf.fit(X_train, y_train)\n",
    "\n",
    "    y_pred_class_train = clf.predict(X_train)\n",
    "    y_pred_class_test = clf.predict(X_test)\n",
    "\n",
    "    accuracy_train = accuracy_score(y_train, y_pred_class_train)\n",
    "    accuracy_test = accuracy_score(y_test, y_pred_class_test)\n",
    "\n",
    "    return accuracy_train, accuracy_test\n",
    "\n",
    "def train_evaluate_regressor(\n",
    "        osha_train, \n",
    "        osha_test, \n",
    "        phys_chem_cols, \n",
    "        naics_col, \n",
    "        osha_full,\n",
    "        target_col\n",
    "    ):\n",
    "    '''\n",
    "    Train and evaluate a RandomForestRegressor on detected samples for regression.\n",
    "\n",
    "    Parameters\n",
    "    ----------\n",
    "    osha_train : pd.DataFrame\n",
    "        Training dataset containing features and target.\n",
    "    osha_test : pd.DataFrame\n",
    "        Test dataset containing features and target.\n",
    "    phys_chem_cols : list\n",
    "        List of column names to be used as features for the model.\n",
    "\n",
    "    Returns\n",
    "    -------\n",
    "    tuple\n",
    "        Training and test RMSE scores.\n",
    "    '''\n",
    "    X_train, y_train = prepare_regression_data(\n",
    "        osha_train, \n",
    "        phys_chem_cols, \n",
    "        naics_col,\n",
    "        osha_full,\n",
    "        target_col\n",
    "    )\n",
    "    X_test, y_test = prepare_regression_data(\n",
    "        osha_test, \n",
    "        phys_chem_cols, \n",
    "        naics_col,\n",
    "        osha_full,\n",
    "        target_col\n",
    "    )\n",
    "\n",
    "    reg = RandomForestRegressor(random_state=42)\n",
    "    reg.fit(X_train, y_train)\n",
    "\n",
    "    y_pred_reg_train = reg.predict(X_train)\n",
    "    y_pred_reg_test = reg.predict(X_test)\n",
    "\n",
    "    rmse_train = mean_squared_error(y_train, y_pred_reg_train, squared=False)\n",
    "    rmse_test = mean_squared_error(y_test, y_pred_reg_test, squared=False)\n",
    "\n",
    "    return rmse_train, rmse_test\n",
    "\n",
    "def prepare_classification_data(\n",
    "        osha_data, \n",
    "        phys_chem_cols, \n",
    "        naics_col, \n",
    "        osha_full,\n",
    "        target_col,\n",
    "        combine_Xy=False\n",
    "    ):\n",
    "    '''\n",
    "    Prepare binary classification data.\n",
    "    '''\n",
    "    X = prepare_features(osha_data, phys_chem_cols, naics_col, osha_full)\n",
    "    y = osha_data[target_col]\n",
    "\n",
    "    return prepare_features_and_target(X, y, combine_Xy)\n",
    "        \n",
    "def prepare_regression_data(\n",
    "        osha_data, \n",
    "        phys_chem_cols, \n",
    "        naics_col, \n",
    "        osha_full,\n",
    "        target_col,\n",
    "        combine_Xy=False\n",
    "    ):\n",
    "    '''\n",
    "    Prepare regression data for detected samples.\n",
    "    '''\n",
    "    X = prepare_features(osha_data, phys_chem_cols, naics_col, osha_full)\n",
    "\n",
    "    # Filter out non-detect values\n",
    "    where_detected = osha_data['detected'] == 1\n",
    "    y = np.log10(osha_data.loc[where_detected, target_col])\n",
    "    X = X.loc[y.index]\n",
    "\n",
    "    return prepare_features_and_target(X, y, combine_Xy)\n",
    "\n",
    "def prepare_features_and_target(X, y, combine_Xy=False):\n",
    "    '''\n",
    "    '''\n",
    "    if combine_Xy:\n",
    "        return pd.concat([X, y], axis=1)\n",
    "    else:\n",
    "        return X, y\n",
    "        \n",
    "def prepare_features(osha_data, phys_chem_cols, naics_col, osha_full):\n",
    "    '''\n",
    "    '''\n",
    "    X_phys_chem = osha_data[phys_chem_cols]\n",
    "    X_naics = prepare_naics_features(osha_data, naics_col)\n",
    "    # For backwards compatibility, this is used to get consistent columns\n",
    "    all_categories = prepare_naics_features(osha_full, naics_col).columns\n",
    "    X_naics = X_naics.reindex(columns=all_categories, fill_value=0.)\n",
    "    return pd.concat([X_phys_chem, X_naics], axis=1)\n",
    "    \n",
    "def prepare_naics_features(osha_data, naics_col):\n",
    "    '''\n",
    "    For backwards compatibility, the \n",
    "    '''\n",
    "    subsector_series = osha_data[naics_col].str[:3] \n",
    "    return pd.get_dummies(subsector_series)  # one-hot encode\n",
    "    \n",
    "def plot_model_performance(classification_accuracies, regression_rmses, models):\n",
    "    '''\n",
    "    Plot a comparison of model performance scores between Bayesian and Random Forest approaches.\n",
    "\n",
    "    Parameters\n",
    "    ----------\n",
    "    classification_accuracies : list\n",
    "        List containing classification accuracy scores for Bayesian and Random Forest approaches.\n",
    "    regression_rmse : list\n",
    "        List containing regression RMSE scores for Bayesian and Random Forest approaches.\n",
    "    models : list of str\n",
    "        List of model names in the same order as the other inputs.\n",
    "    '''\n",
    "    fig, ax = plt.subplots(1, 2, figsize=(12, 5))\n",
    "\n",
    "    ax[0].bar(models, classification_accuracies, color=['blue', 'orange'])\n",
    "    ax[0].set_title('Classification Accuracy')\n",
    "    ax[0].set_ylabel('Accuracy')\n",
    "    ax[0].set_ylim(0, 1)\n",
    "\n",
    "    ax[1].bar(models, regression_rmses, color=['blue', 'orange'])\n",
    "    ax[1].set_title('Regression RMSE')\n",
    "    ax[1].set_ylabel('RMSE')\n",
    "\n",
    "    plt.tight_layout()\n",
    "    plt.show()"
   ]
  },
  {
   "cell_type": "code",
   "execution_count": 5,
   "id": "27421659-98e8-443c-88ff-5e16903359f8",
   "metadata": {},
   "outputs": [
    {
     "data": {
      "image/png": "[encoded data removed]",
      "text/plain": [
       "<Figure size 1200x500 with 2 Axes>"
      ]
     },
     "metadata": {},
     "output_type": "display_data"
    }
   ],
   "source": [
    "accuracy_train, accuracy_test = train_evaluate_classifier(\n",
    "    osha_train, \n",
    "    osha_test, \n",
    "    data_config['phys_chem_cols'], \n",
    "    data_config['naics_col'],\n",
    "    osha_full,\n",
    "    data_config['class_target_col']\n",
    ")\n",
    "rmse_train, rmse_test = train_evaluate_regressor(\n",
    "    osha_train, \n",
    "    osha_test, \n",
    "    data_config['phys_chem_cols'], \n",
    "    data_config['naics_col'],\n",
    "    osha_full,\n",
    "    data_config['reg_target_col']\n",
    ")\n",
    "\n",
    "classification_accuracies = [\n",
    "    0.759,  # Minucci et al., 2023\n",
    "    accuracy_test\n",
    "]\n",
    "regression_rmses = [\n",
    "    1.0,  # Minucci et al., 2023\n",
    "    rmse_test\n",
    "]\n",
    "models = ['Original Model', 'Random Forest']\n",
    "plot_model_performance(classification_accuracies, regression_rmses, models)"
   ]
  },
  {
   "cell_type": "markdown",
   "id": "a037981f-eb46-4a61-a807-8f330da1dc3d",
   "metadata": {},
   "source": [
    "### Interpretation\n",
    "Implementing the two-stage Random Forest approach yields similar performance as the Bayesian model with a 10-fold reduction in the execution time. However, further investigation below reveals that the performances of both models may be overestimated because of underlying issues in data preparation."
   ]
  },
  {
   "cell_type": "markdown",
   "id": "b48e710c-5a71-4b34-999c-0b1e302b0627",
   "metadata": {},
   "source": [
    "## Check for Duplicated Values\n",
    "According to the paper, my expectation was that the input data should have been aggregated by inspection number, particularly using the maximum concentration value across samples for a given inspection number. However, the observations below suggest that the intended aggregation by inspection number in the original code may not have been fully effective."
   ]
  },
  {
   "cell_type": "code",
   "execution_count": 6,
   "id": "ae11df98-ae8f-40d8-a32b-362b23953431",
   "metadata": {},
   "outputs": [],
   "source": [
    "def analyze_duplicates(dataframe):\n",
    "    '''\n",
    "    Return the percentage of duplicate rows in a dataframe.\n",
    "\n",
    "    Parameters\n",
    "    ----------\n",
    "    dataframe : pd.DataFrame\n",
    "        The dataframe to analyze for duplicates.\n",
    "    '''\n",
    "    total_duplicates = dataframe.duplicated().sum()\n",
    "\n",
    "    proportion_duplicates = total_duplicates / len(dataframe)\n",
    "\n",
    "    return proportion_duplicates * 100"
   ]
  },
  {
   "cell_type": "code",
   "execution_count": 7,
   "id": "1463e7a6-b6b6-4488-a2e4-c80900c98430",
   "metadata": {},
   "outputs": [
    {
     "name": "stdout",
     "output_type": "stream",
     "text": [
      "13% of all samples are duplicates\n"
     ]
    }
   ],
   "source": [
    "print(f'{round(analyze_duplicates(osha_full))}% of all samples are duplicates')"
   ]
  },
  {
   "cell_type": "code",
   "execution_count": 8,
   "id": "24515a6a-58fe-4c14-bf37-71b4f0ce8d10",
   "metadata": {},
   "outputs": [
    {
     "name": "stdout",
     "output_type": "stream",
     "text": [
      "87% of classification training samples are identical\n"
     ]
    }
   ],
   "source": [
    "Xy_train_class = prepare_classification_data(\n",
    "    osha_train,\n",
    "    data_config['phys_chem_cols'], \n",
    "    data_config['naics_col'],\n",
    "    osha_full,\n",
    "    data_config['class_target_col'],\n",
    "    combine_Xy=True\n",
    ")\n",
    "print(f'{round(analyze_duplicates(Xy_train_class))}% of classification training samples are identical')"
   ]
  },
  {
   "cell_type": "code",
   "execution_count": 9,
   "id": "4eeb91dc-34d4-46d2-8ae6-4a8ef2491d9f",
   "metadata": {},
   "outputs": [
    {
     "name": "stdout",
     "output_type": "stream",
     "text": [
      "88% of classification test samples are identical\n"
     ]
    }
   ],
   "source": [
    "Xy_test_class = prepare_classification_data(\n",
    "    osha_test,\n",
    "    data_config['phys_chem_cols'], \n",
    "    data_config['naics_col'],\n",
    "    osha_full,\n",
    "    data_config['class_target_col'],\n",
    "    combine_Xy=True\n",
    ")\n",
    "print(f'{round(analyze_duplicates(Xy_test_class))}% of classification test samples are identical')"
   ]
  },
  {
   "cell_type": "code",
   "execution_count": 10,
   "id": "078425a8-b974-4e24-86ee-c58b03682605",
   "metadata": {},
   "outputs": [
    {
     "name": "stdout",
     "output_type": "stream",
     "text": [
      "14% of regression training samples are identical\n"
     ]
    }
   ],
   "source": [
    "Xy_train_reg = prepare_regression_data(\n",
    "    osha_train,\n",
    "    data_config['phys_chem_cols'], \n",
    "    data_config['naics_col'],\n",
    "    osha_full,\n",
    "    data_config['reg_target_col'],\n",
    "    combine_Xy=True\n",
    ")\n",
    "print(f'{round(analyze_duplicates(Xy_train_reg))}% of regression training samples are identical')"
   ]
  },
  {
   "cell_type": "code",
   "execution_count": 11,
   "id": "f6d99b15-fb0a-485a-a324-2efe3fd20a7c",
   "metadata": {},
   "outputs": [
    {
     "name": "stdout",
     "output_type": "stream",
     "text": [
      "0% of regression test samples are identical\n"
     ]
    }
   ],
   "source": [
    "Xy_test_reg = prepare_regression_data(\n",
    "    osha_test,\n",
    "    data_config['phys_chem_cols'], \n",
    "    data_config['naics_col'],\n",
    "    osha_full,\n",
    "    data_config['reg_target_col'],\n",
    "    combine_Xy=True\n",
    ")\n",
    "print(f'{round(analyze_duplicates(Xy_test_reg))}% of regression test samples are identical')"
   ]
  },
  {
   "cell_type": "markdown",
   "id": "78684549-c422-4801-b049-781bc88f6046",
   "metadata": {},
   "source": [
    "The root cause of the duplicates in the full dataset is not entirely clear. The duplicates in the training and test sets were likely propagated from the full dataset and, for the classification model, might also include cases where the same chemical was sampled across different companies within the same subsector and yielded consistent detect or non-detect results.\n",
    "\n",
    "### Potential Implications\n",
    "- The training process could be biased towards these repeated data points, potentially leading to overfitting.\n",
    "- In practice, such a model might underperform when given new data."
   ]
  },
  {
   "cell_type": "markdown",
   "id": "6ef3f843-38ed-4cc9-a34c-64cc12a85a93",
   "metadata": {},
   "source": [
    "## Check for Data Leakage\n",
    "By inspecting the original code, not shown here, I noticed that preprocessing steps like centering and scaling were conducted on the entire dataset prior to splitting into training and test sets. This inadvertently incorporated test set information into the model training process.\n",
    "\n",
    "The code below checks for any samples that are present in both the training and test sets."
   ]
  },
  {
   "cell_type": "code",
   "execution_count": 12,
   "id": "1ab2cbfc-fff3-408e-8e6d-5dd3e78f31a3",
   "metadata": {},
   "outputs": [],
   "source": [
    "def count_overlapping_samples(train_df, test_df):\n",
    "    '''\n",
    "    Check for overlapping samples between training and test sets. \n",
    "    \n",
    "    A single identifier is created by joining all column values as strings.\n",
    "\n",
    "    Parameters\n",
    "    ----------\n",
    "    train_df : pd.DataFrame\n",
    "        Training dataset containing features and target.\n",
    "    test_df : pd.DataFrame\n",
    "        Test dataset containing features and target.\n",
    "\n",
    "    Returns\n",
    "    -------\n",
    "    int\n",
    "        The number of overlapping samples between the training and test sets.\n",
    "    '''\n",
    "    train_df, test_df = train_df.copy(), test_df.copy()\n",
    "    \n",
    "    train_df['combined'] = train_df.apply(lambda row: '_'.join(row.values.astype(str)), axis=1)\n",
    "    test_df['combined'] = test_df.apply(lambda row: '_'.join(row.values.astype(str)), axis=1)\n",
    "\n",
    "    train_set = set(train_df['combined'])\n",
    "    test_set = set(test_df['combined'])\n",
    "\n",
    "    overlap = test_set.intersection(train_set)\n",
    "\n",
    "    return len(overlap)"
   ]
  },
  {
   "cell_type": "code",
   "execution_count": 13,
   "id": "35c08fc3-c143-4d4f-9eb0-af32be9c7b5a",
   "metadata": {},
   "outputs": [
    {
     "name": "stdout",
     "output_type": "stream",
     "text": [
      "0% of classification test samples included in training set\n"
     ]
    }
   ],
   "source": [
    "overlap_class = count_overlapping_samples(Xy_train_class, Xy_test_class) / len(Xy_test_class) * 100\n",
    "print(f'{round(overlap_class)}% of classification test samples included in training set')"
   ]
  },
  {
   "cell_type": "code",
   "execution_count": 14,
   "id": "8d597b39-46d4-46fd-ae42-3e452e01988e",
   "metadata": {},
   "outputs": [
    {
     "name": "stdout",
     "output_type": "stream",
     "text": [
      "0% of regression test samples included in training set\n"
     ]
    }
   ],
   "source": [
    "overlap_reg = count_overlapping_samples(Xy_train_reg, Xy_test_reg) / len(Xy_test_reg) * 100\n",
    "print(f'{round(overlap_reg)}% of regression test samples included in training set')"
   ]
  },
  {
   "cell_type": "markdown",
   "id": "5d8b4ece-f3bc-435d-b6bd-b75d2af9bdfd",
   "metadata": {},
   "source": [
    "### Potential Implications\n",
    "- These issues likely inflate the accuracy and RMSE metrics, as the model is evaluated on data it has already seen during training.\n",
    "- Consequently, the model's effectiveness in real-world predictive scenarios may be overestimated."
   ]
  },
  {
   "cell_type": "markdown",
   "id": "7550252c-85e0-4c63-99df-5f45d8dc6fc5",
   "metadata": {},
   "source": [
    "## Summary and Reflections\n",
    "\n",
    "While the original Bayesian model is sophisticated and innovative, the findings suggest that its estimated performance could be significantly optimistic because of how the data were prepared. Addressing these issues could involve:\n",
    "- Implementing more rigorous data cleaning, perhaps following Lavoué et al., 2023\n",
    "- Implementing a cross-validation setup, rather than a single train-test split, to more fully gauge the model's prediction error across multiple partitions to the dataset"
   ]
  },
  {
   "cell_type": "code",
   "execution_count": null,
   "id": "288e9c76-0795-4657-b48e-6aa9a5eb8670",
   "metadata": {},
   "outputs": [],
   "source": []
  }
 ],
 "metadata": {
  "kernelspec": {
   "display_name": "chiu-lab",
   "language": "python",
   "name": "chiu-lab"
  },
  "language_info": {
   "codemirror_mode": {
    "name": "ipython",
    "version": 3
   },
   "file_extension": ".py",
   "mimetype": "text/x-python",
   "name": "python",
   "nbconvert_exporter": "python",
   "pygments_lexer": "ipython3",
   "version": "3.11.0"
  }
 },
 "nbformat": 4,
 "nbformat_minor": 5
}
