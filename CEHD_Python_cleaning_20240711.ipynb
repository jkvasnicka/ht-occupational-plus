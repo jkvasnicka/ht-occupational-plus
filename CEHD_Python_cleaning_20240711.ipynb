{
 "cells": [
  {
   "cell_type": "code",
   "execution_count": 18,
   "id": "312dc3bb-d9fa-4355-890f-c0e9a0abb6e0",
   "metadata": {},
   "outputs": [],
   "source": [
    "import pandas as pd\n",
    "import numpy as np"
   ]
  },
  {
   "cell_type": "code",
   "execution_count": 9,
   "id": "ead8f4d5-a168-4961-bcd2-66426c421e34",
   "metadata": {},
   "outputs": [
    {
     "name": "stderr",
     "output_type": "stream",
     "text": [
      "C:\\Users\\JKVASNIC\\AppData\\Local\\Temp\\ipykernel_17168\\2146351305.py:2: DtypeWarning: Columns (1,6,10,11,19) have mixed types. Specify dtype option on import or set low_memory=False.\n",
      "  database = pd.read_csv(pre_assembled_file, index_col=0)\n"
     ]
    }
   ],
   "source": [
    "pre_assembled_file = 'Input/Processed/osha_data.csv'\n",
    "database = pd.read_csv(pre_assembled_file, index_col=0)"
   ]
  },
  {
   "cell_type": "code",
   "execution_count": 10,
   "id": "79decf05-0c38-4904-bc74-63a0936f6203",
   "metadata": {},
   "outputs": [],
   "source": [
    "# Assuming 'database' is a pandas DataFrame loaded previously\n",
    "\n",
    "# Numeric conversions with coercion for non-numeric values\n",
    "database['AIR_VOLUME_SAMPLED'] = pd.to_numeric(database['AIR_VOLUME_SAMPLED'], errors='coerce')\n",
    "\n",
    "# Factor conversion with specified levels\n",
    "database['BLANK_USED'] = pd.Categorical(database['BLANK_USED'], categories=['Y', 'N'])\n",
    "\n",
    "# Ensure string type\n",
    "database['CITY'] = database['CITY'].astype(str)\n",
    "\n",
    "# Lowercase and date conversion handling multiple formats\n",
    "def convert_date(column):\n",
    "    return pd.to_datetime(\n",
    "        column.str.lower(),\n",
    "        errors='coerce',\n",
    "        format='%Y-%b-%d'\n",
    "    ).combine_first(\n",
    "        pd.to_datetime(column.str.lower(), errors='coerce', format='%Y/%m/%d')\n",
    "    ).combine_first(\n",
    "        pd.to_datetime(column.str.lower(), errors='coerce', format='%Y-%m-%d')\n",
    "    )\n",
    "\n",
    "database['DATE_REPORTED'] = convert_date(database['DATE_REPORTED'])\n",
    "database['DATE_SAMPLED'] = convert_date(database['DATE_SAMPLED'])\n",
    "\n",
    "# Categorical data conversion with specified levels\n",
    "database['EIGHT_HOUR_TWA_CALC'] = pd.Categorical(database['EIGHT_HOUR_TWA_CALC'], categories=['Y', 'N'])\n",
    "\n",
    "# Ensure string type\n",
    "database['ESTABLISHMENT_NAME'] = database['ESTABLISHMENT_NAME'].astype(str)\n",
    "database['FIELD_NUMBER'] = database['FIELD_NUMBER'].astype(str)\n",
    "\n",
    "# Formatting and factor conversion for codes\n",
    "database['IMIS_SUBSTANCE_CODE'] = pd.Categorical(\n",
    "    database['IMIS_SUBSTANCE_CODE'].str.replace(' ', '0').str.zfill(4)\n",
    ")\n",
    "database['INSPECTION_NUMBER'] = pd.Categorical(database['INSPECTION_NUMBER'])\n",
    "\n",
    "database['INSTRUMENT_TYPE'] = database['INSTRUMENT_TYPE'].astype(str)\n",
    "database['LAB_NUMBER'] = pd.Categorical(database['LAB_NUMBER'])\n",
    "\n",
    "# NAICS_CODE cleaning based on length condition\n",
    "database['NAICS_CODE'] = database['NAICS_CODE'].astype(str).apply(lambda x: x if len(x) >= 6 else np.nan)\n",
    "\n",
    "database['OFFICE_ID'] = pd.Categorical(database['OFFICE_ID'])\n",
    "database['QUALIFIER'] = database['QUALIFIER'].astype(str)\n",
    "\n",
    "# Numeric conversion with coercion\n",
    "database['SAMPLE_RESULT'] = pd.to_numeric(database['SAMPLE_RESULT'], errors='coerce')\n",
    "\n",
    "# Categorical conversion without specified levels here as not provided in the snippet\n",
    "database['SAMPLE_TYPE'] = pd.Categorical(database['SAMPLE_TYPE'])\n",
    "database['SAMPLE_WEIGHT'] = pd.to_numeric(database['SAMPLE_WEIGHT'], errors='coerce')\n",
    "database['SAMPLING_NUMBER'] = pd.Categorical(database['SAMPLING_NUMBER'])\n",
    "database['SIC_CODE'] = pd.Categorical(database['SIC_CODE'])\n",
    "database['STATE'] = pd.Categorical(database['STATE'])\n",
    "database['SUBSTANCE'] = database['SUBSTANCE'].astype(str)\n",
    "\n",
    "# Numeric conversion with coercion\n",
    "database['TIME_SAMPLED'] = pd.to_numeric(database['TIME_SAMPLED'], errors='coerce')\n",
    "database['UNIT_OF_MEASUREMENT'] = database['UNIT_OF_MEASUREMENT'].astype(str)\n",
    "\n",
    "# Formatting and factor conversion for ZIP_CODE\n",
    "database['ZIP_CODE'] = database['ZIP_CODE'].astype(str).str.replace(' ', '0').str.zfill(5)\n",
    "database['ZIP_CODE'] = pd.Categorical(database['ZIP_CODE'])\n",
    "\n",
    "# Extracting the year from a date and converting to categorical\n",
    "database['YEAR'] = pd.Categorical(database['DATE_SAMPLED'].dt.year)"
   ]
  },
  {
   "cell_type": "code",
   "execution_count": 21,
   "id": "80836702-39d9-44a8-a65a-51f2c908093f",
   "metadata": {},
   "outputs": [
    {
     "data": {
      "text/plain": [
       "False"
      ]
     },
     "execution_count": 21,
     "metadata": {},
     "output_type": "execute_result"
    }
   ],
   "source": [
    "r_database = pd.read_parquet('database.parquet')\n",
    "\n",
    "r_database.equals(database)"
   ]
  },
  {
   "cell_type": "code",
   "execution_count": 26,
   "id": "6f7544d1-5ff5-4bb1-bf87-6d27fe9bd77c",
   "metadata": {},
   "outputs": [
    {
     "name": "stdout",
     "output_type": "stream",
     "text": [
      "Are the two dataframes identical?  False\n",
      "Column DATE_REPORTED differs.\n",
      "Column DATE_SAMPLED differs.\n",
      "Column ESTABLISHMENT_NAME differs.\n",
      "Column FIELD_NUMBER differs.\n",
      "Column INSPECTION_NUMBER differs.\n",
      "Column NAICS_CODE differs.\n",
      "Column OFFICE_ID differs.\n",
      "Column SAMPLE_RESULT differs.\n",
      "Column SAMPLING_NUMBER differs.\n",
      "Column SIC_CODE differs.\n",
      "Column STATE differs.\n",
      "Column SUBSTANCE differs.\n",
      "Column YEAR differs.\n",
      "Column ZIP_CODE differs.\n"
     ]
    }
   ],
   "source": [
    "# Check if both dataframes are identical\n",
    "are_identical = database.equals(r_database)\n",
    "print(\"Are the two dataframes identical? \", are_identical)\n",
    "\n",
    "# Function to compare dataframes column by column\n",
    "def compare_dataframes(df1, df2):\n",
    "    diff_columns = []\n",
    "    for column in df1.columns:\n",
    "        if column in df2.columns:\n",
    "            if not df1[column].equals(df2[column]):\n",
    "                print(f\"Column {column} differs.\")\n",
    "                diff_columns.append(column)\n",
    "        else:\n",
    "            print(f\"Column {column} is not present in both dataframes.\")\n",
    "    return diff_columns\n",
    "\n",
    "diff_columns = compare_dataframes(database, r_database)"
   ]
  },
  {
   "cell_type": "code",
   "execution_count": 27,
   "id": "99097cff-9851-4f2f-adf6-4a81bfa94e20",
   "metadata": {},
   "outputs": [
    {
     "data": {
      "text/plain": [
       "['DATE_REPORTED',\n",
       " 'DATE_SAMPLED',\n",
       " 'ESTABLISHMENT_NAME',\n",
       " 'FIELD_NUMBER',\n",
       " 'INSPECTION_NUMBER',\n",
       " 'NAICS_CODE',\n",
       " 'OFFICE_ID',\n",
       " 'SAMPLE_RESULT',\n",
       " 'SAMPLING_NUMBER',\n",
       " 'SIC_CODE',\n",
       " 'STATE',\n",
       " 'SUBSTANCE',\n",
       " 'YEAR',\n",
       " 'ZIP_CODE']"
      ]
     },
     "execution_count": 27,
     "metadata": {},
     "output_type": "execute_result"
    }
   ],
   "source": [
    "diff_columns"
   ]
  },
  {
   "cell_type": "code",
   "execution_count": null,
   "id": "4461efba-fb99-491d-8904-85494ec93f3e",
   "metadata": {},
   "outputs": [],
   "source": [
    "where_diff = diff_columns['DATE_REPORTED']"
   ]
  }
 ],
 "metadata": {
  "kernelspec": {
   "display_name": "chiu-lab",
   "language": "python",
   "name": "chiu-lab"
  },
  "language_info": {
   "codemirror_mode": {
    "name": "ipython",
    "version": 3
   },
   "file_extension": ".py",
   "mimetype": "text/x-python",
   "name": "python",
   "nbconvert_exporter": "python",
   "pygments_lexer": "ipython3",
   "version": "3.11.0"
  }
 },
 "nbformat": 4,
 "nbformat_minor": 5
}
