{
 "cells": [
  {
   "cell_type": "code",
   "execution_count": 1,
   "id": "57fdd423-80d2-4a09-8a0c-cd66dce00d8a",
   "metadata": {},
   "outputs": [],
   "source": [
    "import pandas as pd\n",
    "import numpy as np\n",
    "import os\n",
    "import chardet\n",
    "\n",
    "import osha\n",
    "import rdkit_helper"
   ]
  },
  {
   "cell_type": "code",
   "execution_count": 2,
   "id": "250ccdfe-51bc-48fb-9d2d-bfb363ed24f9",
   "metadata": {},
   "outputs": [],
   "source": [
    "osha_dir = 'Input/Raw/OSHA/healthsamples'\n",
    "osha_dir = 'Input/Raw/OSHA/CEHD/CEHD1984_2018/rawdata'\n",
    "\n",
    "rename_mapper = {\n",
    "    'EIGHT_HR_TWA_CALC': 'EIGHT_HOUR_TWA_CALC',\n",
    "    'BLANK_SAMPLE': 'BLANK_USED'\n",
    "}"
   ]
  },
  {
   "cell_type": "code",
   "execution_count": 3,
   "id": "a47fe06d-5fdb-4413-a47a-5de366f527ce",
   "metadata": {},
   "outputs": [
    {
     "name": "stderr",
     "output_type": "stream",
     "text": [
      "C:\\Users\\JKVASNIC\\Repositories\\ht-occupational-plus\\osha.py:18: DtypeWarning: Columns (0,5,9,10,18) have mixed types. Specify dtype option on import or set low_memory=False.\n",
      "  osha_data = pd.read_csv(osha_file)\n"
     ]
    }
   ],
   "source": [
    "processed_file = 'Input/Processed/osha_data.csv'\n",
    "osha_data = osha.load_osha_data_temp(processed_file)"
   ]
  },
  {
   "cell_type": "code",
   "execution_count": null,
   "id": "2d46ce81-1138-42eb-9cf0-921e204f79d3",
   "metadata": {},
   "outputs": [],
   "source": [
    "osha_data.to_csv('Input/Processed/osha_data.csv')"
   ]
  },
  {
   "cell_type": "code",
   "execution_count": 3,
   "id": "c07c2a76-cba6-4552-b23b-5aaaf9b8c55b",
   "metadata": {},
   "outputs": [
    {
     "name": "stdout",
     "output_type": "stream",
     "text": [
      "Loading 1984 data...\n",
      "Loading 1985 data...\n",
      "Loading 1986 data...\n",
      "Loading 1987 data...\n",
      "Loading 1988 data...\n",
      "Loading 1989 data...\n",
      "Loading 1990 data...\n",
      "Loading 1991 data...\n",
      "Loading 1992 data...\n",
      "Loading 1993 data...\n",
      "Loading 1994 data...\n",
      "Loading 1995 data...\n",
      "Loading 1996 data...\n",
      "Loading 1997 data...\n",
      "Loading 1998 data...\n",
      "Loading 1999 data...\n",
      "Loading 2000 data...\n",
      "Loading 2001 data...\n",
      "Loading 2002 data...\n",
      "Loading 2003 data...\n",
      "Loading 2004 data...\n",
      "Loading 2005 data...\n",
      "Loading 2006 data...\n",
      "Loading 2007 data...\n",
      "Loading 2008 data...\n",
      "Loading 2009 data...\n",
      "Loading 2010 data...\n",
      "Loading 2011 data...\n",
      "Loading 2013 data...\n",
      "Loading 2014 data...\n",
      "Loading 2015 data...\n",
      "Loading 2016 data...\n",
      "Loading 2017 data...\n",
      "Loading 2018 data...\n",
      "CPU times: total: 1min 37s\n",
      "Wall time: 3min 7s\n"
     ]
    },
    {
     "data": {
      "text/html": [
       "<div>\n",
       "<style scoped>\n",
       "    .dataframe tbody tr th:only-of-type {\n",
       "        vertical-align: middle;\n",
       "    }\n",
       "\n",
       "    .dataframe tbody tr th {\n",
       "        vertical-align: top;\n",
       "    }\n",
       "\n",
       "    .dataframe thead th {\n",
       "        text-align: right;\n",
       "    }\n",
       "</style>\n",
       "<table border=\"1\" class=\"dataframe\">\n",
       "  <thead>\n",
       "    <tr style=\"text-align: right;\">\n",
       "      <th></th>\n",
       "      <th>AIR_VOLUME_SAMPLED</th>\n",
       "      <th>BLANK_USED</th>\n",
       "      <th>CITY</th>\n",
       "      <th>DATE_REPORTED</th>\n",
       "      <th>DATE_SAMPLED</th>\n",
       "      <th>EIGHT_HOUR_TWA_CALC</th>\n",
       "      <th>ESTABLISHMENT_NAME</th>\n",
       "      <th>FIELD_NUMBER</th>\n",
       "      <th>IMIS_SUBSTANCE_CODE</th>\n",
       "      <th>INSPECTION_NUMBER</th>\n",
       "      <th>...</th>\n",
       "      <th>SAMPLE_TYPE</th>\n",
       "      <th>SAMPLE_WEIGHT</th>\n",
       "      <th>SAMPLING_NUMBER</th>\n",
       "      <th>SIC_CODE</th>\n",
       "      <th>STATE</th>\n",
       "      <th>SUBSTANCE</th>\n",
       "      <th>TIME_SAMPLED</th>\n",
       "      <th>UNIT_OF_MEASUREMENT</th>\n",
       "      <th>YEAR</th>\n",
       "      <th>ZIP_CODE</th>\n",
       "    </tr>\n",
       "  </thead>\n",
       "  <tbody>\n",
       "    <tr>\n",
       "      <th>0</th>\n",
       "      <td>516.0000</td>\n",
       "      <td>N</td>\n",
       "      <td>Plainview</td>\n",
       "      <td>1984/06/15 00:00:00</td>\n",
       "      <td>1984/05/07 00:00:00</td>\n",
       "      <td>nan</td>\n",
       "      <td>CONTROLLED CASTINGS CORP</td>\n",
       "      <td>2LI8491</td>\n",
       "      <td>T100</td>\n",
       "      <td>111211</td>\n",
       "      <td>...</td>\n",
       "      <td>P</td>\n",
       "      <td>nan</td>\n",
       "      <td>5245543.0</td>\n",
       "      <td>3365.0</td>\n",
       "      <td>NY</td>\n",
       "      <td>Thorium</td>\n",
       "      <td>258.0</td>\n",
       "      <td>M</td>\n",
       "      <td>1984</td>\n",
       "      <td>11803.0</td>\n",
       "    </tr>\n",
       "    <tr>\n",
       "      <th>1</th>\n",
       "      <td>None</td>\n",
       "      <td>Y</td>\n",
       "      <td>Plainview</td>\n",
       "      <td>1984/06/15 00:00:00</td>\n",
       "      <td>1984/05/07 00:00:00</td>\n",
       "      <td>nan</td>\n",
       "      <td>CONTROLLED CASTINGS CORP</td>\n",
       "      <td>2LI8492</td>\n",
       "      <td>T100</td>\n",
       "      <td>111211</td>\n",
       "      <td>...</td>\n",
       "      <td>P</td>\n",
       "      <td>nan</td>\n",
       "      <td>5245543.0</td>\n",
       "      <td>3365.0</td>\n",
       "      <td>NY</td>\n",
       "      <td>Thorium</td>\n",
       "      <td>nan</td>\n",
       "      <td>None</td>\n",
       "      <td>1984</td>\n",
       "      <td>11803.0</td>\n",
       "    </tr>\n",
       "    <tr>\n",
       "      <th>2</th>\n",
       "      <td>76.0000</td>\n",
       "      <td>N</td>\n",
       "      <td>Plainview</td>\n",
       "      <td>1984/06/15 00:00:00</td>\n",
       "      <td>1984/05/07 00:00:00</td>\n",
       "      <td>nan</td>\n",
       "      <td>CONTROLLED CASTINGS CORP</td>\n",
       "      <td>2LI8493</td>\n",
       "      <td>T100</td>\n",
       "      <td>111211</td>\n",
       "      <td>...</td>\n",
       "      <td>P</td>\n",
       "      <td>nan</td>\n",
       "      <td>5245501.0</td>\n",
       "      <td>3365.0</td>\n",
       "      <td>NY</td>\n",
       "      <td>Thorium</td>\n",
       "      <td>38.0</td>\n",
       "      <td>M</td>\n",
       "      <td>1984</td>\n",
       "      <td>11803.0</td>\n",
       "    </tr>\n",
       "    <tr>\n",
       "      <th>3</th>\n",
       "      <td>None</td>\n",
       "      <td>Y</td>\n",
       "      <td>Plainview</td>\n",
       "      <td>1984/06/15 00:00:00</td>\n",
       "      <td>1984/05/07 00:00:00</td>\n",
       "      <td>nan</td>\n",
       "      <td>CONTROLLED CASTINGS CORP</td>\n",
       "      <td>2LI8494</td>\n",
       "      <td>T100</td>\n",
       "      <td>111211</td>\n",
       "      <td>...</td>\n",
       "      <td>P</td>\n",
       "      <td>nan</td>\n",
       "      <td>5245501.0</td>\n",
       "      <td>3365.0</td>\n",
       "      <td>NY</td>\n",
       "      <td>Thorium</td>\n",
       "      <td>nan</td>\n",
       "      <td>None</td>\n",
       "      <td>1984</td>\n",
       "      <td>11803.0</td>\n",
       "    </tr>\n",
       "    <tr>\n",
       "      <th>4</th>\n",
       "      <td>74.0000</td>\n",
       "      <td>N</td>\n",
       "      <td>East Farmingdale</td>\n",
       "      <td>1984/04/27 00:00:00</td>\n",
       "      <td>1984/04/04 00:00:00</td>\n",
       "      <td>nan</td>\n",
       "      <td>MID ISLAND NON FERROUS FOUNDRY</td>\n",
       "      <td>2LI84-49</td>\n",
       "      <td>1591</td>\n",
       "      <td>111252</td>\n",
       "      <td>...</td>\n",
       "      <td>P</td>\n",
       "      <td>0.0</td>\n",
       "      <td>5245345.0</td>\n",
       "      <td>3365.0</td>\n",
       "      <td>NY</td>\n",
       "      <td>Lead, Inorganic (as Pb)</td>\n",
       "      <td>37.0</td>\n",
       "      <td>M</td>\n",
       "      <td>1984</td>\n",
       "      <td>11735.0</td>\n",
       "    </tr>\n",
       "    <tr>\n",
       "      <th>...</th>\n",
       "      <td>...</td>\n",
       "      <td>...</td>\n",
       "      <td>...</td>\n",
       "      <td>...</td>\n",
       "      <td>...</td>\n",
       "      <td>...</td>\n",
       "      <td>...</td>\n",
       "      <td>...</td>\n",
       "      <td>...</td>\n",
       "      <td>...</td>\n",
       "      <td>...</td>\n",
       "      <td>...</td>\n",
       "      <td>...</td>\n",
       "      <td>...</td>\n",
       "      <td>...</td>\n",
       "      <td>...</td>\n",
       "      <td>...</td>\n",
       "      <td>...</td>\n",
       "      <td>...</td>\n",
       "      <td>...</td>\n",
       "      <td>...</td>\n",
       "    </tr>\n",
       "    <tr>\n",
       "      <th>2395066</th>\n",
       "      <td>57.652</td>\n",
       "      <td>N</td>\n",
       "      <td>nan</td>\n",
       "      <td>2018-MAR-05</td>\n",
       "      <td>2018-JAN-23</td>\n",
       "      <td>N</td>\n",
       "      <td>nan</td>\n",
       "      <td>6</td>\n",
       "      <td>2042</td>\n",
       "      <td>806189446</td>\n",
       "      <td>...</td>\n",
       "      <td>P</td>\n",
       "      <td>nan</td>\n",
       "      <td>WA20180202B</td>\n",
       "      <td>nan</td>\n",
       "      <td>nan</td>\n",
       "      <td>p-Phenylene Diamine</td>\n",
       "      <td>58.0</td>\n",
       "      <td>M</td>\n",
       "      <td>2018</td>\n",
       "      <td>nan</td>\n",
       "    </tr>\n",
       "    <tr>\n",
       "      <th>2395067</th>\n",
       "      <td>nan</td>\n",
       "      <td>Y</td>\n",
       "      <td>nan</td>\n",
       "      <td>2018-MAR-05</td>\n",
       "      <td>2018-JAN-23</td>\n",
       "      <td>N</td>\n",
       "      <td>nan</td>\n",
       "      <td>7</td>\n",
       "      <td>2042</td>\n",
       "      <td>806189446</td>\n",
       "      <td>...</td>\n",
       "      <td>P</td>\n",
       "      <td>nan</td>\n",
       "      <td>WA20180202B</td>\n",
       "      <td>nan</td>\n",
       "      <td>nan</td>\n",
       "      <td>p-Phenylene Diamine</td>\n",
       "      <td>nan</td>\n",
       "      <td>X</td>\n",
       "      <td>2018</td>\n",
       "      <td>nan</td>\n",
       "    </tr>\n",
       "    <tr>\n",
       "      <th>2395068</th>\n",
       "      <td>nan</td>\n",
       "      <td>N</td>\n",
       "      <td>nan</td>\n",
       "      <td>2018-JUN-07</td>\n",
       "      <td>2018-MAY-31</td>\n",
       "      <td>N</td>\n",
       "      <td>nan</td>\n",
       "      <td>F</td>\n",
       "      <td>S777</td>\n",
       "      <td>Q130304018</td>\n",
       "      <td>...</td>\n",
       "      <td>B</td>\n",
       "      <td>nan</td>\n",
       "      <td>CA2018060401</td>\n",
       "      <td>nan</td>\n",
       "      <td>nan</td>\n",
       "      <td>Soil</td>\n",
       "      <td>nan</td>\n",
       "      <td>N</td>\n",
       "      <td>2018</td>\n",
       "      <td>nan</td>\n",
       "    </tr>\n",
       "    <tr>\n",
       "      <th>2395069</th>\n",
       "      <td>nan</td>\n",
       "      <td>N</td>\n",
       "      <td>nan</td>\n",
       "      <td>2018-JUN-07</td>\n",
       "      <td>2018-MAY-31</td>\n",
       "      <td>N</td>\n",
       "      <td>nan</td>\n",
       "      <td>H</td>\n",
       "      <td>S777</td>\n",
       "      <td>Q130304018</td>\n",
       "      <td>...</td>\n",
       "      <td>B</td>\n",
       "      <td>nan</td>\n",
       "      <td>CA2018060401</td>\n",
       "      <td>nan</td>\n",
       "      <td>nan</td>\n",
       "      <td>Soil</td>\n",
       "      <td>nan</td>\n",
       "      <td>N</td>\n",
       "      <td>2018</td>\n",
       "      <td>nan</td>\n",
       "    </tr>\n",
       "    <tr>\n",
       "      <th>2395070</th>\n",
       "      <td>nan</td>\n",
       "      <td>N</td>\n",
       "      <td>nan</td>\n",
       "      <td>2018-JUN-07</td>\n",
       "      <td>2018-MAY-31</td>\n",
       "      <td>N</td>\n",
       "      <td>nan</td>\n",
       "      <td>J</td>\n",
       "      <td>S777</td>\n",
       "      <td>Q130304018</td>\n",
       "      <td>...</td>\n",
       "      <td>B</td>\n",
       "      <td>nan</td>\n",
       "      <td>CA2018060401</td>\n",
       "      <td>nan</td>\n",
       "      <td>nan</td>\n",
       "      <td>Soil</td>\n",
       "      <td>nan</td>\n",
       "      <td>N</td>\n",
       "      <td>2018</td>\n",
       "      <td>nan</td>\n",
       "    </tr>\n",
       "  </tbody>\n",
       "</table>\n",
       "<p>2395071 rows × 26 columns</p>\n",
       "</div>"
      ],
      "text/plain": [
       "        AIR_VOLUME_SAMPLED BLANK_USED              CITY        DATE_REPORTED  \\\n",
       "0                 516.0000          N         Plainview  1984/06/15 00:00:00   \n",
       "1                     None          Y         Plainview  1984/06/15 00:00:00   \n",
       "2                  76.0000          N         Plainview  1984/06/15 00:00:00   \n",
       "3                     None          Y         Plainview  1984/06/15 00:00:00   \n",
       "4                  74.0000          N  East Farmingdale  1984/04/27 00:00:00   \n",
       "...                    ...        ...               ...                  ...   \n",
       "2395066             57.652          N               nan          2018-MAR-05   \n",
       "2395067                nan          Y               nan          2018-MAR-05   \n",
       "2395068                nan          N               nan          2018-JUN-07   \n",
       "2395069                nan          N               nan          2018-JUN-07   \n",
       "2395070                nan          N               nan          2018-JUN-07   \n",
       "\n",
       "                DATE_SAMPLED EIGHT_HOUR_TWA_CALC  \\\n",
       "0        1984/05/07 00:00:00                 nan   \n",
       "1        1984/05/07 00:00:00                 nan   \n",
       "2        1984/05/07 00:00:00                 nan   \n",
       "3        1984/05/07 00:00:00                 nan   \n",
       "4        1984/04/04 00:00:00                 nan   \n",
       "...                      ...                 ...   \n",
       "2395066          2018-JAN-23                   N   \n",
       "2395067          2018-JAN-23                   N   \n",
       "2395068          2018-MAY-31                   N   \n",
       "2395069          2018-MAY-31                   N   \n",
       "2395070          2018-MAY-31                   N   \n",
       "\n",
       "                     ESTABLISHMENT_NAME FIELD_NUMBER IMIS_SUBSTANCE_CODE  \\\n",
       "0              CONTROLLED CASTINGS CORP      2LI8491                T100   \n",
       "1              CONTROLLED CASTINGS CORP      2LI8492                T100   \n",
       "2              CONTROLLED CASTINGS CORP      2LI8493                T100   \n",
       "3              CONTROLLED CASTINGS CORP      2LI8494                T100   \n",
       "4        MID ISLAND NON FERROUS FOUNDRY     2LI84-49                1591   \n",
       "...                                 ...          ...                 ...   \n",
       "2395066                             nan            6                2042   \n",
       "2395067                             nan            7                2042   \n",
       "2395068                             nan            F                S777   \n",
       "2395069                             nan            H                S777   \n",
       "2395070                             nan            J                S777   \n",
       "\n",
       "        INSPECTION_NUMBER  ... SAMPLE_TYPE SAMPLE_WEIGHT SAMPLING_NUMBER  \\\n",
       "0                  111211  ...           P           nan       5245543.0   \n",
       "1                  111211  ...           P           nan       5245543.0   \n",
       "2                  111211  ...           P           nan       5245501.0   \n",
       "3                  111211  ...           P           nan       5245501.0   \n",
       "4                  111252  ...           P           0.0       5245345.0   \n",
       "...                   ...  ...         ...           ...             ...   \n",
       "2395066         806189446  ...           P           nan     WA20180202B   \n",
       "2395067         806189446  ...           P           nan     WA20180202B   \n",
       "2395068        Q130304018  ...           B           nan    CA2018060401   \n",
       "2395069        Q130304018  ...           B           nan    CA2018060401   \n",
       "2395070        Q130304018  ...           B           nan    CA2018060401   \n",
       "\n",
       "        SIC_CODE STATE                SUBSTANCE TIME_SAMPLED  \\\n",
       "0         3365.0    NY                  Thorium        258.0   \n",
       "1         3365.0    NY                  Thorium          nan   \n",
       "2         3365.0    NY                  Thorium         38.0   \n",
       "3         3365.0    NY                  Thorium          nan   \n",
       "4         3365.0    NY  Lead, Inorganic (as Pb)         37.0   \n",
       "...          ...   ...                      ...          ...   \n",
       "2395066      nan   nan      p-Phenylene Diamine         58.0   \n",
       "2395067      nan   nan      p-Phenylene Diamine          nan   \n",
       "2395068      nan   nan                     Soil          nan   \n",
       "2395069      nan   nan                     Soil          nan   \n",
       "2395070      nan   nan                     Soil          nan   \n",
       "\n",
       "        UNIT_OF_MEASUREMENT  YEAR ZIP_CODE  \n",
       "0                         M  1984  11803.0  \n",
       "1                      None  1984  11803.0  \n",
       "2                         M  1984  11803.0  \n",
       "3                      None  1984  11803.0  \n",
       "4                         M  1984  11735.0  \n",
       "...                     ...   ...      ...  \n",
       "2395066                   M  2018      nan  \n",
       "2395067                   X  2018      nan  \n",
       "2395068                   N  2018      nan  \n",
       "2395069                   N  2018      nan  \n",
       "2395070                   N  2018      nan  \n",
       "\n",
       "[2395071 rows x 26 columns]"
      ]
     },
     "execution_count": 3,
     "metadata": {},
     "output_type": "execute_result"
    }
   ],
   "source": [
    "%%time \n",
    "\n",
    "osha_data = osha.load_osha_data(osha_dir, rename_mapper)\n",
    "\n",
    "osha_data"
   ]
  },
  {
   "cell_type": "code",
   "execution_count": 4,
   "id": "99a3f535-d9b4-4759-8976-a17a56a9dacf",
   "metadata": {},
   "outputs": [
    {
     "name": "stderr",
     "output_type": "stream",
     "text": [
      "C:\\Users\\JKVASNIC\\AppData\\Local\\Temp\\ipykernel_3104\\1510757088.py:2: DtypeWarning: Columns (0,5,9,10,18) have mixed types. Specify dtype option on import or set low_memory=False.\n",
      "  osha_prev = pd.read_csv(osha_prev_file)\n"
     ]
    }
   ],
   "source": [
    "osha_prev_file = 'Input/Processed/osha_data_copy.csv'\n",
    "osha_prev = pd.read_csv(osha_prev_file)"
   ]
  },
  {
   "cell_type": "code",
   "execution_count": 5,
   "id": "7849ff36-a437-4d5f-a668-907aab3f612b",
   "metadata": {},
   "outputs": [
    {
     "data": {
      "text/plain": [
       "True"
      ]
     },
     "execution_count": 5,
     "metadata": {},
     "output_type": "execute_result"
    }
   ],
   "source": [
    "all(osha_data.fillna(0.) == osha_prev.fillna(0.))"
   ]
  },
  {
   "cell_type": "code",
   "execution_count": 7,
   "id": "eb016ca9-c7b8-4856-9cc1-9599eeefafca",
   "metadata": {},
   "outputs": [
    {
     "data": {
      "text/plain": [
       "True"
      ]
     },
     "execution_count": 7,
     "metadata": {},
     "output_type": "execute_result"
    }
   ],
   "source": [
    "osha_data.shape == osha_prev.shape"
   ]
  },
  {
   "cell_type": "code",
   "execution_count": 8,
   "id": "e9940980-518f-4b67-8c84-3b70671857fc",
   "metadata": {},
   "outputs": [
    {
     "data": {
      "text/plain": [
       "True"
      ]
     },
     "execution_count": 8,
     "metadata": {},
     "output_type": "execute_result"
    }
   ],
   "source": [
    "all(osha_data.columns == osha_prev.columns)"
   ]
  },
  {
   "cell_type": "code",
   "execution_count": 9,
   "id": "b8ca9170-7ad2-4674-ba69-7a70e93ec5b3",
   "metadata": {},
   "outputs": [
    {
     "data": {
      "text/plain": [
       "True"
      ]
     },
     "execution_count": 9,
     "metadata": {},
     "output_type": "execute_result"
    }
   ],
   "source": [
    "all(osha_data.index == osha_prev.index)"
   ]
  },
  {
   "cell_type": "code",
   "execution_count": 12,
   "id": "bed09daa-875b-41c5-8457-f268dc8f526f",
   "metadata": {},
   "outputs": [
    {
     "data": {
      "text/plain": [
       "2395071"
      ]
     },
     "execution_count": 12,
     "metadata": {},
     "output_type": "execute_result"
    }
   ],
   "source": [
    "osha_data.index.nunique()"
   ]
  },
  {
   "cell_type": "code",
   "execution_count": 13,
   "id": "970eddf1-1c14-4498-8e07-551030abe09d",
   "metadata": {},
   "outputs": [
    {
     "data": {
      "text/plain": [
       "2395071"
      ]
     },
     "execution_count": 13,
     "metadata": {},
     "output_type": "execute_result"
    }
   ],
   "source": [
    "osha_prev.index.nunique()"
   ]
  },
  {
   "cell_type": "code",
   "execution_count": 14,
   "id": "e904f1cc-78ff-4ec0-9177-4fe80f9d3774",
   "metadata": {},
   "outputs": [
    {
     "data": {
      "text/plain": [
       "Index([], dtype='object')"
      ]
     },
     "execution_count": 14,
     "metadata": {},
     "output_type": "execute_result"
    }
   ],
   "source": [
    "osha_data.columns.difference(osha_prev.columns)"
   ]
  },
  {
   "cell_type": "code",
   "execution_count": 15,
   "id": "99c82b25-703b-4517-8b6e-b6457a8f00e7",
   "metadata": {},
   "outputs": [
    {
     "data": {
      "text/plain": [
       "Index([], dtype='object')"
      ]
     },
     "execution_count": 15,
     "metadata": {},
     "output_type": "execute_result"
    }
   ],
   "source": [
    "osha_prev.columns.difference(osha_data.columns)"
   ]
  },
  {
   "cell_type": "code",
   "execution_count": null,
   "id": "8f52c8e5-0bbc-4350-bed2-bcab3be54bb0",
   "metadata": {},
   "outputs": [],
   "source": []
  }
 ],
 "metadata": {
  "kernelspec": {
   "display_name": "chiu-lab",
   "language": "python",
   "name": "chiu-lab"
  },
  "language_info": {
   "codemirror_mode": {
    "name": "ipython",
    "version": 3
   },
   "file_extension": ".py",
   "mimetype": "text/x-python",
   "name": "python",
   "nbconvert_exporter": "python",
   "pygments_lexer": "ipython3",
   "version": "3.11.0"
  }
 },
 "nbformat": 4,
 "nbformat_minor": 5
}
