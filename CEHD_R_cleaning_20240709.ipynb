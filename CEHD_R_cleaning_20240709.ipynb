{
 "cells": [
  {
   "cell_type": "code",
   "execution_count": 1,
   "id": "26f2b117-ac66-4b3b-b1b9-d4f35af90593",
   "metadata": {},
   "outputs": [
    {
     "name": "stderr",
     "output_type": "stream",
     "text": [
      "Some features are not enabled in this build of Arrow. Run `arrow_info()` for more information.\n",
      "\n",
      "\n",
      "Attaching package: 'arrow'\n",
      "\n",
      "\n",
      "The following object is masked from 'package:utils':\n",
      "\n",
      "    timestamp\n",
      "\n",
      "\n"
     ]
    },
    {
     "data": {
      "text/html": [
       "<table class=\"dataframe\">\n",
       "<caption>A data.table: 6 × 26</caption>\n",
       "<thead>\n",
       "\t<tr><th scope=col>AIR_VOLUME_SAMPLED</th><th scope=col>BLANK_USED</th><th scope=col>CITY</th><th scope=col>DATE_REPORTED</th><th scope=col>DATE_SAMPLED</th><th scope=col>EIGHT_HOUR_TWA_CALC</th><th scope=col>ESTABLISHMENT_NAME</th><th scope=col>FIELD_NUMBER</th><th scope=col>IMIS_SUBSTANCE_CODE</th><th scope=col>INSPECTION_NUMBER</th><th scope=col>...</th><th scope=col>SAMPLE_TYPE</th><th scope=col>SAMPLE_WEIGHT</th><th scope=col>SAMPLING_NUMBER</th><th scope=col>SIC_CODE</th><th scope=col>STATE</th><th scope=col>SUBSTANCE</th><th scope=col>TIME_SAMPLED</th><th scope=col>UNIT_OF_MEASUREMENT</th><th scope=col>YEAR</th><th scope=col>ZIP_CODE</th></tr>\n",
       "\t<tr><th scope=col>&lt;chr&gt;</th><th scope=col>&lt;chr&gt;</th><th scope=col>&lt;chr&gt;</th><th scope=col>&lt;chr&gt;</th><th scope=col>&lt;chr&gt;</th><th scope=col>&lt;chr&gt;</th><th scope=col>&lt;chr&gt;</th><th scope=col>&lt;chr&gt;</th><th scope=col>&lt;chr&gt;</th><th scope=col>&lt;chr&gt;</th><th scope=col>...</th><th scope=col>&lt;chr&gt;</th><th scope=col>&lt;dbl&gt;</th><th scope=col>&lt;chr&gt;</th><th scope=col>&lt;dbl&gt;</th><th scope=col>&lt;chr&gt;</th><th scope=col>&lt;chr&gt;</th><th scope=col>&lt;dbl&gt;</th><th scope=col>&lt;chr&gt;</th><th scope=col>&lt;int&gt;</th><th scope=col>&lt;dbl&gt;</th></tr>\n",
       "</thead>\n",
       "<tbody>\n",
       "\t<tr><td>516.0000</td><td>N</td><td>Plainview       </td><td>1984/06/15 00:00:00</td><td>1984/05/07 00:00:00</td><td>NA</td><td>CONTROLLED CASTINGS CORP      </td><td>2LI8491 </td><td>T100</td><td>111211</td><td>...</td><td>P</td><td>NA</td><td>5245543.0</td><td>3365</td><td>NY</td><td>Thorium                </td><td>258</td><td>M   </td><td>1984</td><td>11803</td></tr>\n",
       "\t<tr><td>None    </td><td>Y</td><td>Plainview       </td><td>1984/06/15 00:00:00</td><td>1984/05/07 00:00:00</td><td>NA</td><td>CONTROLLED CASTINGS CORP      </td><td>2LI8492 </td><td>T100</td><td>111211</td><td>...</td><td>P</td><td>NA</td><td>5245543.0</td><td>3365</td><td>NY</td><td>Thorium                </td><td> NA</td><td>None</td><td>1984</td><td>11803</td></tr>\n",
       "\t<tr><td>76.0000 </td><td>N</td><td>Plainview       </td><td>1984/06/15 00:00:00</td><td>1984/05/07 00:00:00</td><td>NA</td><td>CONTROLLED CASTINGS CORP      </td><td>2LI8493 </td><td>T100</td><td>111211</td><td>...</td><td>P</td><td>NA</td><td>5245501.0</td><td>3365</td><td>NY</td><td>Thorium                </td><td> 38</td><td>M   </td><td>1984</td><td>11803</td></tr>\n",
       "\t<tr><td>None    </td><td>Y</td><td>Plainview       </td><td>1984/06/15 00:00:00</td><td>1984/05/07 00:00:00</td><td>NA</td><td>CONTROLLED CASTINGS CORP      </td><td>2LI8494 </td><td>T100</td><td>111211</td><td>...</td><td>P</td><td>NA</td><td>5245501.0</td><td>3365</td><td>NY</td><td>Thorium                </td><td> NA</td><td>None</td><td>1984</td><td>11803</td></tr>\n",
       "\t<tr><td>74.0000 </td><td>N</td><td>East Farmingdale</td><td>1984/04/27 00:00:00</td><td>1984/04/04 00:00:00</td><td>NA</td><td>MID ISLAND NON FERROUS FOUNDRY</td><td>2LI84-49</td><td>1591</td><td>111252</td><td>...</td><td>P</td><td> 0</td><td>5245345.0</td><td>3365</td><td>NY</td><td>Lead, Inorganic (as Pb)</td><td> 37</td><td>M   </td><td>1984</td><td>11735</td></tr>\n",
       "\t<tr><td>0.0000  </td><td>Y</td><td>East Farmingdale</td><td>1984/04/27 00:00:00</td><td>1984/04/04 00:00:00</td><td>NA</td><td>MID ISLAND NON FERROUS FOUNDRY</td><td>2LI84-50</td><td>1591</td><td>111252</td><td>...</td><td>P</td><td> 0</td><td>5245345.0</td><td>3365</td><td>NY</td><td>Lead, Inorganic (as Pb)</td><td>  0</td><td>M   </td><td>1984</td><td>11735</td></tr>\n",
       "</tbody>\n",
       "</table>\n"
      ],
      "text/latex": [
       "A data.table: 6 × 26\n",
       "\\begin{tabular}{lllllllllllllllllllll}\n",
       " AIR\\_VOLUME\\_SAMPLED & BLANK\\_USED & CITY & DATE\\_REPORTED & DATE\\_SAMPLED & EIGHT\\_HOUR\\_TWA\\_CALC & ESTABLISHMENT\\_NAME & FIELD\\_NUMBER & IMIS\\_SUBSTANCE\\_CODE & INSPECTION\\_NUMBER & ... & SAMPLE\\_TYPE & SAMPLE\\_WEIGHT & SAMPLING\\_NUMBER & SIC\\_CODE & STATE & SUBSTANCE & TIME\\_SAMPLED & UNIT\\_OF\\_MEASUREMENT & YEAR & ZIP\\_CODE\\\\\n",
       " <chr> & <chr> & <chr> & <chr> & <chr> & <chr> & <chr> & <chr> & <chr> & <chr> & ... & <chr> & <dbl> & <chr> & <dbl> & <chr> & <chr> & <dbl> & <chr> & <int> & <dbl>\\\\\n",
       "\\hline\n",
       "\t 516.0000 & N & Plainview        & 1984/06/15 00:00:00 & 1984/05/07 00:00:00 & NA & CONTROLLED CASTINGS CORP       & 2LI8491  & T100 & 111211 & ... & P & NA & 5245543.0 & 3365 & NY & Thorium                 & 258 & M    & 1984 & 11803\\\\\n",
       "\t None     & Y & Plainview        & 1984/06/15 00:00:00 & 1984/05/07 00:00:00 & NA & CONTROLLED CASTINGS CORP       & 2LI8492  & T100 & 111211 & ... & P & NA & 5245543.0 & 3365 & NY & Thorium                 &  NA & None & 1984 & 11803\\\\\n",
       "\t 76.0000  & N & Plainview        & 1984/06/15 00:00:00 & 1984/05/07 00:00:00 & NA & CONTROLLED CASTINGS CORP       & 2LI8493  & T100 & 111211 & ... & P & NA & 5245501.0 & 3365 & NY & Thorium                 &  38 & M    & 1984 & 11803\\\\\n",
       "\t None     & Y & Plainview        & 1984/06/15 00:00:00 & 1984/05/07 00:00:00 & NA & CONTROLLED CASTINGS CORP       & 2LI8494  & T100 & 111211 & ... & P & NA & 5245501.0 & 3365 & NY & Thorium                 &  NA & None & 1984 & 11803\\\\\n",
       "\t 74.0000  & N & East Farmingdale & 1984/04/27 00:00:00 & 1984/04/04 00:00:00 & NA & MID ISLAND NON FERROUS FOUNDRY & 2LI84-49 & 1591 & 111252 & ... & P &  0 & 5245345.0 & 3365 & NY & Lead, Inorganic (as Pb) &  37 & M    & 1984 & 11735\\\\\n",
       "\t 0.0000   & Y & East Farmingdale & 1984/04/27 00:00:00 & 1984/04/04 00:00:00 & NA & MID ISLAND NON FERROUS FOUNDRY & 2LI84-50 & 1591 & 111252 & ... & P &  0 & 5245345.0 & 3365 & NY & Lead, Inorganic (as Pb) &   0 & M    & 1984 & 11735\\\\\n",
       "\\end{tabular}\n"
      ],
      "text/markdown": [
       "\n",
       "A data.table: 6 × 26\n",
       "\n",
       "| AIR_VOLUME_SAMPLED &lt;chr&gt; | BLANK_USED &lt;chr&gt; | CITY &lt;chr&gt; | DATE_REPORTED &lt;chr&gt; | DATE_SAMPLED &lt;chr&gt; | EIGHT_HOUR_TWA_CALC &lt;chr&gt; | ESTABLISHMENT_NAME &lt;chr&gt; | FIELD_NUMBER &lt;chr&gt; | IMIS_SUBSTANCE_CODE &lt;chr&gt; | INSPECTION_NUMBER &lt;chr&gt; | ... ... | SAMPLE_TYPE &lt;chr&gt; | SAMPLE_WEIGHT &lt;dbl&gt; | SAMPLING_NUMBER &lt;chr&gt; | SIC_CODE &lt;dbl&gt; | STATE &lt;chr&gt; | SUBSTANCE &lt;chr&gt; | TIME_SAMPLED &lt;dbl&gt; | UNIT_OF_MEASUREMENT &lt;chr&gt; | YEAR &lt;int&gt; | ZIP_CODE &lt;dbl&gt; |\n",
       "|---|---|---|---|---|---|---|---|---|---|---|---|---|---|---|---|---|---|---|---|---|\n",
       "| 516.0000 | N | Plainview        | 1984/06/15 00:00:00 | 1984/05/07 00:00:00 | NA | CONTROLLED CASTINGS CORP       | 2LI8491  | T100 | 111211 | ... | P | NA | 5245543.0 | 3365 | NY | Thorium                 | 258 | M    | 1984 | 11803 |\n",
       "| None     | Y | Plainview        | 1984/06/15 00:00:00 | 1984/05/07 00:00:00 | NA | CONTROLLED CASTINGS CORP       | 2LI8492  | T100 | 111211 | ... | P | NA | 5245543.0 | 3365 | NY | Thorium                 |  NA | None | 1984 | 11803 |\n",
       "| 76.0000  | N | Plainview        | 1984/06/15 00:00:00 | 1984/05/07 00:00:00 | NA | CONTROLLED CASTINGS CORP       | 2LI8493  | T100 | 111211 | ... | P | NA | 5245501.0 | 3365 | NY | Thorium                 |  38 | M    | 1984 | 11803 |\n",
       "| None     | Y | Plainview        | 1984/06/15 00:00:00 | 1984/05/07 00:00:00 | NA | CONTROLLED CASTINGS CORP       | 2LI8494  | T100 | 111211 | ... | P | NA | 5245501.0 | 3365 | NY | Thorium                 |  NA | None | 1984 | 11803 |\n",
       "| 74.0000  | N | East Farmingdale | 1984/04/27 00:00:00 | 1984/04/04 00:00:00 | NA | MID ISLAND NON FERROUS FOUNDRY | 2LI84-49 | 1591 | 111252 | ... | P |  0 | 5245345.0 | 3365 | NY | Lead, Inorganic (as Pb) |  37 | M    | 1984 | 11735 |\n",
       "| 0.0000   | Y | East Farmingdale | 1984/04/27 00:00:00 | 1984/04/04 00:00:00 | NA | MID ISLAND NON FERROUS FOUNDRY | 2LI84-50 | 1591 | 111252 | ... | P |  0 | 5245345.0 | 3365 | NY | Lead, Inorganic (as Pb) |   0 | M    | 1984 | 11735 |\n",
       "\n"
      ],
      "text/plain": [
       "  AIR_VOLUME_SAMPLED BLANK_USED CITY             DATE_REPORTED      \n",
       "1 516.0000           N          Plainview        1984/06/15 00:00:00\n",
       "2 None               Y          Plainview        1984/06/15 00:00:00\n",
       "3 76.0000            N          Plainview        1984/06/15 00:00:00\n",
       "4 None               Y          Plainview        1984/06/15 00:00:00\n",
       "5 74.0000            N          East Farmingdale 1984/04/27 00:00:00\n",
       "6 0.0000             Y          East Farmingdale 1984/04/27 00:00:00\n",
       "  DATE_SAMPLED        EIGHT_HOUR_TWA_CALC ESTABLISHMENT_NAME            \n",
       "1 1984/05/07 00:00:00 NA                  CONTROLLED CASTINGS CORP      \n",
       "2 1984/05/07 00:00:00 NA                  CONTROLLED CASTINGS CORP      \n",
       "3 1984/05/07 00:00:00 NA                  CONTROLLED CASTINGS CORP      \n",
       "4 1984/05/07 00:00:00 NA                  CONTROLLED CASTINGS CORP      \n",
       "5 1984/04/04 00:00:00 NA                  MID ISLAND NON FERROUS FOUNDRY\n",
       "6 1984/04/04 00:00:00 NA                  MID ISLAND NON FERROUS FOUNDRY\n",
       "  FIELD_NUMBER IMIS_SUBSTANCE_CODE INSPECTION_NUMBER ... SAMPLE_TYPE\n",
       "1 2LI8491      T100                111211            ... P          \n",
       "2 2LI8492      T100                111211            ... P          \n",
       "3 2LI8493      T100                111211            ... P          \n",
       "4 2LI8494      T100                111211            ... P          \n",
       "5 2LI84-49     1591                111252            ... P          \n",
       "6 2LI84-50     1591                111252            ... P          \n",
       "  SAMPLE_WEIGHT SAMPLING_NUMBER SIC_CODE STATE SUBSTANCE              \n",
       "1 NA            5245543.0       3365     NY    Thorium                \n",
       "2 NA            5245543.0       3365     NY    Thorium                \n",
       "3 NA            5245501.0       3365     NY    Thorium                \n",
       "4 NA            5245501.0       3365     NY    Thorium                \n",
       "5  0            5245345.0       3365     NY    Lead, Inorganic (as Pb)\n",
       "6  0            5245345.0       3365     NY    Lead, Inorganic (as Pb)\n",
       "  TIME_SAMPLED UNIT_OF_MEASUREMENT YEAR ZIP_CODE\n",
       "1 258          M                   1984 11803   \n",
       "2  NA          None                1984 11803   \n",
       "3  38          M                   1984 11803   \n",
       "4  NA          None                1984 11803   \n",
       "5  37          M                   1984 11735   \n",
       "6   0          M                   1984 11735   "
      ]
     },
     "metadata": {},
     "output_type": "display_data"
    }
   ],
   "source": [
    "library(data.table)\n",
    "library(arrow)\n",
    "\n",
    "pre_assembled_file = 'Input/Processed/osha_data.csv'\n",
    "database <- fread(pre_assembled_file, na.strings=c(\"\", \"nan\"))\n",
    "# Drop the index column\n",
    "database <- database[, -1, with = FALSE]\n",
    "\n",
    "head(database)"
   ]
  },
  {
   "cell_type": "code",
   "execution_count": 2,
   "id": "e2e00f56-7485-4055-8cd6-91b23acbc132",
   "metadata": {},
   "outputs": [
    {
     "data": {
      "text/html": [
       "'C'"
      ],
      "text/latex": [
       "'C'"
      ],
      "text/markdown": [
       "'C'"
      ],
      "text/plain": [
       "[1] \"C\""
      ]
     },
     "metadata": {},
     "output_type": "display_data"
    },
    {
     "name": "stderr",
     "output_type": "stream",
     "text": [
      "Warning message in eval(substitute(expr), e):\n",
      "\"NAs introduced by coercion\"\n"
     ]
    }
   ],
   "source": [
    "################# RE-FORMAT #################\n",
    "\n",
    "## Re adjusting type and format of variables\n",
    "\n",
    "lct <- Sys.getlocale(\"LC_TIME\"); Sys.setlocale(\"LC_TIME\", \"C\") #format error for date without this command\n",
    "\n",
    "database <- within(database, {\n",
    "  \n",
    "  AIR_VOLUME_SAMPLED <- as.numeric(as.character(AIR_VOLUME_SAMPLED))\n",
    "  \n",
    "  BLANK_USED <- factor(BLANK_USED, levels = c('Y', 'N'))\n",
    "  \n",
    "  CITY <- as.character(CITY)\n",
    "  \n",
    "  DATE_REPORTED <- as.character(tolower(DATE_REPORTED))\n",
    "  DATE_REPORTED <- ifelse(nchar(DATE_REPORTED) == 11 , as.character(as.Date(DATE_REPORTED, format = \"%Y-%b-%d\")), \n",
    "                          ifelse(nchar(DATE_REPORTED) == 19, as.character(as.Date(DATE_REPORTED, format = '%Y/%m/%d')), \n",
    "                                 as.character(as.Date(DATE_REPORTED, format = '%Y-%m-%d'))))\n",
    "  DATE_REPORTED <- as.Date(DATE_REPORTED, format = '%Y-%m-%d')\n",
    "  \n",
    "  DATE_SAMPLED <- as.character(tolower(DATE_SAMPLED))\n",
    "  DATE_SAMPLED <- ifelse(nchar(DATE_SAMPLED) == 11 , as.character(as.Date(DATE_SAMPLED, format = \"%Y-%b-%d\")), \n",
    "                         ifelse(nchar(DATE_SAMPLED) == 19, as.character(as.Date(DATE_SAMPLED, format = '%Y/%m/%d')), \n",
    "                                as.character(as.Date(DATE_SAMPLED, format = '%Y-%m-%d'))))\n",
    "  DATE_SAMPLED <- as.Date(DATE_SAMPLED, format = '%Y-%m-%d')\n",
    "  \n",
    "  EIGHT_HOUR_TWA_CALC <- factor(EIGHT_HOUR_TWA_CALC, levels = c('Y', 'N'))\n",
    "  \n",
    "  ESTABLISHMENT_NAME <- as.character(ESTABLISHMENT_NAME)\n",
    "  \n",
    "  FIELD_NUMBER <- as.character(FIELD_NUMBER)\n",
    "  \n",
    "  IMIS_SUBSTANCE_CODE <- factor(gsub(\" \", \"0\", sprintf(\"%4s\", database$IMIS_SUBSTANCE_CODE)))\n",
    "  INSPECTION_NUMBER <- factor(INSPECTION_NUMBER)\n",
    "  \n",
    "  INSTRUMENT_TYPE <- as.character(INSTRUMENT_TYPE) #need to be cleaned before levels\n",
    "  \n",
    "  LAB_NUMBER <- factor(LAB_NUMBER)\n",
    "  \n",
    "  NAICS_CODE <- as.character(NAICS_CODE)\n",
    "  NAICS_CODE <- ifelse(nchar(NAICS_CODE) < 6, NA, NAICS_CODE) #deletion of missing or 0 NAICS CODE\n",
    "  \n",
    "  OFFICE_ID <- factor(OFFICE_ID)\n",
    "  \n",
    "  QUALIFIER <- as.character(QUALIFIER) #need to be cleaned before levels\n",
    "  \n",
    "  SAMPLE_RESULT <- as.numeric(as.character(database$SAMPLE_RESULT))\n",
    "  \n",
    "  ## Should have only 4 levels according to CEHD information\n",
    "  SAMPLE_TYPE <- factor(SAMPLE_TYPE) #A B BL BU L M P S U W WB Z\n",
    "  \n",
    "  SAMPLE_WEIGHT <- as.numeric(as.character(SAMPLE_WEIGHT))\n",
    "  \n",
    "  ## Maybe need a cleaning. Kept it as factor for now on.\n",
    "  SAMPLING_NUMBER <- factor(SAMPLING_NUMBER)\n",
    "  \n",
    "  SIC_CODE <- factor(SIC_CODE)\n",
    "  \n",
    "  STATE <- factor(STATE)\n",
    "  \n",
    "  # Label of IMIS code, not the same number of levels though.\n",
    "  SUBSTANCE <- as.character(SUBSTANCE)\n",
    "  \n",
    "  # Time in minutes\n",
    "  TIME_SAMPLED <- as.numeric(as.character(TIME_SAMPLED))\n",
    "  \n",
    "  UNIT_OF_MEASUREMENT <- as.character(UNIT_OF_MEASUREMENT) # #need to be cleaned before levels\n",
    "  \n",
    "  ZIP_CODE <- factor(gsub(\" \", \"0\", sprintf(\"%5s\", database$ZIP_CODE)))\n",
    "  \n",
    "})\n",
    "\n",
    "\n",
    "database$YEAR <- factor(substring(database$DATE_SAMPLED, 1, 4))\n",
    "# saveRDS(database, \"database.rds\")  "
   ]
  },
  {
   "cell_type": "code",
   "execution_count": 3,
   "id": "a314d384-2b06-44e4-922a-fd1fb07ecc32",
   "metadata": {},
   "outputs": [],
   "source": [
    "database$IMIS_SUBSTANCE_CODE <- as.character(database$IMIS_SUBSTANCE_CODE)\n",
    "database$INSPECTION_NUMBER <- as.character(database$INSPECTION_NUMBER)\n",
    "database$SAMPLING_NUMBER <- as.character(database$SAMPLING_NUMBER)\n",
    "\n",
    "#remove white spaces left and right of variables\n",
    "database$INSPECTION_NUMBER <- trimws(database$INSPECTION_NUMBER)\n",
    "database$SAMPLING_NUMBER <- trimws(database$SAMPLING_NUMBER)"
   ]
  },
  {
   "cell_type": "code",
   "execution_count": 4,
   "id": "d0a7f264-f238-42a5-a6b5-cf65f9d2a7d1",
   "metadata": {},
   "outputs": [],
   "source": [
    "### Setting data.frame to count elimination\n",
    "reasons <- data.frame(YEAR = min(as.character(database$YEAR)) : max(as.character(database$YEAR)))"
   ]
  },
  {
   "cell_type": "code",
   "execution_count": 5,
   "id": "1104a6c0-ea11-4c59-bf7f-8a21466d9285",
   "metadata": {},
   "outputs": [],
   "source": [
    "# ##################### N01: Blanks ####\n",
    "# N01 removing blanks from the blank_used variable (other blanks identified later by qualifier)\n",
    "\n",
    "vec_eff <- table(database$YEAR[database$BLANK_USED != 'N'])\n",
    "reasons$N01[match(names(vec_eff), reasons$YEAR)] <- vec_eff\n",
    "\n",
    "database <- database[database$BLANK_USED == 'N', ]"
   ]
  },
  {
   "cell_type": "code",
   "execution_count": 6,
   "id": "306302e1-2c97-4837-8c08-5de616cade93",
   "metadata": {},
   "outputs": [],
   "source": [
    "# ##################### N02: Personal measurements ####\n",
    "# N02 removing non personal samples\n",
    "\n",
    "vec_eff <- table(database$YEAR[database$SAMPLE_TYPE != 'P'])\n",
    "reasons$N02[match(names(vec_eff), reasons$YEAR)] <- vec_eff\n",
    "\n",
    "database <- database[database$SAMPLE_TYPE == 'P', ] #excluding all things that are not P (keeping P only)"
   ]
  },
  {
   "cell_type": "code",
   "execution_count": 7,
   "id": "91031768-ebfd-4d13-99db-ac8e2d5adcf7",
   "metadata": {},
   "outputs": [
    {
     "data": {
      "text/html": [
       "978"
      ],
      "text/latex": [
       "978"
      ],
      "text/markdown": [
       "978"
      ],
      "text/plain": [
       "[1] 978"
      ]
     },
     "metadata": {},
     "output_type": "display_data"
    },
    {
     "data": {
      "text/html": [
       "265"
      ],
      "text/latex": [
       "265"
      ],
      "text/markdown": [
       "265"
      ],
      "text/plain": [
       "[1] 265"
      ]
     },
     "metadata": {},
     "output_type": "display_data"
    },
    {
     "data": {
      "text/html": [
       "257"
      ],
      "text/latex": [
       "257"
      ],
      "text/markdown": [
       "257"
      ],
      "text/plain": [
       "[1] 257"
      ]
     },
     "metadata": {},
     "output_type": "display_data"
    }
   ],
   "source": [
    "# ##################### N03 Excluding substances with few samples ####\n",
    "\n",
    "# Store all substances with >100 records in an object\n",
    "subst <- data.frame(table(database$IMIS_SUBSTANCE_CODE))\n",
    "names(subst) <-c('code','n')\n",
    "subst <- subst[order(-subst$n),]\n",
    "nrow(subst) #[1] 978\n",
    "subst$name <- database$SUBSTANCE[match(subst$code,database$IMIS_SUBSTANCE_CODE)]\n",
    "subst <- subst[subst$n>=100,]\n",
    "nrow(subst) #[1] 265\n",
    "#View(subst)\n",
    "# remove codes which do not correspond to chemical substances\n",
    "subst_all <- subst[!is.element(subst$code,c('G301','G302','Q115','T110','M125','Q116','Q100','S325')),]\n",
    "nrow(subst_all) #[1] 257\n",
    "sub_list_all <- sort(as.character(subst_all$code))\n",
    "\n",
    "vec_eff <- table(database$YEAR[!is.element(database$IMIS_SUBSTANCE_CODE,sub_list_all)])\n",
    "reasons$N03[match(names(vec_eff), reasons$YEAR)] <- vec_eff\n",
    "\n",
    "database <- database[is.element(database$IMIS_SUBSTANCE_CODE,sub_list_all),] #restrict to subst in the list"
   ]
  },
  {
   "cell_type": "code",
   "execution_count": 8,
   "id": "d349ea8c-ba78-47c6-9820-091707408f48",
   "metadata": {},
   "outputs": [
    {
     "data": {
      "text/html": [
       "'character'"
      ],
      "text/latex": [
       "'character'"
      ],
      "text/markdown": [
       "'character'"
      ],
      "text/plain": [
       "[1] \"character\""
      ]
     },
     "metadata": {},
     "output_type": "display_data"
    }
   ],
   "source": [
    "# library(writexl)\n",
    "\n",
    "# ##################### Preparation of conversion tables for QUALIFIER and UNIT_OF_MEASUREMENT ####\n",
    "\n",
    "#### new 2020 table ###/#: creation of a new conversion table for QUALIFIER variable\n",
    "# replace NAs in the qualifier variable by \"raw was NA\"\n",
    "class(database$QUALIFIER)"
   ]
  },
  {
   "cell_type": "code",
   "execution_count": 9,
   "id": "67b66212-736b-42ec-b821-30d551ab46a1",
   "metadata": {},
   "outputs": [
    {
     "data": {
      "text/html": [
       "1387254"
      ],
      "text/latex": [
       "1387254"
      ],
      "text/markdown": [
       "1387254"
      ],
      "text/plain": [
       "[1] 1387254"
      ]
     },
     "metadata": {},
     "output_type": "display_data"
    }
   ],
   "source": [
    "length(database$QUALIFIER) #[1] 1387254"
   ]
  },
  {
   "cell_type": "code",
   "execution_count": 10,
   "id": "99bd596a-147f-4438-acc4-48a82d6fd2ec",
   "metadata": {},
   "outputs": [
    {
     "data": {
      "text/html": [
       "56403"
      ],
      "text/latex": [
       "56403"
      ],
      "text/markdown": [
       "56403"
      ],
      "text/plain": [
       "[1] 56403"
      ]
     },
     "metadata": {},
     "output_type": "display_data"
    }
   ],
   "source": [
    "sum(is.na(database$QUALIFIER)) #[1] 751060"
   ]
  },
  {
   "cell_type": "code",
   "execution_count": 11,
   "id": "d5bbc6ef-71a8-4ba9-bbaa-ded883755d91",
   "metadata": {},
   "outputs": [
    {
     "data": {
      "text/html": [
       "1387254"
      ],
      "text/latex": [
       "1387254"
      ],
      "text/markdown": [
       "1387254"
      ],
      "text/plain": [
       "[1] 1387254"
      ]
     },
     "metadata": {},
     "output_type": "display_data"
    }
   ],
   "source": [
    "database$QUALIFIER[is.na(database$QUALIFIER)] <- \"raw was NA\"\n",
    "qualif <- data.frame(table(database$QUALIFIER))\n",
    "names(qualif) <-c('raw','n')\n",
    "#nrow(qualif) \n",
    "sum(qualif$n) #[1] 1387254\n",
    "#write_xlsx(x = qualif, path = \"qualif_new.xlsx\", col_names = TRUE)"
   ]
  },
  {
   "cell_type": "code",
   "execution_count": 12,
   "id": "5e1f4c2d-6540-4114-9907-be54a2c29d9a",
   "metadata": {},
   "outputs": [
    {
     "data": {
      "text/plain": [
       "\n",
       "        B       BLK eliminate        ND         S sample OK         W \n",
       "        1         7       137        49         6        12         1 "
      ]
     },
     "metadata": {},
     "output_type": "display_data"
    }
   ],
   "source": [
    "qualif.conv.2020 <- read.csv(\n",
    "    \"Input\\\\Raw\\\\OSHA\\\\CEHD\\\\CEHD1984_2018\\\\cleaning scripts\\\\Conversion tables\\\\qualif_new_2020.csv\",\n",
    "    sep=\";\", header=T\n",
    ")\n",
    "qualif.conv.2020$clean <- as.character(qualif.conv.2020$clean)\n",
    "qualif.conv.2020$raw <- as.character(qualif.conv.2020$raw)\n",
    "qualif.conv.2020$possible_bulk <- as.character(qualif.conv.2020$possible_bulk)\n",
    "table(qualif.conv.2020$clean)\n",
    "#B       BLK  eliminate        ND         S sample OK         W \n",
    "#1         7        137        49         6        12         1 "
   ]
  },
  {
   "cell_type": "code",
   "execution_count": 13,
   "id": "0a28e8ae-4144-43f4-aa0c-f6b45d5dfbad",
   "metadata": {},
   "outputs": [
    {
     "data": {
      "text/html": [
       "'character'"
      ],
      "text/latex": [
       "'character'"
      ],
      "text/markdown": [
       "'character'"
      ],
      "text/plain": [
       "[1] \"character\""
      ]
     },
     "metadata": {},
     "output_type": "display_data"
    },
    {
     "data": {
      "text/html": [
       "1387254"
      ],
      "text/latex": [
       "1387254"
      ],
      "text/markdown": [
       "1387254"
      ],
      "text/plain": [
       "[1] 1387254"
      ]
     },
     "metadata": {},
     "output_type": "display_data"
    },
    {
     "data": {
      "text/html": [
       "0"
      ],
      "text/latex": [
       "0"
      ],
      "text/markdown": [
       "0"
      ],
      "text/plain": [
       "[1] 0"
      ]
     },
     "metadata": {},
     "output_type": "display_data"
    }
   ],
   "source": [
    "#### UNIT_OF_MEASUREMENT\n",
    "\n",
    "#### new 2020 table ###/#: creation of a new conversion table for UNIT_OF_MEASUREMENT variable\n",
    "# replace NAs in the UNIT_OF_MEASUREMENT variable by \"raw was NA\"\n",
    "class(database$UNIT_OF_MEASUREMENT)\n",
    "length(database$UNIT_OF_MEASUREMENT) #[1] 1387254\n",
    "sum(is.na(database$UNIT_OF_MEASUREMENT)) #[1] 29836"
   ]
  },
  {
   "cell_type": "code",
   "execution_count": 14,
   "id": "f08f2adb-a789-4319-b307-a887c9d5312d",
   "metadata": {},
   "outputs": [
    {
     "data": {
      "text/html": [
       "35"
      ],
      "text/latex": [
       "35"
      ],
      "text/markdown": [
       "35"
      ],
      "text/plain": [
       "[1] 35"
      ]
     },
     "metadata": {},
     "output_type": "display_data"
    },
    {
     "data": {
      "text/html": [
       "1387254"
      ],
      "text/latex": [
       "1387254"
      ],
      "text/markdown": [
       "1387254"
      ],
      "text/plain": [
       "[1] 1387254"
      ]
     },
     "metadata": {},
     "output_type": "display_data"
    }
   ],
   "source": [
    "database$UNIT_OF_MEASUREMENT[is.na(database$UNIT_OF_MEASUREMENT)] <- \"raw was NA\"\n",
    "unit_2020 <- data.frame(table(database$UNIT_OF_MEASUREMENT))\n",
    "names(unit_2020) <-c('raw','n')\n",
    "nrow(unit_2020) \n",
    "sum(unit_2020$n) #[1] 1387254"
   ]
  },
  {
   "cell_type": "code",
   "execution_count": 15,
   "id": "8c4ee9e1-1e98-49f1-b162-0795291c6686",
   "metadata": {},
   "outputs": [
    {
     "data": {
      "text/plain": [
       "\n",
       "                  % eliminate         F         M         P         X         Y \n",
       "        2         1        22         4         2         2         2         1 "
      ]
     },
     "metadata": {},
     "output_type": "display_data"
    }
   ],
   "source": [
    "#write_xlsx(x = unit_2020, path = \"unit_conv.xlsx\", col_names = TRUE)\n",
    "unit.conv.2020 <- read.csv(\n",
    "    \"Input\\\\Raw\\\\OSHA\\\\CEHD\\\\CEHD1984_2018\\\\cleaning scripts\\\\Conversion tables\\\\unit_conv_2020.csv\",\n",
    "    sep=\";\", header=T\n",
    ")\n",
    "unit.conv.2020$clean <- as.character(unit.conv.2020$clean)\n",
    "unit.conv.2020$raw <- as.character(unit.conv.2020$raw)\n",
    "table(unit.conv.2020$clean)\n",
    "#          % eliminate         F         M         P         X         Y \n",
    "#2         1        22         4         2         2         2         1"
   ]
  },
  {
   "cell_type": "code",
   "execution_count": 16,
   "id": "3a5e9c60-364f-4ba2-9dea-de19a35da916",
   "metadata": {},
   "outputs": [],
   "source": [
    "##Add a column that indicates that the sample is censored ONLY based on the Qualifier variable with\n",
    "#approximative '<' signs\n",
    "database$CENSORED <- rep('N',length(database$IMIS_SUBSTANCE_CODE))\n",
    "database$CENSORED[database$QUALIFIER==\"-<\"] <- \"Y\"\n",
    "database$CENSORED[database$QUALIFIER==\"  <\"] <- \"Y\"\n",
    "database$CENSORED[database$QUALIFIER==\" =<\"] <- \"Y\"\n",
    "database$CENSORED[database$QUALIFIER==\"@<\"] <- \"Y\"\n",
    "database$CENSORED[database$QUALIFIER==\"@<=\"] <- \"Y\"\n",
    "database$CENSORED[database$QUALIFIER==\"@=<\"] <- \"Y\"\n",
    "database$CENSORED[database$QUALIFIER==\"<\"] <- \"Y\"\n",
    "database$CENSORED[database$QUALIFIER==\"< =\"] <- \"Y\"\n",
    "database$CENSORED[database$QUALIFIER==\"<@\"] <- \"Y\"\n",
    "database$CENSORED[database$QUALIFIER==\"<=\"] <- \"Y\"\n",
    "database$CENSORED[database$QUALIFIER==\"<= 0\"] <- \"Y\"\n",
    "database$CENSORED[database$QUALIFIER==\"= <\"] <- \"Y\"\n",
    "database$CENSORED[database$QUALIFIER==\"=<\"] <- \"Y\"\n",
    "database$CENSORED[database$QUALIFIER==\"=<@\"] <- \"Y\""
   ]
  },
  {
   "cell_type": "code",
   "execution_count": 17,
   "id": "0181c6aa-6088-4e08-a763-218fd38834af",
   "metadata": {},
   "outputs": [
    {
     "data": {
      "text/html": [
       "0"
      ],
      "text/latex": [
       "0"
      ],
      "text/markdown": [
       "0"
      ],
      "text/plain": [
       "[1] 0"
      ]
     },
     "metadata": {},
     "output_type": "display_data"
    },
    {
     "data": {
      "text/html": [
       "56403"
      ],
      "text/latex": [
       "56403"
      ],
      "text/markdown": [
       "56403"
      ],
      "text/plain": [
       "[1] 56403"
      ]
     },
     "metadata": {},
     "output_type": "display_data"
    },
    {
     "data": {
      "text/html": [
       "0"
      ],
      "text/latex": [
       "0"
      ],
      "text/markdown": [
       "0"
      ],
      "text/plain": [
       "[1] 0"
      ]
     },
     "metadata": {},
     "output_type": "display_data"
    }
   ],
   "source": [
    "# \"raw was NA\" transformed into EMPTY in QUALIFIER\n",
    "length(database$QUALIFIER[is.na(database$QUALIFIER)]) #0\n",
    "length(database$QUALIFIER[database$QUALIFIER==\"raw was NA\"]) #751060\n",
    "database$QUALIFIER[database$QUALIFIER==\"raw was NA\"] <- ''\n",
    "length(database$QUALIFIER[database$QUALIFIER==\"raw was NA\"]) #0"
   ]
  },
  {
   "cell_type": "code",
   "execution_count": 18,
   "id": "805bafbb-57bd-4846-8e9a-b9dd80e410a7",
   "metadata": {},
   "outputs": [
    {
     "data": {
      "text/html": [
       "39131"
      ],
      "text/latex": [
       "39131"
      ],
      "text/markdown": [
       "39131"
      ],
      "text/plain": [
       "[1] 39131"
      ]
     },
     "metadata": {},
     "output_type": "display_data"
    },
    {
     "data": {
      "text/html": [
       "0"
      ],
      "text/latex": [
       "0"
      ],
      "text/markdown": [
       "0"
      ],
      "text/plain": [
       "[1] 0"
      ]
     },
     "metadata": {},
     "output_type": "display_data"
    }
   ],
   "source": [
    "# NAs transformed into 0 in SAMPLE_RESULT\n",
    "database$SAMPLE_RESULT_2 <- database$SAMPLE_RESULT\n",
    "length(database$SAMPLE_RESULT_2[is.na(database$SAMPLE_RESULT_2)]) #39131\n",
    "database$SAMPLE_RESULT_2[is.na(database$SAMPLE_RESULT_2)] <- 0\n",
    "length(database$SAMPLE_RESULT_2[is.na(database$SAMPLE_RESULT_2)]) #0"
   ]
  },
  {
   "cell_type": "code",
   "execution_count": 19,
   "id": "9dedc8e3-636d-4783-9b00-c16e86c524dc",
   "metadata": {},
   "outputs": [
    {
     "data": {
      "text/html": [
       "867"
      ],
      "text/latex": [
       "867"
      ],
      "text/markdown": [
       "867"
      ],
      "text/plain": [
       "[1] 867"
      ]
     },
     "metadata": {},
     "output_type": "display_data"
    },
    {
     "data": {
      "text/html": [
       "1"
      ],
      "text/latex": [
       "1"
      ],
      "text/markdown": [
       "1"
      ],
      "text/plain": [
       "[1] 1"
      ]
     },
     "metadata": {},
     "output_type": "display_data"
    }
   ],
   "source": [
    "##################### Standardisation of qualifier variable ##################### \n",
    "#####Removing samples: Qualifier suggests ND but result is >0\n",
    "# ##################### N08 / N29 qualifier suggests ND but sample result is not null ####\n",
    "# N08\n",
    "temp <- database[(database$SAMPLE_RESULT_2>0 & database$CENSORED!=\"Y\" &\n",
    "                            is.element(database$QUALIFIER, c(qualif.conv.2020$raw[qualif.conv.2020$clean==\"ND\"]))),]\n",
    "\n",
    "vec_eff <- table(database$YEAR[(database$SAMPLE_RESULT_2>0 & database$CENSORED!=\"Y\" &\n",
    "                                is.element(database$QUALIFIER, c(qualif.conv.2020$raw[qualif.conv.2020$clean==\"ND\"])))])\n",
    "reasons$N08[match(names(vec_eff), reasons$YEAR)] <- vec_eff\n",
    "\n",
    "database <- database[!(database$SAMPLE_RESULT_2>0 & database$CENSORED!=\"Y\" &\n",
    "                      is.element(database$QUALIFIER, c(qualif.conv.2020$raw[qualif.conv.2020$clean==\"ND\"]))), ] #exclusion\n",
    "sum(reasons$N08,na.rm = TRUE)\n",
    "length(database[,1]) #1386387(-867)"
   ]
  },
  {
   "cell_type": "code",
   "execution_count": 20,
   "id": "85aa9b7c-89d5-430c-b67a-b6cb832c5d04",
   "metadata": {},
   "outputs": [
    {
     "data": {
      "text/html": [
       "8885"
      ],
      "text/latex": [
       "8885"
      ],
      "text/markdown": [
       "8885"
      ],
      "text/plain": [
       "[1] 8885"
      ]
     },
     "metadata": {},
     "output_type": "display_data"
    },
    {
     "data": {
      "text/html": [
       "1"
      ],
      "text/latex": [
       "1"
      ],
      "text/markdown": [
       "1"
      ],
      "text/plain": [
       "[1] 1"
      ]
     },
     "metadata": {},
     "output_type": "display_data"
    }
   ],
   "source": [
    "# N29\n",
    "temp <- database[(database$SAMPLE_RESULT_2>0 & (database$CENSORED==\"Y\" | \n",
    "               is.element(database$QUALIFIER, c(qualif.conv.2020$raw[qualif.conv.2020$clean==\"ND\"])))),]\n",
    "\n",
    "vec_eff <- table(database$YEAR[(database$SAMPLE_RESULT_2>0 & (database$CENSORED==\"Y\" | \n",
    "               is.element(database$QUALIFIER, c(qualif.conv.2020$raw[qualif.conv.2020$clean==\"ND\"]))))])\n",
    "reasons$N29[match(names(vec_eff), reasons$YEAR)] <- vec_eff\n",
    "\n",
    "database <- database[!(database$SAMPLE_RESULT_2>0 & (database$CENSORED==\"Y\" | \n",
    "                     is.element(database$QUALIFIER, c(qualif.conv.2020$raw[qualif.conv.2020$clean==\"ND\"])))),] #exclusion\n",
    "sum(reasons$N29,na.rm = TRUE)\n",
    "length(database[,1]) #1377502(-8885)"
   ]
  },
  {
   "cell_type": "code",
   "execution_count": 21,
   "id": "61a39d1d-1c78-44dd-9bc5-9909f9771000",
   "metadata": {},
   "outputs": [
    {
     "data": {
      "text/html": [
       "<table class=\"dataframe\">\n",
       "<caption>A data.frame: 34 × 2</caption>\n",
       "<thead>\n",
       "\t<tr><th scope=col>Var1</th><th scope=col>Freq</th></tr>\n",
       "\t<tr><th scope=col>&lt;fct&gt;</th><th scope=col>&lt;int&gt;</th></tr>\n",
       "</thead>\n",
       "<tbody>\n",
       "\t<tr><td>'     </td><td>      1</td></tr>\n",
       "\t<tr><td>%     </td><td>  36789</td></tr>\n",
       "\t<tr><td>,     </td><td>      1</td></tr>\n",
       "\t<tr><td>.     </td><td>      1</td></tr>\n",
       "\t<tr><td>@     </td><td>      1</td></tr>\n",
       "\t<tr><td>[     </td><td>      1</td></tr>\n",
       "\t<tr><td>\\    </td><td>      2</td></tr>\n",
       "\t<tr><td>]     </td><td>      1</td></tr>\n",
       "\t<tr><td>0     </td><td>     10</td></tr>\n",
       "\t<tr><td>4     </td><td>      1</td></tr>\n",
       "\t<tr><td>5     </td><td>      5</td></tr>\n",
       "\t<tr><td>AAAAA </td><td>    492</td></tr>\n",
       "\t<tr><td>B     </td><td>     10</td></tr>\n",
       "\t<tr><td>C     </td><td>      2</td></tr>\n",
       "\t<tr><td>D     </td><td>     23</td></tr>\n",
       "\t<tr><td>E     </td><td>     11</td></tr>\n",
       "\t<tr><td>f     </td><td>      2</td></tr>\n",
       "\t<tr><td>F     </td><td>  18915</td></tr>\n",
       "\t<tr><td>L     </td><td>     53</td></tr>\n",
       "\t<tr><td>m     </td><td>     17</td></tr>\n",
       "\t<tr><td>M     </td><td>1020222</td></tr>\n",
       "\t<tr><td>mcg/m3</td><td>    994</td></tr>\n",
       "\t<tr><td>N     </td><td>    345</td></tr>\n",
       "\t<tr><td>None  </td><td>  29840</td></tr>\n",
       "\t<tr><td>O     </td><td>      2</td></tr>\n",
       "\t<tr><td>p     </td><td>      8</td></tr>\n",
       "\t<tr><td>P     </td><td> 267434</td></tr>\n",
       "\t<tr><td>S     </td><td>      1</td></tr>\n",
       "\t<tr><td>T     </td><td>      6</td></tr>\n",
       "\t<tr><td>u     </td><td>      1</td></tr>\n",
       "\t<tr><td>U     </td><td>     85</td></tr>\n",
       "\t<tr><td>x     </td><td>      3</td></tr>\n",
       "\t<tr><td>X     </td><td>   2093</td></tr>\n",
       "\t<tr><td>Y     </td><td>    130</td></tr>\n",
       "</tbody>\n",
       "</table>\n"
      ],
      "text/latex": [
       "A data.frame: 34 × 2\n",
       "\\begin{tabular}{ll}\n",
       " Var1 & Freq\\\\\n",
       " <fct> & <int>\\\\\n",
       "\\hline\n",
       "\t '      &       1\\\\\n",
       "\t \\%      &   36789\\\\\n",
       "\t ,      &       1\\\\\n",
       "\t .      &       1\\\\\n",
       "\t @      &       1\\\\\n",
       "\t {[}      &       1\\\\\n",
       "\t \\textbackslash{}     &       2\\\\\n",
       "\t {]}      &       1\\\\\n",
       "\t 0      &      10\\\\\n",
       "\t 4      &       1\\\\\n",
       "\t 5      &       5\\\\\n",
       "\t AAAAA  &     492\\\\\n",
       "\t B      &      10\\\\\n",
       "\t C      &       2\\\\\n",
       "\t D      &      23\\\\\n",
       "\t E      &      11\\\\\n",
       "\t f      &       2\\\\\n",
       "\t F      &   18915\\\\\n",
       "\t L      &      53\\\\\n",
       "\t m      &      17\\\\\n",
       "\t M      & 1020222\\\\\n",
       "\t mcg/m3 &     994\\\\\n",
       "\t N      &     345\\\\\n",
       "\t None   &   29840\\\\\n",
       "\t O      &       2\\\\\n",
       "\t p      &       8\\\\\n",
       "\t P      &  267434\\\\\n",
       "\t S      &       1\\\\\n",
       "\t T      &       6\\\\\n",
       "\t u      &       1\\\\\n",
       "\t U      &      85\\\\\n",
       "\t x      &       3\\\\\n",
       "\t X      &    2093\\\\\n",
       "\t Y      &     130\\\\\n",
       "\\end{tabular}\n"
      ],
      "text/markdown": [
       "\n",
       "A data.frame: 34 × 2\n",
       "\n",
       "| Var1 &lt;fct&gt; | Freq &lt;int&gt; |\n",
       "|---|---|\n",
       "| '      |       1 |\n",
       "| %      |   36789 |\n",
       "| ,      |       1 |\n",
       "| .      |       1 |\n",
       "| @      |       1 |\n",
       "| [      |       1 |\n",
       "| \\     |       2 |\n",
       "| ]      |       1 |\n",
       "| 0      |      10 |\n",
       "| 4      |       1 |\n",
       "| 5      |       5 |\n",
       "| AAAAA  |     492 |\n",
       "| B      |      10 |\n",
       "| C      |       2 |\n",
       "| D      |      23 |\n",
       "| E      |      11 |\n",
       "| f      |       2 |\n",
       "| F      |   18915 |\n",
       "| L      |      53 |\n",
       "| m      |      17 |\n",
       "| M      | 1020222 |\n",
       "| mcg/m3 |     994 |\n",
       "| N      |     345 |\n",
       "| None   |   29840 |\n",
       "| O      |       2 |\n",
       "| p      |       8 |\n",
       "| P      |  267434 |\n",
       "| S      |       1 |\n",
       "| T      |       6 |\n",
       "| u      |       1 |\n",
       "| U      |      85 |\n",
       "| x      |       3 |\n",
       "| X      |    2093 |\n",
       "| Y      |     130 |\n",
       "\n"
      ],
      "text/plain": [
       "   Var1   Freq   \n",
       "1  '            1\n",
       "2  %        36789\n",
       "3  ,            1\n",
       "4  .            1\n",
       "5  @            1\n",
       "6  [            1\n",
       "7  \\\\           2\n",
       "8  ]            1\n",
       "9  0           10\n",
       "10 4            1\n",
       "11 5            5\n",
       "12 AAAAA      492\n",
       "13 B           10\n",
       "14 C            2\n",
       "15 D           23\n",
       "16 E           11\n",
       "17 f            2\n",
       "18 F        18915\n",
       "19 L           53\n",
       "20 m           17\n",
       "21 M      1020222\n",
       "22 mcg/m3     994\n",
       "23 N          345\n",
       "24 None     29840\n",
       "25 O            2\n",
       "26 p            8\n",
       "27 P       267434\n",
       "28 S            1\n",
       "29 T            6\n",
       "30 u            1\n",
       "31 U           85\n",
       "32 x            3\n",
       "33 X         2093\n",
       "34 Y          130"
      ]
     },
     "metadata": {},
     "output_type": "display_data"
    },
    {
     "data": {
      "text/plain": [
       "\n",
       "        % eliminate         F         M      None         P         X         Y \n",
       "    36789      2015     18951   1020239     29840    267442      2096       130 "
      ]
     },
     "metadata": {},
     "output_type": "display_data"
    }
   ],
   "source": [
    "#####Removing samples: Qualifier conflicting with unit of measurement / sample type, or judged 'to be eliminated'\n",
    "#cleaning unit of measurement\n",
    "\n",
    "database$UNIT_OF_MEASUREMENT_2 <- database$UNIT_OF_MEASUREMENT\n",
    "unik.clean <- unique(unit.conv.2020$clean)\n",
    "\n",
    "for (j in 1:length(unik.clean))\n",
    "{\n",
    "one.clean <- as.character(unik.clean)[j]\n",
    "raw.values <- as.character(unit.conv.2020$raw[unit.conv.2020$clean==one.clean])\n",
    "database$UNIT_OF_MEASUREMENT_2[is.element(database$UNIT_OF_MEASUREMENT, raw.values)] <- one.clean \n",
    "}\n",
    "\n",
    "as.data.frame(table(database$UNIT_OF_MEASUREMENT))\n",
    "table(database$UNIT_OF_MEASUREMENT_2)"
   ]
  },
  {
   "cell_type": "code",
   "execution_count": 22,
   "id": "a3946c02-8ed3-4e8d-9d10-457a5282aac6",
   "metadata": {},
   "outputs": [
    {
     "data": {
      "text/html": [
       "21"
      ],
      "text/latex": [
       "21"
      ],
      "text/markdown": [
       "21"
      ],
      "text/plain": [
       "[1] 21"
      ]
     },
     "metadata": {},
     "output_type": "display_data"
    },
    {
     "data": {
      "text/html": [
       "1"
      ],
      "text/latex": [
       "1"
      ],
      "text/markdown": [
       "1"
      ],
      "text/plain": [
       "[1] 1"
      ]
     },
     "metadata": {},
     "output_type": "display_data"
    }
   ],
   "source": [
    "# ##################### N04: qualifier=BLK and not possible bulk # elimination ####\n",
    "temp <- database[is.element(database$QUALIFIER, c(qualif.conv.2020$raw[qualif.conv.2020$clean==\"BLK\" & \n",
    "                                                                       qualif.conv.2020$possible_bulk==\"N\"])),]\n",
    "\n",
    "vec_eff <- table(database$YEAR[is.element(database$QUALIFIER, c(qualif.conv.2020$raw[qualif.conv.2020$clean==\"BLK\" & \n",
    "                                                                                     qualif.conv.2020$possible_bulk==\"N\"]))])\n",
    "reasons$N04[match(names(vec_eff), reasons$YEAR)] <- vec_eff\n",
    "\n",
    "database <- database[!is.element(database$QUALIFIER, c(qualif.conv.2020$raw[qualif.conv.2020$clean==\"BLK\" & \n",
    "                                                                            qualif.conv.2020$possible_bulk==\"N\"])),] #exclusion\n",
    "sum(reasons$N04,na.rm = TRUE)\n",
    "length(database[,1]) #1377481(-21)"
   ]
  },
  {
   "cell_type": "code",
   "execution_count": 23,
   "id": "dc9eba6a-0632-468d-b8af-60ca9d573657",
   "metadata": {},
   "outputs": [
    {
     "data": {
      "text/html": [
       "458"
      ],
      "text/latex": [
       "458"
      ],
      "text/markdown": [
       "458"
      ],
      "text/plain": [
       "[1] 458"
      ]
     },
     "metadata": {},
     "output_type": "display_data"
    },
    {
     "data": {
      "text/html": [
       "1"
      ],
      "text/latex": [
       "1"
      ],
      "text/markdown": [
       "1"
      ],
      "text/plain": [
       "[1] 1"
      ]
     },
     "metadata": {},
     "output_type": "display_data"
    }
   ],
   "source": [
    "# ##################### N05: qualifier deemed not interpretable and record is to be eliminated ####\n",
    "temp <- database[is.element(database$QUALIFIER, c(qualif.conv.2020$raw[qualif.conv.2020$clean==\"eliminate\"])),]\n",
    "\n",
    "vec_eff <- table(database$YEAR[is.element(database$QUALIFIER, c(qualif.conv.2020$raw[qualif.conv.2020$clean==\"eliminate\"]))])\n",
    "reasons$N05[match(names(vec_eff), reasons$YEAR)] <- vec_eff\n",
    "\n",
    "database <- database[!is.element(database$QUALIFIER, c(qualif.conv.2020$raw[qualif.conv.2020$clean==\"eliminate\"])),] #exclusion\n",
    "sum(reasons$N05,na.rm = TRUE)\n",
    "length(database[,1]) #1377022(-459)"
   ]
  },
  {
   "cell_type": "code",
   "execution_count": 24,
   "id": "bda7c997-2f23-4be4-a163-ad186cfc0e1c",
   "metadata": {},
   "outputs": [
    {
     "data": {
      "text/html": [
       "251"
      ],
      "text/latex": [
       "251"
      ],
      "text/markdown": [
       "251"
      ],
      "text/plain": [
       "[1] 251"
      ]
     },
     "metadata": {},
     "output_type": "display_data"
    },
    {
     "data": {
      "text/html": [
       "1"
      ],
      "text/latex": [
       "1"
      ],
      "text/markdown": [
       "1"
      ],
      "text/plain": [
       "[1] 1"
      ]
     },
     "metadata": {},
     "output_type": "display_data"
    }
   ],
   "source": [
    "# ##################### N06 / N07: qualifier conflicting with sample type ####\n",
    "temp <- database[is.element(database$QUALIFIER, c(qualif.conv.2020$raw[qualif.conv.2020$clean==\"B\" | qualif.conv.2020$clean==\"W\"])),]\n",
    "\n",
    "vec_eff <- table(database$YEAR[is.element(database$QUALIFIER, c(qualif.conv.2020$raw[qualif.conv.2020$clean==\"B\" | qualif.conv.2020$clean==\"W\"]))])\n",
    "reasons$N0607[match(names(vec_eff), reasons$YEAR)] <- vec_eff\n",
    "\n",
    "database <- database[!is.element(database$QUALIFIER, c(qualif.conv.2020$raw[qualif.conv.2020$clean==\"B\" | qualif.conv.2020$clean==\"W\"])),] #exclusion\n",
    "sum(reasons$N0607,na.rm = TRUE)\n",
    "length(database[,1]) #1376771(-251)"
   ]
  },
  {
   "cell_type": "code",
   "execution_count": 25,
   "id": "acc44c81-c113-45d9-807a-5ad1c0619036",
   "metadata": {},
   "outputs": [
    {
     "data": {
      "text/html": [
       "318"
      ],
      "text/latex": [
       "318"
      ],
      "text/markdown": [
       "318"
      ],
      "text/plain": [
       "[1] 318"
      ]
     },
     "metadata": {},
     "output_type": "display_data"
    },
    {
     "data": {
      "text/html": [
       "1"
      ],
      "text/latex": [
       "1"
      ],
      "text/markdown": [
       "1"
      ],
      "text/plain": [
       "[1] 1"
      ]
     },
     "metadata": {},
     "output_type": "display_data"
    }
   ],
   "source": [
    "# ##################### N09: qualifier=BLK and a possible bulk as judged by researcher and variable blank_used says NO and sample type is not bulk, final result=eliminate ####\n",
    "temp <- database[is.element(database$QUALIFIER, c(qualif.conv.2020$raw[qualif.conv.2020$clean==\"BLK\" & qualif.conv.2020$possible_bulk==\"Y\"])) & is.element(database$BLANK_USED,\"N\"),]\n",
    "\n",
    "vec_eff <- table(database$YEAR[is.element(database$QUALIFIER, c(qualif.conv.2020$raw[qualif.conv.2020$clean==\"BLK\" & qualif.conv.2020$possible_bulk==\"Y\"])) & is.element(database$BLANK_USED,\"N\")])\n",
    "reasons$N09[match(names(vec_eff), reasons$YEAR)] <- vec_eff\n",
    "\n",
    "database <- database[!is.element(database$QUALIFIER, c(qualif.conv.2020$raw[qualif.conv.2020$clean==\"BLK\" & qualif.conv.2020$possible_bulk==\"Y\"])) & is.element(database$BLANK_USED,\"N\"),] #exclusion\n",
    "sum(reasons$N09,na.rm = TRUE)\n",
    "length(database[,1]) #1376453(-318)"
   ]
  },
  {
   "cell_type": "code",
   "execution_count": 26,
   "id": "b40fb920-c417-4280-88fd-9530ad439ecf",
   "metadata": {},
   "outputs": [
    {
     "data": {
      "text/html": [
       "195"
      ],
      "text/latex": [
       "195"
      ],
      "text/markdown": [
       "195"
      ],
      "text/plain": [
       "[1] 195"
      ]
     },
     "metadata": {},
     "output_type": "display_data"
    },
    {
     "data": {
      "text/html": [
       "1"
      ],
      "text/latex": [
       "1"
      ],
      "text/markdown": [
       "1"
      ],
      "text/plain": [
       "[1] 1"
      ]
     },
     "metadata": {},
     "output_type": "display_data"
    }
   ],
   "source": [
    "# ##################### N10: combustion related : eliminate ####\n",
    "temp <- database[is.element(database$QUALIFIER, c(\"COMB\",'COMD','com','comb')),]\n",
    "\n",
    "vec_eff <- table(database$YEAR[is.element(database$QUALIFIER, c(\"COMB\",'COMD','com','comb'))])\n",
    "reasons$N10[match(names(vec_eff), reasons$YEAR)] <- vec_eff\n",
    "\n",
    "database <- database[!is.element(database$QUALIFIER, c(\"COMB\",'COMD','com','comb')),] #exclusion\n",
    "sum(reasons$N10,na.rm = TRUE)\n",
    "length(database[,1]) #1376258(-195)"
   ]
  },
  {
   "cell_type": "code",
   "execution_count": 27,
   "id": "43bb0654-9426-4a47-a44b-841c36f99ca6",
   "metadata": {},
   "outputs": [
    {
     "data": {
      "text/html": [
       "2"
      ],
      "text/latex": [
       "2"
      ],
      "text/markdown": [
       "2"
      ],
      "text/plain": [
       "[1] 2"
      ]
     },
     "metadata": {},
     "output_type": "display_data"
    },
    {
     "data": {
      "text/html": [
       "1"
      ],
      "text/latex": [
       "1"
      ],
      "text/markdown": [
       "1"
      ],
      "text/plain": [
       "[1] 1"
      ]
     },
     "metadata": {},
     "output_type": "display_data"
    }
   ],
   "source": [
    "# ##################### N11: qualifier suggest fibers (F) but F not relevant for substance ####\n",
    "temp <- database[database$QUALIFIER==\"F\" & database$IMIS_SUBSTANCE_CODE!=9020,]\n",
    "\n",
    "vec_eff <- table(database$YEAR[database$QUALIFIER==\"F\" & database$IMIS_SUBSTANCE_CODE!=9020])\n",
    "reasons$N11[match(names(vec_eff), reasons$YEAR)] <- vec_eff\n",
    "\n",
    "database <- database[!(database$QUALIFIER==\"F\" & database$IMIS_SUBSTANCE_CODE!=9020),] #exclusion\n",
    "sum(reasons$N11,na.rm = TRUE)\n",
    "length(database[,1]) #1376256(-2)"
   ]
  },
  {
   "cell_type": "code",
   "execution_count": 28,
   "id": "b5428857-2290-40ef-be54-8966d1e1fbb9",
   "metadata": {},
   "outputs": [
    {
     "data": {
      "text/html": [
       "50"
      ],
      "text/latex": [
       "50"
      ],
      "text/markdown": [
       "50"
      ],
      "text/plain": [
       "[1] 50"
      ]
     },
     "metadata": {},
     "output_type": "display_data"
    },
    {
     "data": {
      "text/html": [
       "1"
      ],
      "text/latex": [
       "1"
      ],
      "text/markdown": [
       "1"
      ],
      "text/plain": [
       "[1] 1"
      ]
     },
     "metadata": {},
     "output_type": "display_data"
    }
   ],
   "source": [
    "# ##################### N13: 'Y' qualifier value judged possible 'Ytrium', deemed OK for the generic particles category only : 9135 ####\n",
    "temp <- database[database$QUALIFIER==\"Y\" & database$IMIS_SUBSTANCE_CODE!=9135,]\n",
    "\n",
    "vec_eff <- table(database$YEAR[database$QUALIFIER==\"Y\" & database$IMIS_SUBSTANCE_CODE!=9135])\n",
    "reasons$N13[match(names(vec_eff), reasons$YEAR)] <- vec_eff\n",
    "\n",
    "database <- database[!(database$QUALIFIER==\"Y\" & database$IMIS_SUBSTANCE_CODE!=9135),] #exclusion\n",
    "sum(reasons$N13,na.rm = TRUE)\n",
    "length(database[,1]) #1376206(-50)"
   ]
  },
  {
   "cell_type": "code",
   "execution_count": 29,
   "id": "8b442bc5-22a8-4224-9dd3-2b8376639a4f",
   "metadata": {},
   "outputs": [
    {
     "data": {
      "text/html": [
       "835"
      ],
      "text/latex": [
       "835"
      ],
      "text/markdown": [
       "835"
      ],
      "text/plain": [
       "[1] 835"
      ]
     },
     "metadata": {},
     "output_type": "display_data"
    },
    {
     "data": {
      "text/html": [
       "1"
      ],
      "text/latex": [
       "1"
      ],
      "text/markdown": [
       "1"
      ],
      "text/plain": [
       "[1] 1"
      ]
     },
     "metadata": {},
     "output_type": "display_data"
    }
   ],
   "source": [
    "# ##################### N16: measure is approximate (to be eliminated) ####\n",
    "temp <- database[is.element(database$QUALIFIER,c(\"@\",\" @\",\"@<\",\"@=<\",\"@<=\",\"<@\",\"=<@\",\"EST\")),]\n",
    "\n",
    "vec_eff <- table(database$YEAR[is.element(database$QUALIFIER,c(\"@\",\" @\",\"@<\",\"@=<\",\"@<=\",\"<@\",\"=<@\",\"EST\"))])\n",
    "reasons$N16[match(names(vec_eff), reasons$YEAR)] <- vec_eff\n",
    "\n",
    "database <- database[!is.element(database$QUALIFIER,c(\"@\",\" @\",\"@<\",\"@=<\",\"@<=\",\"<@\",\"=<@\",\"EST\")),] #exclusion\n",
    "sum(reasons$N16,na.rm = TRUE)\n",
    "length(database[,1]) #1375371(-835)"
   ]
  },
  {
   "cell_type": "code",
   "execution_count": 30,
   "id": "8d5342d2-cb47-44d7-9958-6fbbd051c7e8",
   "metadata": {},
   "outputs": [
    {
     "data": {
      "text/html": [
       "6"
      ],
      "text/latex": [
       "6"
      ],
      "text/markdown": [
       "6"
      ],
      "text/plain": [
       "[1] 6"
      ]
     },
     "metadata": {},
     "output_type": "display_data"
    },
    {
     "data": {
      "text/html": [
       "1"
      ],
      "text/latex": [
       "1"
      ],
      "text/markdown": [
       "1"
      ],
      "text/plain": [
       "[1] 1"
      ]
     },
     "metadata": {},
     "output_type": "display_data"
    }
   ],
   "source": [
    "# ##################### N19: elimination of records that have \"%\" in qualifier, but not \"%\" in the unit (to be removed), same for \"M\"  ####\n",
    "temp <- database[(database$UNIT_OF_MEASUREMENT_2!=\"%\" & database$QUALIFIER==\"%\") | (database$UNIT_OF_MEASUREMENT_2!=\"M\" & database$QUALIFIER==\"M\"),]\n",
    "\n",
    "vec_eff <- table(database$YEAR[(database$UNIT_OF_MEASUREMENT_2!=\"%\" & database$QUALIFIER==\"%\") | (database$UNIT_OF_MEASUREMENT_2!=\"M\" & database$QUALIFIER==\"M\")])\n",
    "reasons$N19[match(names(vec_eff), reasons$YEAR)] <- vec_eff\n",
    "\n",
    "database <- database[!((database$UNIT_OF_MEASUREMENT_2!=\"%\" & database$QUALIFIER==\"%\") | (database$UNIT_OF_MEASUREMENT_2!=\"M\" & database$QUALIFIER==\"M\")),] #exclusion\n",
    "sum(reasons$N19,na.rm = TRUE)\n",
    "length(database[,1]) #1375365(-6)"
   ]
  },
  {
   "cell_type": "code",
   "execution_count": 31,
   "id": "16946fa7-269d-4f43-aede-fba74af6779f",
   "metadata": {},
   "outputs": [
    {
     "data": {
      "text/html": [
       "'character'"
      ],
      "text/latex": [
       "'character'"
      ],
      "text/markdown": [
       "'character'"
      ],
      "text/plain": [
       "[1] \"character\""
      ]
     },
     "metadata": {},
     "output_type": "display_data"
    },
    {
     "data": {
      "text/plain": [
       "\n",
       " 0527  1073  1300  2270  2470  9020  9135  R251 \n",
       "    1     5   576     1     1 18105     1   189 "
      ]
     },
     "metadata": {},
     "output_type": "display_data"
    },
    {
     "data": {
      "text/html": [
       "8"
      ],
      "text/latex": [
       "8"
      ],
      "text/markdown": [
       "8"
      ],
      "text/plain": [
       "[1] 8"
      ]
     },
     "metadata": {},
     "output_type": "display_data"
    },
    {
     "data": {
      "text/html": [
       "1"
      ],
      "text/latex": [
       "1"
      ],
      "text/markdown": [
       "1"
      ],
      "text/plain": [
       "[1] 1"
      ]
     },
     "metadata": {},
     "output_type": "display_data"
    }
   ],
   "source": [
    "#####Removing samples: Unit of measurement is judged erroneous / missing  but the sample result is not null / conflicting with substance\n",
    "\n",
    "# ##################### N17 / N18: elimination of records that should not have \"F\" as unit  ####\n",
    "temp <- database[database$UNIT_OF_MEASUREMENT_2==\"F\",]\n",
    "class(temp$IMIS_SUBSTANCE_CODE)\n",
    "temp$IMIS_SUBSTANCE_CODE <- as.character(temp$IMIS_SUBSTANCE_CODE)\n",
    "table(temp$IMIS_SUBSTANCE_CODE)\n",
    "#0527  1073  1300  2270  2470  9020  9135  R251 \n",
    "#   1     5   576     1     1 18105     1   189  \n",
    "\n",
    "temp <- database[is.element(database$IMIS_SUBSTANCE_CODE,c('0527','1073','2270','2470','9135')) & database$UNIT_OF_MEASUREMENT_2==\"F\",]\n",
    "\n",
    "vec_eff <- table(database$YEAR[is.element(database$IMIS_SUBSTANCE_CODE,c('1073','2270','2470','9135')) & database$UNIT_OF_MEASUREMENT_2==\"F\"])\n",
    "reasons$N1718[match(names(vec_eff), reasons$YEAR)] <- vec_eff\n",
    "\n",
    "database <- database[!(is.element(database$IMIS_SUBSTANCE_CODE,c('1073','2270','2470','9135')) & database$UNIT_OF_MEASUREMENT_2==\"F\"),] #exclusion\n",
    "sum(reasons$N1718,na.rm = TRUE)\n",
    "length(database[,1]) #1375357(-8)"
   ]
  },
  {
   "cell_type": "code",
   "execution_count": 32,
   "id": "1448851b-da91-43d1-a1ab-04e4e6ce87fe",
   "metadata": {},
   "outputs": [
    {
     "data": {
      "text/html": [
       "0"
      ],
      "text/latex": [
       "0"
      ],
      "text/markdown": [
       "0"
      ],
      "text/plain": [
       "[1] 0"
      ]
     },
     "metadata": {},
     "output_type": "display_data"
    },
    {
     "data": {
      "text/html": [
       "1"
      ],
      "text/latex": [
       "1"
      ],
      "text/markdown": [
       "1"
      ],
      "text/plain": [
       "[1] 1"
      ]
     },
     "metadata": {},
     "output_type": "display_data"
    }
   ],
   "source": [
    "# ##################### N23: elimination of records for which the sample result is not null and that the unit is empty  ####\n",
    "temp <- database[database$UNIT_OF_MEASUREMENT_2==\"\" & database$SAMPLE_RESULT_2>0,]\n",
    "\n",
    "vec_eff <- table(database$YEAR[database$UNIT_OF_MEASUREMENT_2==\"\" & database$SAMPLE_RESULT_2>0])\n",
    "reasons$N23[match(names(vec_eff), reasons$YEAR)] <- vec_eff\n",
    "\n",
    "database <- database[!(database$UNIT_OF_MEASUREMENT_2==\"\" & database$SAMPLE_RESULT_2>0),] #exclusion\n",
    "sum(reasons$N23,na.rm = TRUE)\n",
    "length(database[,1]) #1374125(-1232)"
   ]
  },
  {
   "cell_type": "code",
   "execution_count": 33,
   "id": "87ddda72-6db3-43ad-94eb-51b4b299969b",
   "metadata": {},
   "outputs": [
    {
     "data": {
      "text/html": [
       "8"
      ],
      "text/latex": [
       "8"
      ],
      "text/markdown": [
       "8"
      ],
      "text/plain": [
       "[1] 8"
      ]
     },
     "metadata": {},
     "output_type": "display_data"
    },
    {
     "data": {
      "text/html": [
       "1"
      ],
      "text/latex": [
       "1"
      ],
      "text/markdown": [
       "1"
      ],
      "text/plain": [
       "[1] 1"
      ]
     },
     "metadata": {},
     "output_type": "display_data"
    }
   ],
   "source": [
    "# ##################### N24: elimination of cases where unit is \"%\" in unit, but sample_result is >100  ####\n",
    "temp <- database[database$UNIT_OF_MEASUREMENT_2==\"%\" & database$SAMPLE_RESULT_2>100,]\n",
    "\n",
    "vec_eff <- table(database$YEAR[database$UNIT_OF_MEASUREMENT_2==\"%\" & database$SAMPLE_RESULT_2>100])\n",
    "reasons$N24[match(names(vec_eff), reasons$YEAR)] <- vec_eff\n",
    "\n",
    "database <- database[!(database$UNIT_OF_MEASUREMENT_2==\"%\" & database$SAMPLE_RESULT_2>100),] #exclusion\n",
    "sum(reasons$N24,na.rm = TRUE)\n",
    "length(database[,1]) #1374117(-8)"
   ]
  },
  {
   "cell_type": "code",
   "execution_count": 34,
   "id": "53afec3f-9cc6-4bd0-ab32-8052e1dfcb52",
   "metadata": {},
   "outputs": [
    {
     "data": {
      "text/html": [
       "'numeric'"
      ],
      "text/latex": [
       "'numeric'"
      ],
      "text/markdown": [
       "'numeric'"
      ],
      "text/plain": [
       "[1] \"numeric\""
      ]
     },
     "metadata": {},
     "output_type": "display_data"
    },
    {
     "data": {
      "text/html": [
       "3925"
      ],
      "text/latex": [
       "3925"
      ],
      "text/markdown": [
       "3925"
      ],
      "text/plain": [
       "[1] 3925"
      ]
     },
     "metadata": {},
     "output_type": "display_data"
    },
    {
     "data": {
      "text/plain": [
       "    Min.  1st Qu.   Median     Mean  3rd Qu.     Max.     NA's \n",
       "     0.0     30.8    314.2    368.8    606.0 924560.0     3925 "
      ]
     },
     "metadata": {},
     "output_type": "display_data"
    },
    {
     "data": {
      "text/html": [
       "257"
      ],
      "text/latex": [
       "257"
      ],
      "text/markdown": [
       "257"
      ],
      "text/plain": [
       "[1] 257"
      ]
     },
     "metadata": {},
     "output_type": "display_data"
    },
    {
     "data": {
      "text/html": [
       "<style>\n",
       ".list-inline {list-style: none; margin:0; padding: 0}\n",
       ".list-inline>li {display: inline-block}\n",
       ".list-inline>li:not(:last-child)::after {content: \"\\00b7\"; padding: 0 .5ex}\n",
       "</style>\n",
       "<ol class=list-inline><li>'0040'</li><li>'0230'</li><li>'0260'</li><li>'0360'</li><li>'0430'</li><li>'0491'</li><li>'0685'</li><li>'0720'</li><li>'0731'</li><li>'1073'</li><li>'1290'</li><li>'1520'</li><li>'1560'</li><li>'1591'</li><li>'1620'</li><li>'1730'</li><li>'1790'</li><li>'1840'</li><li>'2270'</li><li>'2280'</li><li>'2460'</li><li>'2571'</li><li>'2590'</li><li>'2610'</li><li>'9010'</li><li>'9020'</li><li>'9130'</li><li>'9135'</li><li>'C141'</li></ol>\n"
      ],
      "text/latex": [
       "\\begin{enumerate*}\n",
       "\\item '0040'\n",
       "\\item '0230'\n",
       "\\item '0260'\n",
       "\\item '0360'\n",
       "\\item '0430'\n",
       "\\item '0491'\n",
       "\\item '0685'\n",
       "\\item '0720'\n",
       "\\item '0731'\n",
       "\\item '1073'\n",
       "\\item '1290'\n",
       "\\item '1520'\n",
       "\\item '1560'\n",
       "\\item '1591'\n",
       "\\item '1620'\n",
       "\\item '1730'\n",
       "\\item '1790'\n",
       "\\item '1840'\n",
       "\\item '2270'\n",
       "\\item '2280'\n",
       "\\item '2460'\n",
       "\\item '2571'\n",
       "\\item '2590'\n",
       "\\item '2610'\n",
       "\\item '9010'\n",
       "\\item '9020'\n",
       "\\item '9130'\n",
       "\\item '9135'\n",
       "\\item 'C141'\n",
       "\\end{enumerate*}\n"
      ],
      "text/markdown": [
       "1. '0040'\n",
       "2. '0230'\n",
       "3. '0260'\n",
       "4. '0360'\n",
       "5. '0430'\n",
       "6. '0491'\n",
       "7. '0685'\n",
       "8. '0720'\n",
       "9. '0731'\n",
       "10. '1073'\n",
       "11. '1290'\n",
       "12. '1520'\n",
       "13. '1560'\n",
       "14. '1591'\n",
       "15. '1620'\n",
       "16. '1730'\n",
       "17. '1790'\n",
       "18. '1840'\n",
       "19. '2270'\n",
       "20. '2280'\n",
       "21. '2460'\n",
       "22. '2571'\n",
       "23. '2590'\n",
       "24. '2610'\n",
       "25. '9010'\n",
       "26. '9020'\n",
       "27. '9130'\n",
       "28. '9135'\n",
       "29. 'C141'\n",
       "\n",
       "\n"
      ],
      "text/plain": [
       " [1] \"0040\" \"0230\" \"0260\" \"0360\" \"0430\" \"0491\" \"0685\" \"0720\" \"0731\" \"1073\"\n",
       "[11] \"1290\" \"1520\" \"1560\" \"1591\" \"1620\" \"1730\" \"1790\" \"1840\" \"2270\" \"2280\"\n",
       "[21] \"2460\" \"2571\" \"2590\" \"2610\" \"9010\" \"9020\" \"9130\" \"9135\" \"C141\""
      ]
     },
     "metadata": {},
     "output_type": "display_data"
    },
    {
     "data": {
      "text/html": [
       "'9010'"
      ],
      "text/latex": [
       "'9010'"
      ],
      "text/markdown": [
       "'9010'"
      ],
      "text/plain": [
       "[1] \"9010\""
      ]
     },
     "metadata": {},
     "output_type": "display_data"
    },
    {
     "data": {
      "text/html": [
       "'S103'"
      ],
      "text/latex": [
       "'S103'"
      ],
      "text/markdown": [
       "'S103'"
      ],
      "text/plain": [
       "[1] \"S103\""
      ]
     },
     "metadata": {},
     "output_type": "display_data"
    },
    {
     "data": {
      "text/html": [
       "1100427"
      ],
      "text/latex": [
       "1100427"
      ],
      "text/markdown": [
       "1100427"
      ],
      "text/plain": [
       "[1] 1100427"
      ]
     },
     "metadata": {},
     "output_type": "display_data"
    }
   ],
   "source": [
    "## Modification of variables qualifier and air volume sampled ####\n",
    "##creating a qualifier.2 : detected / not detected\n",
    "database$QUALIFIER_2 <- rep('detected',length(database[,1]))\n",
    "database$QUALIFIER_2[database$SAMPLE_RESULT_2==0] <- 'ND'\t\n",
    "\n",
    "#**** this step is simplified for the 2020 cleanup: AIR_VOLUME_SAMPLED==NA, 0 or empty are deleted at N22 / N27 **** \n",
    "class(database$AIR_VOLUME_SAMPLED)\n",
    "length(database$AIR_VOLUME_SAMPLED[is.na(database$AIR_VOLUME_SAMPLED)]) #[1] 3897\n",
    "temp <- database[which(is.na(as.numeric(as.character(database$AIR_VOLUME_SAMPLED)))),]\n",
    "summary(database$AIR_VOLUME_SAMPLED,na.rm=TRUE)\n",
    "#   Min.  1st Qu.   Median     Mean  3rd Qu.     Max.     NA's \n",
    "#   0.0     30.8    314.4    368.9    606.0 924560.0     3897 \n",
    "cehd_top <- database[1:5000,]\n",
    "\n",
    "\n",
    "#further standardization of units\n",
    "#based on the units for the personal cleaned, we keep only the %, F, M, P data\n",
    "#in addition sample weight must not be null for detected results with perc\n",
    "\n",
    "#list of 29 substances with most records\n",
    "subst <- data.frame(table(database$IMIS_SUBSTANCE_CODE))\n",
    "names(subst) <-c('code','n')\n",
    "subst <- subst[order(-subst$n),]\n",
    "nrow(subst) #[1] 257\n",
    "list_29 <- as.character(sort(subst$code[c(1:29)]))\n",
    "list_29\n",
    "\n",
    "#list used in 2011 cleanup\n",
    "substances.list.29 <-c('0040','0230','0260','0360','0430','0491','0685','0720','0731','1073','1290','1520','1560',\n",
    "                     '1591','1620','1730','1790','1840','2270','2280','2460','2571','2590','2610','9020','9130','9135','C141','S103')\n",
    "\n",
    "setdiff(list_29,substances.list.29) #[1] \"9010\"\n",
    "setdiff(substances.list.29,list_29) #[1] \"S103\"\n",
    "#9010 is replaced by S103 in the list\n",
    "sum(subst$n[is.element(subst$code,substances.list.29)]) #[1] 1099503\n",
    "\n",
    "#list used in 2011 cleanup will also be used in the current 2020 cleanup"
   ]
  },
  {
   "cell_type": "code",
   "execution_count": 35,
   "id": "e046af3f-9b02-4a21-821f-54bea0588fdc",
   "metadata": {},
   "outputs": [
    {
     "data": {
      "text/html": [
       "14125"
      ],
      "text/latex": [
       "14125"
      ],
      "text/markdown": [
       "14125"
      ],
      "text/plain": [
       "[1] 14125"
      ]
     },
     "metadata": {},
     "output_type": "display_data"
    },
    {
     "data": {
      "text/html": [
       "1"
      ],
      "text/latex": [
       "1"
      ],
      "text/markdown": [
       "1"
      ],
      "text/plain": [
       "[1] 1"
      ]
     },
     "metadata": {},
     "output_type": "display_data"
    }
   ],
   "source": [
    "# ##################### N31: record from the '29' (with 9010 excluded) and unit is not part of '','F','P','M'  ####\n",
    "#table(database$UNIT_OF_MEASUREMENT_2)\n",
    "temp <- database[(is.element(database$IMIS_SUBSTANCE_CODE,substances.list.29)) &\n",
    "                (!is.element(database$UNIT_OF_MEASUREMENT_2,c('','F','P','M'))),]\n",
    "\n",
    "vec_eff <- table(database$YEAR[(is.element(database$IMIS_SUBSTANCE_CODE,substances.list.29)) &\n",
    "                               (!is.element(database$UNIT_OF_MEASUREMENT_2,c('','F','P','M')))])\n",
    "reasons$N31[match(names(vec_eff), reasons$YEAR)] <- vec_eff\n",
    "\n",
    "database <- database[!((is.element(database$IMIS_SUBSTANCE_CODE,substances.list.29)) &\n",
    "                     (!is.element(database$UNIT_OF_MEASUREMENT_2,c('','F','P','M')))),] #exclusion\n",
    "sum(reasons$N31,na.rm = TRUE)\n",
    "length(database[,1]) #1371807(-2310)\n",
    "#temp <- database[database$UNIT_OF_MEASUREMENT_2==\"%\",]"
   ]
  },
  {
   "cell_type": "code",
   "execution_count": 36,
   "id": "83a234a1-5437-4eb9-8ddd-af660a7c50a9",
   "metadata": {},
   "outputs": [
    {
     "data": {
      "text/plain": [
       "\n",
       "        % eliminate         F         M      None         P         X         Y \n",
       "    35329      1639     18871   1019691     17554    267242       828        71 "
      ]
     },
     "metadata": {},
     "output_type": "display_data"
    },
    {
     "data": {
      "text/html": [
       "4336"
      ],
      "text/latex": [
       "4336"
      ],
      "text/markdown": [
       "4336"
      ],
      "text/plain": [
       "[1] 4336"
      ]
     },
     "metadata": {},
     "output_type": "display_data"
    },
    {
     "data": {
      "text/html": [
       "1"
      ],
      "text/latex": [
       "1"
      ],
      "text/markdown": [
       "1"
      ],
      "text/plain": [
       "[1] 1"
      ]
     },
     "metadata": {},
     "output_type": "display_data"
    }
   ],
   "source": [
    "# ##################### N32: record from substance '9010' : if not '','%' or 'M' eliminate  ####\n",
    "table(database$UNIT_OF_MEASUREMENT_2)\n",
    "\n",
    "temp <- database[(is.element(database$IMIS_SUBSTANCE_CODE,'9010')) &\n",
    "                 (!is.element(database$UNIT_OF_MEASUREMENT_2,c('','%','M'))),]\n",
    "\n",
    "vec_eff <- table(database$YEAR[(is.element(database$IMIS_SUBSTANCE_CODE,'9010')) &\n",
    "                               (!is.element(database$UNIT_OF_MEASUREMENT_2,c('','%','M')))])\n",
    "reasons$N32[match(names(vec_eff), reasons$YEAR)] <- vec_eff\n",
    "\n",
    "database <- database[!((is.element(database$IMIS_SUBSTANCE_CODE,'9010')) &\n",
    "                       (!is.element(database$UNIT_OF_MEASUREMENT_2,c('','%','M')))),] #exclusion\n",
    "sum(reasons$N32,na.rm = TRUE)\n",
    "length(database[,1]) #1371631(-176)\n",
    "#temp <- database[database$UNIT_OF_MEASUREMENT_2==\"%\",]"
   ]
  },
  {
   "cell_type": "code",
   "execution_count": 37,
   "id": "79b4eb95-381b-4f6f-8bae-3cbe19c00124",
   "metadata": {},
   "outputs": [
    {
     "data": {
      "text/html": [
       "15756"
      ],
      "text/latex": [
       "15756"
      ],
      "text/markdown": [
       "15756"
      ],
      "text/plain": [
       "[1] 15756"
      ]
     },
     "metadata": {},
     "output_type": "display_data"
    },
    {
     "data": {
      "text/html": [
       "1"
      ],
      "text/latex": [
       "1"
      ],
      "text/markdown": [
       "1"
      ],
      "text/plain": [
       "[1] 1"
      ]
     },
     "metadata": {},
     "output_type": "display_data"
    }
   ],
   "source": [
    "# ##################### N33: record not from 29 substances or  '9010' : if not '','P','F','%' or 'M' eliminate  ####\n",
    "#table(database$UNIT_OF_MEASUREMENT_2)\n",
    "restrict <- !database$IMIS_SUBSTANCE_CODE=='9010' & !is.element(database$IMIS_SUBSTANCE_CODE,substances.list.29)\n",
    "temp <- database[restrict & (!is.element(database$UNIT_OF_MEASUREMENT_2,c('','%','M','P','F'))),]\n",
    "\n",
    "vec_eff <- table(database$YEAR[restrict & (!is.element(database$UNIT_OF_MEASUREMENT_2,c('','%','M','P','F')))])\n",
    "reasons$N33[match(names(vec_eff), reasons$YEAR)] <- vec_eff\n",
    "\n",
    "database <- database[!(restrict & (!is.element(database$UNIT_OF_MEASUREMENT_2,c('','%','M','P','F')))),] #exclusion\n",
    "sum(reasons$N33,na.rm = TRUE)\n",
    "length(database[,1]) #1369269(-2362)\n",
    "#temp <- database[database$UNIT_OF_MEASUREMENT_2==\"%\",]"
   ]
  },
  {
   "cell_type": "code",
   "execution_count": 39,
   "id": "ca8f669e-dbf5-4a46-9936-1fd2cba0af3f",
   "metadata": {},
   "outputs": [
    {
     "data": {
      "text/html": [
       "852780"
      ],
      "text/latex": [
       "852780"
      ],
      "text/markdown": [
       "852780"
      ],
      "text/plain": [
       "[1] 852780"
      ]
     },
     "metadata": {},
     "output_type": "display_data"
    },
    {
     "data": {
      "text/html": [
       "0"
      ],
      "text/latex": [
       "0"
      ],
      "text/markdown": [
       "0"
      ],
      "text/plain": [
       "[1] 0"
      ]
     },
     "metadata": {},
     "output_type": "display_data"
    },
    {
     "data": {
      "text/html": [
       "2846"
      ],
      "text/latex": [
       "2846"
      ],
      "text/markdown": [
       "2846"
      ],
      "text/plain": [
       "[1] 2846"
      ]
     },
     "metadata": {},
     "output_type": "display_data"
    },
    {
     "data": {
      "text/html": [
       "1"
      ],
      "text/latex": [
       "1"
      ],
      "text/markdown": [
       "1"
      ],
      "text/plain": [
       "[1] 1"
      ]
     },
     "metadata": {},
     "output_type": "display_data"
    },
    {
     "data": {
      "text/html": [
       "0"
      ],
      "text/latex": [
       "0"
      ],
      "text/markdown": [
       "0"
      ],
      "text/plain": [
       "[1] 0"
      ]
     },
     "metadata": {},
     "output_type": "display_data"
    },
    {
     "data": {
      "text/html": [
       "3091"
      ],
      "text/latex": [
       "3091"
      ],
      "text/markdown": [
       "3091"
      ],
      "text/plain": [
       "[1] 3091"
      ]
     },
     "metadata": {},
     "output_type": "display_data"
    },
    {
     "data": {
      "text/plain": [
       "\n",
       "      %       F       M       P \n",
       "  32483   18871 1019691  267242 "
      ]
     },
     "metadata": {},
     "output_type": "display_data"
    },
    {
     "data": {
      "text/plain": [
       "\n",
       "          %           F           M M.from.Perc           P \n",
       "      16779       18871     1019691       15704      267242 "
      ]
     },
     "metadata": {},
     "output_type": "display_data"
    }
   ],
   "source": [
    "# ##################### N34: elimination when unit is perc (%) and the result is non null but sample weight is null ####\n",
    "#missing sampling weight replaced by 0\n",
    "database$SAMPLE_WEIGHT_2 <- database$SAMPLE_WEIGHT\n",
    "length(database$SAMPLE_WEIGHT_2[is.na(database$SAMPLE_WEIGHT)])\n",
    "database$SAMPLE_WEIGHT_2[is.na(database$SAMPLE_WEIGHT)] <- 0\n",
    "length(database$SAMPLE_WEIGHT_2[is.na(database$SAMPLE_WEIGHT_2)])\n",
    "\n",
    "temp <- database[database$SAMPLE_WEIGHT_2==0 & database$UNIT_OF_MEASUREMENT_2==\"%\" & \n",
    "               database$SAMPLE_RESULT_2>0,]\n",
    "\n",
    "vec_eff <- table(database$YEAR[database$SAMPLE_WEIGHT_2==0 & database$UNIT_OF_MEASUREMENT_2==\"%\" & \n",
    "                               database$SAMPLE_RESULT_2>0])\n",
    "reasons$N34[match(names(vec_eff), reasons$YEAR)] <- vec_eff\n",
    "\n",
    "database <- database[!(database$SAMPLE_WEIGHT_2==0 & database$UNIT_OF_MEASUREMENT_2==\"%\" & \n",
    "                       database$SAMPLE_RESULT_2>0),] #exclusion\n",
    "sum(reasons$N34,na.rm = TRUE)\n",
    "length(database[,1]) #1366423(-2846)\n",
    "\n",
    "#transformation of percs into mg/m3\t\t\t\t\t\t\t\t\t\t\n",
    "length(database$SAMPLE_WEIGHT_2[is.na(database$SAMPLE_WEIGHT_2)]) #[1] 0\n",
    "length(database$AIR_VOLUME_SAMPLED[is.na(database$AIR_VOLUME_SAMPLED)]) #[1] 3309\n",
    "table(database$UNIT_OF_MEASUREMENT_2)\n",
    "#            %       F       M       P \n",
    "#28136   32483   18871 1019691  267242\n",
    "\n",
    "restrict.1 <- database$SAMPLE_WEIGHT_2!=0 &\n",
    "database$UNIT_OF_MEASUREMENT_2=='%' &\n",
    "database$SAMPLE_RESULT_2>0 &\n",
    "!is.na(database$SAMPLE_WEIGHT_2) &\n",
    "!is.na(database$AIR_VOLUME_SAMPLED) & database$AIR_VOLUME_SAMPLED>0\n",
    "\n",
    "database$SAMPLE_RESULT_3 <- database$SAMPLE_RESULT_2\n",
    "\n",
    "database$SAMPLE_RESULT_3[restrict.1] <- database$SAMPLE_RESULT_2[restrict.1]*\n",
    "database$SAMPLE_WEIGHT_2[restrict.1]*10/\n",
    "database$AIR_VOLUME_SAMPLED[restrict.1]\t\t\t\t\t\t\t\t\t\t\n",
    "\n",
    "database$UNIT_OF_MEASUREMENT_2[restrict.1] <- 'M.from.Perc'\n",
    "temp <- database[database$UNIT_OF_MEASUREMENT_2==\"P\",]\n",
    "\n",
    "table(database$UNIT_OF_MEASUREMENT_2)\n",
    "#                %           F           M M.from.Perc           P \n",
    "#28136       16779       18871     1019691       15704      26724 "
   ]
  },
  {
   "cell_type": "code",
   "execution_count": 40,
   "id": "15400d57-7268-446b-9f71-21094945d8b8",
   "metadata": {},
   "outputs": [],
   "source": [
    "write_parquet(database, 'database.parquet')"
   ]
  },
  {
   "cell_type": "code",
   "execution_count": null,
   "id": "e1b6b338-def2-4ef3-9329-96e18c958055",
   "metadata": {},
   "outputs": [],
   "source": [
    "# ##################### N20: elimination of the records that have a missing value for the office ID  ####\n",
    "temp <- database[is.na(database$OFFICE_ID),]\n",
    "\n",
    "vec_eff <- table(database$YEAR[is.na(database$OFFICE_ID)])\n",
    "reasons$N20[match(names(vec_eff), reasons$YEAR)] <- vec_eff\n",
    "\n",
    "database <- database[!is.na(database$OFFICE_ID),] #exclusion\n",
    "sum(reasons$N20,na.rm = TRUE)\n",
    "length(database[,1]) #1363807(-2616)\n",
    "\n",
    "\n",
    "# ##################### N21: records that have a missing time_sampled variable are deleted  ####\n",
    "temp <- database[is.na(database$TIME_SAMPLED),]\n",
    "\n",
    "vec_eff <- table(database$YEAR[is.na(database$TIME_SAMPLED)])\n",
    "reasons$N21[match(names(vec_eff), reasons$YEAR)] <- vec_eff\n",
    "\n",
    "database <- database[!is.na(database$TIME_SAMPLED),] #exclusion\n",
    "sum(reasons$N21,na.rm = TRUE)\n",
    "length(database[,1]) #1362164(-1643)\n",
    "\n",
    "\n",
    "# ##################### N26: elimination of the records that have a null time_sampled variable   ####\n",
    "temp <- database[database$TIME_SAMPLED==0,]\n",
    "\n",
    "vec_eff <- table(database$YEAR[database$TIME_SAMPLED==0])\n",
    "reasons$N26[match(names(vec_eff), reasons$YEAR)] <- vec_eff\n",
    "\n",
    "database <- database[database$TIME_SAMPLED!=0,] #exclusion\n",
    "sum(reasons$N26,na.rm = TRUE)\n",
    "length(database[,1]) #1357348(-4816)\n",
    "\n",
    "\n",
    "# ##################### N28: elimination of sample results less than 0   ####\n",
    "temp <- database[database$SAMPLE_RESULT_3<0,]\n",
    "\n",
    "vec_eff <- table(database$YEAR[database$SAMPLE_RESULT_3<0])\n",
    "reasons$N28[match(names(vec_eff), reasons$YEAR)] <- vec_eff\n",
    "\n",
    "database <- database[database$SAMPLE_RESULT_3>=0,] #exclusion\n",
    "sum(reasons$N28,na.rm = TRUE)\n",
    "length(database[,1]) #1357347(-1)\n",
    "\n",
    "\n",
    "# ##################### N25: records to be deleted because of a missing or null sampling number   ####\n",
    "temp <- database[is.na(database$SAMPLING_NUMBER) | database$SAMPLING_NUMBER==0,]\n",
    "\n",
    "vec_eff <- table(database$YEAR[is.na(database$SAMPLING_NUMBER) | database$SAMPLING_NUMBER==0])\n",
    "reasons$N25[match(names(vec_eff), reasons$YEAR)] <- vec_eff\n",
    "\n",
    "database <- database[!(is.na(database$SAMPLING_NUMBER) | database$SAMPLING_NUMBER==0),] #exclusion\n",
    "sum(reasons$N25,na.rm = TRUE)\n",
    "length(database[,1]) #1355916(-1431)\n",
    "\n",
    "\n",
    "# ##################### N22: records that have a NA or '' volume sampled variable are deleted   ####\n",
    "summary(database$AIR_VOLUME_SAMPLED)\n",
    "#  Min.  1st Qu.   Median     Mean  3rd Qu.     Max.     NA's \n",
    "#   0.0     32.1    316.6    370.3    608.9 924560.0     1705 \n",
    "temp <- database[is.na(database$AIR_VOLUME_SAMPLED),] #1705\n",
    "temp <- database[is.na(database$AIR_VOLUME_SAMPLED) | database$AIR_VOLUME_SAMPLED=='',] #1705\n",
    "\n",
    "vec_eff <- table(database$YEAR[is.na(database$AIR_VOLUME_SAMPLED) | database$AIR_VOLUME_SAMPLED==''])\n",
    "reasons$N22[match(names(vec_eff), reasons$YEAR)] <- vec_eff\n",
    "\n",
    "database <- database[!(is.na(database$AIR_VOLUME_SAMPLED) | database$AIR_VOLUME_SAMPLED==''),] #exclusion\n",
    "sum(reasons$N22,na.rm = TRUE)\n",
    "length(database[,1]) #1354211(-1705)\n",
    "\n",
    "\n",
    "# ##################### N27: elimination of records that have an air volume sampled of zero   ####\n",
    "summary(database$AIR_VOLUME_SAMPLED)\n",
    "#  Min.  1st Qu.   Median     Mean  3rd Qu.     Max.     \n",
    "#   0.0     32.1    316.6    370.3    608.9 924560.0     \n",
    "temp <- database[database$AIR_VOLUME_SAMPLED==0,] \n",
    "\n",
    "vec_eff <- table(database$YEAR[database$AIR_VOLUME_SAMPLED==0])\n",
    "reasons$N27[match(names(vec_eff), reasons$YEAR)] <- vec_eff\n",
    "\n",
    "database <- database[database$AIR_VOLUME_SAMPLED>0,] #exclusion\n",
    "sum(reasons$N27,na.rm = TRUE)\n",
    "length(database[,1]) #1341727(-12484)\n",
    "\n",
    "\n",
    "# ##################### N35: instrument type is equal to ''   ####\n",
    "#temp <- database[database$INSTRUMENT_TYPE=='' & !is.na(database$INSTRUMENT_TYPE),] \n",
    "#temp <- database[is.na(database$INSTRUMENT_TYPE),] \n",
    "#table(temp$YEAR)\n",
    "\n",
    "restrictN35 <- database$INSTRUMENT_TYPE=='' & !is.na(database$INSTRUMENT_TYPE)\n",
    "#table(restrictN35)\n",
    "\n",
    "temp <- database[restrictN35,]\n",
    "\n",
    "vec_eff <- table(database$YEAR[restrictN35])\n",
    "reasons$N35[match(names(vec_eff), reasons$YEAR)] <- vec_eff\n",
    "\n",
    "database <- database[!restrictN35,] #exclusion\n",
    "sum(reasons$N35,na.rm = TRUE)\n",
    "length(database[,1]) #1341727(-0)\n",
    "\n",
    "\n",
    "# ##################### N37: instrument type is missing   ####\n",
    "#****NAs are not removed at this step: they are treated at N36**** \n",
    "temp <- database[is.na(database$INSTRUMENT_TYPE),] \n",
    "table(temp$YEAR)\n",
    "restrictN37 <- is.na(database$INSTRUMENT_TYPE)\n",
    "table(restrictN37)\n",
    "#  FALSE    TRUE \n",
    "#1171397  170330 \n",
    "\n",
    "\n",
    "# ##################### N36: cleaning of instrument type ####\n",
    "database$INSTRUMENT_TYPE[is.na(database$INSTRUMENT_TYPE)] <- ''\n",
    "length(database$INSTRUMENT_TYPE[database$INSTRUMENT_TYPE=='']) #[1] 170330\n",
    "temp <- database[database$INSTRUMENT_TYPE=='',]\n",
    "\n",
    "### cleaning strategy ###\n",
    "#original 81 substances: clean for 1984-2009 using IT tables\n",
    "#original 81 substances: copy raw IT for 2010-2011\n",
    "#new substances: copy raw IT for 1984-2011\n",
    "#all substances: indicate \"not recorded\" for 2013-2018\n",
    "\n",
    "#1) all substances: create INSTRUMENT_TYPE_2 variable + indicate \"not recorded\" for all years (1984-2018)\n",
    "database$INSTRUMENT_TYPE_2 <- 'not recorded'\n",
    "\n",
    "#2) all substances: copy raw IT for 1984-2011\n",
    "database$INSTRUMENT_TYPE_2[as.numeric(as.character(database$YEAR))<2012] <- database$INSTRUMENT_TYPE[as.numeric(as.character(database$YEAR))<2012]\n",
    "temp <- database[database$INSTRUMENT_TYPE_2=='not recorded',]\n",
    "table(temp$YEAR)\n",
    "\n",
    "#3) original 81 substances: clean for 1984-2009 using IT tables\n",
    "#store tables in a list object\n",
    "setwd('C:\\\\Users\\\\phisar\\\\Dropbox (IRSST)\\\\PhD\\\\Projet IMIS\\\\R�sultats\\\\IMIS_ND_predict\\\\CEHD 84_18\\\\Conversion tables IT')\n",
    "files <- list.files()\n",
    "n <- length(files)\n",
    "data.list <- vector(mode=\"list\",n)\n",
    "\n",
    "for (i in 1:n) {\n",
    "subs_code <- substr(files[i],3,6)\n",
    "data.list[[i]] <- read.csv(files[i],sep=\",\", header=TRUE)\n",
    "names(data.list)[i] <- subs_code\n",
    "print(i)\n",
    "}\n",
    "\n",
    "data.list[i]\n",
    "\n",
    "length(database$IMIS_SUBSTANCE_CODE[database$IMIS_SUBSTANCE_CODE==\"0040\"])\n",
    "#[1] 10726\n",
    "length(database$IMIS_SUBSTANCE_CODE[database$IMIS_SUBSTANCE_CODE==\"0040\" & as.numeric(as.character(database$YEAR))<2010])\n",
    "#[1] 9691\n",
    "\n",
    "for (i in 1:n) {\n",
    "\n",
    "restrict <- database$IMIS_SUBSTANCE_CODE==names(data.list)[i] & as.numeric(as.character(database$YEAR))<2010\n",
    "table(restrict)\n",
    "\n",
    "unik.clean <- unique(data.list[[i]]$clean)\n",
    "\n",
    "for (j in 1:length(unik.clean))\n",
    "{\n",
    "  one.clean <- as.character(unik.clean)[j]\n",
    "  raw.values <- as.character(data.list[[i]]$raw[data.list[[i]]$clean==one.clean])\n",
    "  \n",
    "  database$INSTRUMENT_TYPE_2[restrict & is.element(database$INSTRUMENT_TYPE,raw.values)] <- one.clean\n",
    " }\n",
    "\n",
    "print(i)\n",
    "}\n",
    "\n",
    "#verifications\n",
    "#View(database[,c(9,11,22,26,32,33)])\n",
    "#View(database[database$INSTRUMENT_TYPE=='',c(9,11,22,26,32,33)])\n",
    "#View(database[database$INSTRUMENT_TYPE_2=='',c(9,11,22,26,32,33)])\n",
    "\n",
    "temp <- database[database$INSTRUMENT_TYPE_2=='',]\n",
    "table(temp$YEAR)\n",
    "\n",
    "temp <- database[database$IMIS_SUBSTANCE_CODE==\"9135\",c(9,11,26,32,33)]\n",
    "temp <- database[database$IMIS_SUBSTANCE_CODE==\"9135\" & database$INSTRUMENT_TYPE=='',c(9,11,26,32,33)]\n",
    "table(temp$YEAR)\n",
    "\n",
    "#4) replace INSTRUMENT_TYPE_2=='' by INSTRUMENT_TYPE_2=='eliminate' (these records correspond to \n",
    "#   new substances <2012 which didn't have an IT recorded)\n",
    "length(database$INSTRUMENT_TYPE_2[database$INSTRUMENT_TYPE_2=='']) #[1] 129\n",
    "database$INSTRUMENT_TYPE_2[database$INSTRUMENT_TYPE_2==''] <- 'eliminate'\n",
    "\n",
    "\n",
    "#exclusion\n",
    "restrictN36 <- database$INSTRUMENT_TYPE_2=='eliminate'\n",
    "table(restrictN36)\n",
    "#  FALSE    TRUE \n",
    "#1330338   11389\n",
    "\n",
    "temp <- database[restrictN36,]\n",
    "\n",
    "vec_eff <- table(database$YEAR[restrictN36])\n",
    "reasons$N36[match(names(vec_eff), reasons$YEAR)] <- vec_eff\n",
    "\n",
    "database <- database[!restrictN36,] #exclusion\n",
    "sum(reasons$N36,na.rm = TRUE)\n",
    "length(database[,1]) #1330338(-11389)\n",
    "\n",
    "\n",
    "# ##################### Duplicates ####\n",
    "names(database)\n",
    "#creating the hash variable\n",
    "database$HASH <- paste(database$INSPECTION_NUMBER,\n",
    "                     database$IMIS_SUBSTANCE_CODE,\n",
    "                     database$SAMPLING_NUMBER,\n",
    "                     database$FIELD_NUMBER,sep='-')\n",
    "\n",
    "#file listing the problematic hash codes\t\t\t\t\t\n",
    "bla <- data.frame(table(database$HASH),stringsAsFactors=F)\n",
    "names(bla) <- c('name','n')\n",
    "bla <- bla[bla$n>1,]\n",
    "bla$name <- as.character(bla$name)\n",
    "bla$code <- database$IMIS_SUBSTANCE_CODE[match(bla$name,database$HASH)]\n",
    "bla$sub <- database$SUBSTANCE[match(bla$name,database$HASH)]\n",
    "length(bla$name) #[1] 6587\n",
    "sum(bla$n) #[1] 13197\n",
    "\n",
    "#creating a concatenated variable to identify if there are true duplicates\n",
    "database$CONCAT <- paste(database$LAB_NUMBER,\n",
    "                       database$STATE,\n",
    "                       database$ZIP_CODE,\n",
    "                       database$YEAR,\n",
    "                       database$TIME_SAMPLED,\n",
    "                       database$SAMPLE_WEIGHT_2,\n",
    "                       sep='-')\n",
    "\n",
    "\n",
    "#identification of cases where \"CONCAT\" is the same \n",
    "bla$concatdiff <- rep(F,length(bla[,1]))\n",
    "\n",
    "for (i in 1:length(bla[,1])) {\n",
    "\n",
    "if (length(unique(database$CONCAT[database$HASH==bla$name[i]]))!=1) bla$concatdiff[i] <- T \n",
    "print(i)\n",
    "\n",
    "}\n",
    "\n",
    "table(bla$concatdiff)\n",
    "\n",
    "bla$name\n",
    "bla$name[1]\n",
    "temp <- database[database$HASH==\"100014786-9010-1179480-HLR1\",]\n",
    "\n",
    "saveRDS(bla, file=\"C:\\\\Users\\\\phisar\\\\Dropbox (IRSST)\\\\PhD\\\\Projet IMIS\\\\R�sultats\\\\IMIS_ND_predict\\\\CEHD 84_18\\\\bla.Rda\")\n",
    "bla <- readRDS(file=\"C:\\\\Users\\\\phisar\\\\Dropbox (IRSST)\\\\PhD\\\\Projet IMIS\\\\R�sultats\\\\IMIS_ND_predict\\\\CEHD 84_18\\\\bla.Rda\")\n",
    "table(bla$concatdiff)\n",
    "#FALSE  TRUE \n",
    "# 3136  3451 \n",
    "sum(bla$n) #[1] 13197\n",
    "sum(bla$n[bla$concatdiff==FALSE]) #[1] 6272\n",
    "sum(bla$n[bla$concatdiff==TRUE]) #[1] 6925\n",
    "\n",
    "#### M: false duplicates ####\n",
    "#list of hash codes to eliminate because \"CONCAT\" variable varies\n",
    "Hash.list.diff.concat <- bla$name[bla$concatdiff==TRUE]\n",
    "\n",
    "#elimination of these\n",
    "restrictM <- is.element(database$HASH,Hash.list.diff.concat)\n",
    "\n",
    "temp <- database[restrictM,] \n",
    "\n",
    "vec_eff <- table(database$YEAR[restrictM])\n",
    "reasons$M[match(names(vec_eff), reasons$YEAR)] <- vec_eff\n",
    "\n",
    "database.1 <- database[!restrictM,] #exclusion\n",
    "sum(reasons$M,na.rm = TRUE)\n",
    "length(database.1[,1]) #1323413(-6925)\n",
    "\n",
    "\n",
    "#### N: true duplicates ####\n",
    "##treatment of cases with equal \"CONCAT\" variable values\n",
    "\n",
    "#we separate the DB into the OK and remaining problematic\n",
    "\n",
    "database.1.ok <- database.1[!is.element(database.1$HASH,bla$name),]\n",
    "length(database.1.ok[,1]) #[1] 1317141\n",
    "database.1.nonok <- database.1[is.element(database.1$HASH,bla$name),]\n",
    "length(database.1.nonok[,1]) #[1] 6272\n",
    "\n",
    "# treating the OK\n",
    "bla.diff <- bla[bla$concatdiff==FALSE,]\n",
    "table(bla.diff$n>2)\n",
    "table(database$UNIT_OF_MEASUREMENT_2[is.element(database$HASH,bla.diff$name)])\n",
    "table(database$IMIS_SUBSTANCE_CODE[is.element(database$HASH,bla.diff$name)])\n",
    "#0040 0430 0520 0685 0720 0731 1591 1631 1720 1790 2460 2590 9010 9015 9020 C141 S103 T177 \n",
    "#   2    2   14    2    2    2   24   10    2    2    6   22 6084   50   30   12    4    2\n",
    "true.duplicates <- database[is.element(database$HASH,bla.diff$name),]\n",
    "\n",
    "# majority is 9010 (e.g. duplicates of \"M\" and \"M.from.Perc\" cases) \n",
    "# only 9010 treated, remaining cases are deleted\n",
    "database.1.nonok.9010 <- database.1.nonok[database.1.nonok$IMIS_SUBSTANCE_CODE==\"9010\",]\n",
    "length(database.1.nonok.9010[,1]) #[1]  6084\n",
    "table(database.1.nonok.9010$UNIT_OF_MEASUREMENT_2)\n",
    "#              %           M M.from.Perc \n",
    "#437        1177        2822        1648 \n",
    "temp <- database.1.nonok.9010[database.1.nonok.9010$UNIT_OF_MEASUREMENT_2=='M.from.Perc',]\n",
    "#data are sorted according to HASH and one out of 2 records is retained\n",
    "database.1.nonok.9010 <- database.1.nonok.9010[order(database.1.nonok.9010$HASH),]\n",
    "database.1.nonok.9010 <- database.1.nonok.9010[seq(from=1,to=6083,by=2),]\n",
    "length(database.1.nonok.9010[,1]) #[1]  3042\n",
    "\n",
    "# binding of two subsets of database.1\n",
    "database.final <- rbind(database.1.ok,database.1.nonok.9010)\n",
    "nrow(database.1) - nrow(database.final)\n",
    "length(database.final[,1]) #[1] 1320183 (-3230)\n",
    "\n",
    "\n",
    "#### finalizing database ####\n",
    "#finalizing variable class\n",
    "str(database.final)\n",
    "\n",
    "database.final$LAB_NUMBER <- as.character(database.final$LAB_NUMBER)\n",
    "database.final$OFFICE_ID <- as.character(database.final$OFFICE_ID)\n",
    "database.final$SIC_CODE <- as.character(database.final$SIC_CODE)\n",
    "database.final$STATE <- as.character(database.final$STATE)\n",
    "database.final$ZIP_CODE <- as.character(database.final$ZIP_CODE)\n",
    "\n",
    "saveRDS(database.final, file=\"C:\\\\Users\\\\phisar\\\\Dropbox (IRSST)\\\\PhD\\\\Projet IMIS\\\\R�sultats\\\\IMIS_ND_predict\\\\CEHD 84_18\\\\CEHD_84_18_clean_allfields.rds\")\n",
    "\n",
    "#final variable names\n",
    "#CEHD <- read.csv(\"C:\\\\Users\\\\phisar\\\\Documents\\\\Data_CEHD\\\\CEHD.csv\",sep=\",\", header=T)\n",
    "#dim(CEHD) #[1] 1037395      23\n",
    "#names(CEHD)\n",
    "#[1] \"inspection_number\"     \"establishment_name\"    \"city\"                  \"state\"                 \"zip_code\"             \n",
    "#[6] \"sic_code\"              \"naics_code\"            \"sampling_number\"       \"office_id\"             \"date_sampled\"         \n",
    "#[11] \"date_reported\"         \"field_number\"          \"time_sampled\"          \"imis_substance_code\"   \"substance\"            \n",
    "#[16] \"unit_of_measurement_N\" \"sample_weight_N\"       \"air_volume_sampled_N\"  \"sample_result_N\"       \"instrument_type_N\"    \n",
    "#[21] \"hash\"                  \"data_source\"           \"position_in_source\"   \n",
    "\n",
    "names(database.final)\n",
    "#[1] \"AIR_VOLUME_SAMPLED\"    \"BLANK_USED\"            \"CITY\"                  \"DATE_REPORTED\"         \"DATE_SAMPLED\"         \n",
    "#[6] \"EIGHT_HOUR_TWA_CALC\"   \"ESTABLISHMENT_NAME\"    \"FIELD_NUMBER\"          \"IMIS_SUBSTANCE_CODE\"   \"INSPECTION_NUMBER\"    \n",
    "#[11] \"INSTRUMENT_TYPE\"       \"LAB_NUMBER\"            \"NAICS_CODE\"            \"OFFICE_ID\"             \"QUALIFIER\"            \n",
    "#[16] \"SAMPLE_RESULT\"         \"SAMPLE_TYPE\"           \"SAMPLE_WEIGHT\"         \"SAMPLING_NUMBER\"       \"SIC_CODE\"             \n",
    "#[21] \"STATE\"                 \"SUBSTANCE\"             \"TIME_SAMPLED\"          \"UNIT_OF_MEASUREMENT\"   \"ZIP_CODE\"             \n",
    "#[26] \"YEAR\"                  \"CENSORED\"              \"SAMPLE_RESULT_2\"       \"UNIT_OF_MEASUREMENT_2\" \"QUALIFIER_2\"          \n",
    "#[31] \"SAMPLE_WEIGHT_2\"       \"SAMPLE_RESULT_3\"       \"INSTRUMENT_TYPE_2\"     \"HASH\"                  \"CONCAT\"    \n",
    "\n",
    "names(database.final)[1] <-'air_volume_sampled_N'\n",
    "names(database.final)[3] <-'city'\n",
    "names(database.final)[4] <-'date_reported'\n",
    "names(database.final)[5] <-'date_sampled'\n",
    "names(database.final)[7] <-'establishment_name'\n",
    "names(database.final)[8] <-'field_number'\n",
    "names(database.final)[9] <-'imis_substance_code'\n",
    "names(database.final)[10] <-'inspection_number'\n",
    "names(database.final)[12] <-'lab_number'\n",
    "names(database.final)[13] <-'naics_code'\n",
    "names(database.final)[14] <-'office_id'\n",
    "names(database.final)[19] <-'sampling_number'\n",
    "names(database.final)[20] <-'sic_code'\n",
    "names(database.final)[21] <-'state'\n",
    "names(database.final)[22] <-'substance'\n",
    "names(database.final)[23] <-'time_sampled'\n",
    "names(database.final)[25] <-'zip_code'\n",
    "names(database.final)[26] <-'year'\n",
    "names(database.final)[29] <-'unit_of_measurement_N'\n",
    "names(database.final)[31] <-'sample_weight_N'\n",
    "names(database.final)[32] <-'sample_result_N'\n",
    "names(database.final)[33] <-'instrument_type_N'\n",
    "names(database.final)[34] <-'hash'\n",
    "\n",
    "# selection and ordering of final variables\n",
    "database.final.1 <- database.final[,-c(2,6,11,15,16,17,18,24,27,28,30,35),drop=FALSE]\n",
    "names(database.final.1)\n",
    "#[1] \"air_volume_sampled_N\"  \"city\"                  \"date_reported\"         \"date_sampled\"          \"establishment_name\"   \n",
    "#[6] \"field_number\"          \"imis_substance_code\"   \"inspection_number\"     \"lab_number\"            \"naics_code\"           \n",
    "#[11] \"office_id\"             \"sampling_number\"       \"sic_code\"              \"state\"                 \"substance\"            \n",
    "#[16] \"time_sampled\"          \"zip_code\"              \"year\"                  \"unit_of_measurement_N\" \"sample_weight_N\"      \n",
    "#[21] \"sample_result_N\"       \"instrument_type_N\"     \"hash\"  \n",
    "database.final.2 <- database.final.1[,c(8,5,2,14,17,13,10,12,11,9,4,3,6,18,7,15,22,20,16,1,21,19,23)]\n",
    "dim(database.final.2)\n",
    "# [1] 1320183      23\n",
    "\n",
    "subst <- data.frame(table(database.final.2$imis_substance_code))\n",
    "names(subst) <-c('code','n')\n",
    "subst <- subst[order(-subst$n),]\n",
    "nrow(subst) #[1] 257\n",
    "\n",
    "length(unique(database.final.2$hash))\n",
    "\n",
    "saveRDS(database.final.2, file=\"C:\\\\Users\\\\phisar\\\\Dropbox (IRSST)\\\\PhD\\\\Projet IMIS\\\\R�sultats\\\\IMIS_ND_predict\\\\CEHD 84_18\\\\CEHD_84_18_clean.rds\")\n",
    "\n",
    "cehd <- readRDS(\"C:\\\\Users\\\\phisar\\\\Dropbox (IRSST)\\\\PhD\\\\Projet IMIS\\\\R�sultats\\\\IMIS_ND_predict\\\\CEHD 84_18\\\\CEHD_84_18_clean.rds\")\n",
    "dim(cehd) #[1] 2395071      26\n",
    "# [1] 1320183      23\n",
    "\n",
    "length(cehd$instrument_type_N[cehd$instrument_type_N==\"raw was NA\"])\n",
    "  \n",
    "  \n",
    "  \n",
    "  "
   ]
  }
 ],
 "metadata": {
  "kernelspec": {
   "display_name": "R",
   "language": "R",
   "name": "ir"
  },
  "language_info": {
   "codemirror_mode": "r",
   "file_extension": ".r",
   "mimetype": "text/x-r-source",
   "name": "R",
   "pygments_lexer": "r",
   "version": "4.1.3"
  }
 },
 "nbformat": 4,
 "nbformat_minor": 5
}
